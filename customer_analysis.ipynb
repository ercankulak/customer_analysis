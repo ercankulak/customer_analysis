{
 "cells": [
  {
   "cell_type": "code",
   "execution_count": 1,
   "id": "9bc03394",
   "metadata": {},
   "outputs": [],
   "source": [
    "import matplotlib.pyplot as plt\n",
    "import seaborn as sns\n",
    "import pandas as pd"
   ]
  },
  {
   "cell_type": "code",
   "execution_count": 2,
   "id": "1a57324f",
   "metadata": {},
   "outputs": [],
   "source": [
    "df = pd.read_csv('credit_card_fixed.csv')"
   ]
  },
  {
   "cell_type": "code",
   "execution_count": 3,
   "id": "582ebb0d",
   "metadata": {},
   "outputs": [
    {
     "data": {
      "text/html": [
       "<div>\n",
       "<style scoped>\n",
       "    .dataframe tbody tr th:only-of-type {\n",
       "        vertical-align: middle;\n",
       "    }\n",
       "\n",
       "    .dataframe tbody tr th {\n",
       "        vertical-align: top;\n",
       "    }\n",
       "\n",
       "    .dataframe thead th {\n",
       "        text-align: right;\n",
       "    }\n",
       "</style>\n",
       "<table border=\"1\" class=\"dataframe\">\n",
       "  <thead>\n",
       "    <tr style=\"text-align: right;\">\n",
       "      <th></th>\n",
       "      <th>have_credit_card</th>\n",
       "      <th>card_no</th>\n",
       "      <th>user_id</th>\n",
       "      <th>user_gender</th>\n",
       "      <th>user_age</th>\n",
       "      <th>user_city</th>\n",
       "      <th>total_amount</th>\n",
       "      <th>card_delivery_date</th>\n",
       "    </tr>\n",
       "  </thead>\n",
       "  <tbody>\n",
       "    <tr>\n",
       "      <th>0</th>\n",
       "      <td>Yes</td>\n",
       "      <td>9871326599442434</td>\n",
       "      <td>1</td>\n",
       "      <td>Female</td>\n",
       "      <td>51</td>\n",
       "      <td>Edirne</td>\n",
       "      <td>3466</td>\n",
       "      <td>2022-01-03</td>\n",
       "    </tr>\n",
       "    <tr>\n",
       "      <th>1</th>\n",
       "      <td>Yes</td>\n",
       "      <td>5866643196858919</td>\n",
       "      <td>2</td>\n",
       "      <td>Male</td>\n",
       "      <td>33</td>\n",
       "      <td>İstanbul</td>\n",
       "      <td>2770</td>\n",
       "      <td>2022-01-22</td>\n",
       "    </tr>\n",
       "    <tr>\n",
       "      <th>2</th>\n",
       "      <td>Yes</td>\n",
       "      <td>5934969821915385</td>\n",
       "      <td>4</td>\n",
       "      <td>Female</td>\n",
       "      <td>45</td>\n",
       "      <td>İzmir</td>\n",
       "      <td>3990</td>\n",
       "      <td>2022-01-29</td>\n",
       "    </tr>\n",
       "    <tr>\n",
       "      <th>3</th>\n",
       "      <td>Yes</td>\n",
       "      <td>4583682992593297</td>\n",
       "      <td>5</td>\n",
       "      <td>Female</td>\n",
       "      <td>33</td>\n",
       "      <td>İstanbul</td>\n",
       "      <td>1876</td>\n",
       "      <td>2022-02-18</td>\n",
       "    </tr>\n",
       "    <tr>\n",
       "      <th>4</th>\n",
       "      <td>Yes</td>\n",
       "      <td>9834784352689854</td>\n",
       "      <td>6</td>\n",
       "      <td>Male</td>\n",
       "      <td>41</td>\n",
       "      <td>Ankara</td>\n",
       "      <td>4797</td>\n",
       "      <td>2022-02-07</td>\n",
       "    </tr>\n",
       "  </tbody>\n",
       "</table>\n",
       "</div>"
      ],
      "text/plain": [
       "  have_credit_card           card_no  user_id user_gender  user_age user_city  \\\n",
       "0              Yes  9871326599442434        1      Female        51    Edirne   \n",
       "1              Yes  5866643196858919        2        Male        33  İstanbul   \n",
       "2              Yes  5934969821915385        4      Female        45     İzmir   \n",
       "3              Yes  4583682992593297        5      Female        33  İstanbul   \n",
       "4              Yes  9834784352689854        6        Male        41    Ankara   \n",
       "\n",
       "   total_amount card_delivery_date  \n",
       "0          3466         2022-01-03  \n",
       "1          2770         2022-01-22  \n",
       "2          3990         2022-01-29  \n",
       "3          1876         2022-02-18  \n",
       "4          4797         2022-02-07  "
      ]
     },
     "execution_count": 3,
     "metadata": {},
     "output_type": "execute_result"
    }
   ],
   "source": [
    "df.head()"
   ]
  },
  {
   "cell_type": "code",
   "execution_count": 4,
   "id": "79c8d3ea",
   "metadata": {},
   "outputs": [
    {
     "data": {
      "text/plain": [
       "(451, 8)"
      ]
     },
     "execution_count": 4,
     "metadata": {},
     "output_type": "execute_result"
    }
   ],
   "source": [
    "df.shape"
   ]
  },
  {
   "cell_type": "code",
   "execution_count": 5,
   "id": "b031663b",
   "metadata": {},
   "outputs": [
    {
     "data": {
      "text/html": [
       "<div>\n",
       "<style scoped>\n",
       "    .dataframe tbody tr th:only-of-type {\n",
       "        vertical-align: middle;\n",
       "    }\n",
       "\n",
       "    .dataframe tbody tr th {\n",
       "        vertical-align: top;\n",
       "    }\n",
       "\n",
       "    .dataframe thead th {\n",
       "        text-align: right;\n",
       "    }\n",
       "</style>\n",
       "<table border=\"1\" class=\"dataframe\">\n",
       "  <thead>\n",
       "    <tr style=\"text-align: right;\">\n",
       "      <th></th>\n",
       "      <th>card_no</th>\n",
       "      <th>user_id</th>\n",
       "      <th>user_age</th>\n",
       "      <th>total_amount</th>\n",
       "    </tr>\n",
       "  </thead>\n",
       "  <tbody>\n",
       "    <tr>\n",
       "      <th>count</th>\n",
       "      <td>4.510000e+02</td>\n",
       "      <td>451.000000</td>\n",
       "      <td>451.000000</td>\n",
       "      <td>451.000000</td>\n",
       "    </tr>\n",
       "    <tr>\n",
       "      <th>mean</th>\n",
       "      <td>5.574467e+15</td>\n",
       "      <td>249.853659</td>\n",
       "      <td>37.935698</td>\n",
       "      <td>3548.472284</td>\n",
       "    </tr>\n",
       "    <tr>\n",
       "      <th>std</th>\n",
       "      <td>2.631093e+15</td>\n",
       "      <td>144.039611</td>\n",
       "      <td>11.903233</td>\n",
       "      <td>1651.923984</td>\n",
       "    </tr>\n",
       "    <tr>\n",
       "      <th>min</th>\n",
       "      <td>1.112777e+15</td>\n",
       "      <td>1.000000</td>\n",
       "      <td>18.000000</td>\n",
       "      <td>725.000000</td>\n",
       "    </tr>\n",
       "    <tr>\n",
       "      <th>25%</th>\n",
       "      <td>3.377820e+15</td>\n",
       "      <td>122.500000</td>\n",
       "      <td>28.000000</td>\n",
       "      <td>2154.500000</td>\n",
       "    </tr>\n",
       "    <tr>\n",
       "      <th>50%</th>\n",
       "      <td>5.497366e+15</td>\n",
       "      <td>253.000000</td>\n",
       "      <td>37.000000</td>\n",
       "      <td>3295.000000</td>\n",
       "    </tr>\n",
       "    <tr>\n",
       "      <th>75%</th>\n",
       "      <td>7.849892e+15</td>\n",
       "      <td>374.500000</td>\n",
       "      <td>48.500000</td>\n",
       "      <td>4661.500000</td>\n",
       "    </tr>\n",
       "    <tr>\n",
       "      <th>max</th>\n",
       "      <td>9.982414e+15</td>\n",
       "      <td>500.000000</td>\n",
       "      <td>59.000000</td>\n",
       "      <td>8555.000000</td>\n",
       "    </tr>\n",
       "  </tbody>\n",
       "</table>\n",
       "</div>"
      ],
      "text/plain": [
       "            card_no     user_id    user_age  total_amount\n",
       "count  4.510000e+02  451.000000  451.000000    451.000000\n",
       "mean   5.574467e+15  249.853659   37.935698   3548.472284\n",
       "std    2.631093e+15  144.039611   11.903233   1651.923984\n",
       "min    1.112777e+15    1.000000   18.000000    725.000000\n",
       "25%    3.377820e+15  122.500000   28.000000   2154.500000\n",
       "50%    5.497366e+15  253.000000   37.000000   3295.000000\n",
       "75%    7.849892e+15  374.500000   48.500000   4661.500000\n",
       "max    9.982414e+15  500.000000   59.000000   8555.000000"
      ]
     },
     "execution_count": 5,
     "metadata": {},
     "output_type": "execute_result"
    }
   ],
   "source": [
    "df.describe()"
   ]
  },
  {
   "cell_type": "code",
   "execution_count": 6,
   "id": "f830acbe",
   "metadata": {},
   "outputs": [
    {
     "data": {
      "text/html": [
       "<div>\n",
       "<style scoped>\n",
       "    .dataframe tbody tr th:only-of-type {\n",
       "        vertical-align: middle;\n",
       "    }\n",
       "\n",
       "    .dataframe tbody tr th {\n",
       "        vertical-align: top;\n",
       "    }\n",
       "\n",
       "    .dataframe thead th {\n",
       "        text-align: right;\n",
       "    }\n",
       "</style>\n",
       "<table border=\"1\" class=\"dataframe\">\n",
       "  <thead>\n",
       "    <tr style=\"text-align: right;\">\n",
       "      <th></th>\n",
       "      <th>user_age</th>\n",
       "    </tr>\n",
       "    <tr>\n",
       "      <th>user_city</th>\n",
       "      <th></th>\n",
       "    </tr>\n",
       "  </thead>\n",
       "  <tbody>\n",
       "    <tr>\n",
       "      <th>Amasya</th>\n",
       "      <td>37.605263</td>\n",
       "    </tr>\n",
       "    <tr>\n",
       "      <th>Ankara</th>\n",
       "      <td>37.416667</td>\n",
       "    </tr>\n",
       "    <tr>\n",
       "      <th>Antalya</th>\n",
       "      <td>40.146341</td>\n",
       "    </tr>\n",
       "    <tr>\n",
       "      <th>Bursa</th>\n",
       "      <td>40.523810</td>\n",
       "    </tr>\n",
       "    <tr>\n",
       "      <th>Edirne</th>\n",
       "      <td>38.742857</td>\n",
       "    </tr>\n",
       "    <tr>\n",
       "      <th>Kocaeli</th>\n",
       "      <td>37.382353</td>\n",
       "    </tr>\n",
       "    <tr>\n",
       "      <th>İstanbul</th>\n",
       "      <td>36.868852</td>\n",
       "    </tr>\n",
       "    <tr>\n",
       "      <th>İzmir</th>\n",
       "      <td>37.558140</td>\n",
       "    </tr>\n",
       "  </tbody>\n",
       "</table>\n",
       "</div>"
      ],
      "text/plain": [
       "            user_age\n",
       "user_city           \n",
       "Amasya     37.605263\n",
       "Ankara     37.416667\n",
       "Antalya    40.146341\n",
       "Bursa      40.523810\n",
       "Edirne     38.742857\n",
       "Kocaeli    37.382353\n",
       "İstanbul   36.868852\n",
       "İzmir      37.558140"
      ]
     },
     "execution_count": 6,
     "metadata": {},
     "output_type": "execute_result"
    }
   ],
   "source": [
    "df.groupby('user_city').agg({'user_age': 'mean'})"
   ]
  },
  {
   "cell_type": "code",
   "execution_count": 7,
   "id": "d1d26f32",
   "metadata": {},
   "outputs": [
    {
     "data": {
      "text/html": [
       "<div>\n",
       "<style scoped>\n",
       "    .dataframe tbody tr th:only-of-type {\n",
       "        vertical-align: middle;\n",
       "    }\n",
       "\n",
       "    .dataframe tbody tr th {\n",
       "        vertical-align: top;\n",
       "    }\n",
       "\n",
       "    .dataframe thead th {\n",
       "        text-align: right;\n",
       "    }\n",
       "</style>\n",
       "<table border=\"1\" class=\"dataframe\">\n",
       "  <thead>\n",
       "    <tr style=\"text-align: right;\">\n",
       "      <th></th>\n",
       "      <th>user_age</th>\n",
       "    </tr>\n",
       "    <tr>\n",
       "      <th>user_city</th>\n",
       "      <th></th>\n",
       "    </tr>\n",
       "  </thead>\n",
       "  <tbody>\n",
       "    <tr>\n",
       "      <th>Amasya</th>\n",
       "      <td>18</td>\n",
       "    </tr>\n",
       "    <tr>\n",
       "      <th>Ankara</th>\n",
       "      <td>18</td>\n",
       "    </tr>\n",
       "    <tr>\n",
       "      <th>Antalya</th>\n",
       "      <td>18</td>\n",
       "    </tr>\n",
       "    <tr>\n",
       "      <th>Bursa</th>\n",
       "      <td>20</td>\n",
       "    </tr>\n",
       "    <tr>\n",
       "      <th>Edirne</th>\n",
       "      <td>18</td>\n",
       "    </tr>\n",
       "    <tr>\n",
       "      <th>Kocaeli</th>\n",
       "      <td>18</td>\n",
       "    </tr>\n",
       "    <tr>\n",
       "      <th>İstanbul</th>\n",
       "      <td>18</td>\n",
       "    </tr>\n",
       "    <tr>\n",
       "      <th>İzmir</th>\n",
       "      <td>20</td>\n",
       "    </tr>\n",
       "  </tbody>\n",
       "</table>\n",
       "</div>"
      ],
      "text/plain": [
       "           user_age\n",
       "user_city          \n",
       "Amasya           18\n",
       "Ankara           18\n",
       "Antalya          18\n",
       "Bursa            20\n",
       "Edirne           18\n",
       "Kocaeli          18\n",
       "İstanbul         18\n",
       "İzmir            20"
      ]
     },
     "execution_count": 7,
     "metadata": {},
     "output_type": "execute_result"
    }
   ],
   "source": [
    "df.groupby('user_city').agg({'user_age': 'min'})"
   ]
  },
  {
   "cell_type": "code",
   "execution_count": 8,
   "id": "170e3734",
   "metadata": {},
   "outputs": [
    {
     "data": {
      "text/html": [
       "<div>\n",
       "<style scoped>\n",
       "    .dataframe tbody tr th:only-of-type {\n",
       "        vertical-align: middle;\n",
       "    }\n",
       "\n",
       "    .dataframe tbody tr th {\n",
       "        vertical-align: top;\n",
       "    }\n",
       "\n",
       "    .dataframe thead th {\n",
       "        text-align: right;\n",
       "    }\n",
       "</style>\n",
       "<table border=\"1\" class=\"dataframe\">\n",
       "  <thead>\n",
       "    <tr style=\"text-align: right;\">\n",
       "      <th></th>\n",
       "      <th>user_age</th>\n",
       "    </tr>\n",
       "    <tr>\n",
       "      <th>user_gender</th>\n",
       "      <th></th>\n",
       "    </tr>\n",
       "  </thead>\n",
       "  <tbody>\n",
       "    <tr>\n",
       "      <th>Female</th>\n",
       "      <td>38.252174</td>\n",
       "    </tr>\n",
       "    <tr>\n",
       "      <th>Male</th>\n",
       "      <td>37.606335</td>\n",
       "    </tr>\n",
       "  </tbody>\n",
       "</table>\n",
       "</div>"
      ],
      "text/plain": [
       "              user_age\n",
       "user_gender           \n",
       "Female       38.252174\n",
       "Male         37.606335"
      ]
     },
     "execution_count": 8,
     "metadata": {},
     "output_type": "execute_result"
    }
   ],
   "source": [
    "df.groupby('user_gender').agg({'user_age': 'mean'})"
   ]
  },
  {
   "cell_type": "code",
   "execution_count": 9,
   "id": "1c734c6c",
   "metadata": {},
   "outputs": [
    {
     "data": {
      "text/html": [
       "<div>\n",
       "<style scoped>\n",
       "    .dataframe tbody tr th:only-of-type {\n",
       "        vertical-align: middle;\n",
       "    }\n",
       "\n",
       "    .dataframe tbody tr th {\n",
       "        vertical-align: top;\n",
       "    }\n",
       "\n",
       "    .dataframe thead th {\n",
       "        text-align: right;\n",
       "    }\n",
       "</style>\n",
       "<table border=\"1\" class=\"dataframe\">\n",
       "  <thead>\n",
       "    <tr style=\"text-align: right;\">\n",
       "      <th></th>\n",
       "      <th>total_amount</th>\n",
       "    </tr>\n",
       "    <tr>\n",
       "      <th>user_city</th>\n",
       "      <th></th>\n",
       "    </tr>\n",
       "  </thead>\n",
       "  <tbody>\n",
       "    <tr>\n",
       "      <th>Amasya</th>\n",
       "      <td>3236.657895</td>\n",
       "    </tr>\n",
       "    <tr>\n",
       "      <th>Ankara</th>\n",
       "      <td>3815.385417</td>\n",
       "    </tr>\n",
       "    <tr>\n",
       "      <th>Antalya</th>\n",
       "      <td>3715.487805</td>\n",
       "    </tr>\n",
       "    <tr>\n",
       "      <th>Bursa</th>\n",
       "      <td>3426.214286</td>\n",
       "    </tr>\n",
       "    <tr>\n",
       "      <th>Edirne</th>\n",
       "      <td>3576.371429</td>\n",
       "    </tr>\n",
       "    <tr>\n",
       "      <th>Kocaeli</th>\n",
       "      <td>3302.647059</td>\n",
       "    </tr>\n",
       "    <tr>\n",
       "      <th>İstanbul</th>\n",
       "      <td>3453.893443</td>\n",
       "    </tr>\n",
       "    <tr>\n",
       "      <th>İzmir</th>\n",
       "      <td>3628.302326</td>\n",
       "    </tr>\n",
       "  </tbody>\n",
       "</table>\n",
       "</div>"
      ],
      "text/plain": [
       "           total_amount\n",
       "user_city              \n",
       "Amasya      3236.657895\n",
       "Ankara      3815.385417\n",
       "Antalya     3715.487805\n",
       "Bursa       3426.214286\n",
       "Edirne      3576.371429\n",
       "Kocaeli     3302.647059\n",
       "İstanbul    3453.893443\n",
       "İzmir       3628.302326"
      ]
     },
     "execution_count": 9,
     "metadata": {},
     "output_type": "execute_result"
    }
   ],
   "source": [
    "df.groupby('user_city').agg({'total_amount': 'mean'})"
   ]
  },
  {
   "cell_type": "code",
   "execution_count": 10,
   "id": "4395841f",
   "metadata": {},
   "outputs": [
    {
     "data": {
      "text/html": [
       "<div>\n",
       "<style scoped>\n",
       "    .dataframe tbody tr th:only-of-type {\n",
       "        vertical-align: middle;\n",
       "    }\n",
       "\n",
       "    .dataframe tbody tr th {\n",
       "        vertical-align: top;\n",
       "    }\n",
       "\n",
       "    .dataframe thead th {\n",
       "        text-align: right;\n",
       "    }\n",
       "</style>\n",
       "<table border=\"1\" class=\"dataframe\">\n",
       "  <thead>\n",
       "    <tr style=\"text-align: right;\">\n",
       "      <th></th>\n",
       "      <th>user_city</th>\n",
       "      <th>total_amount</th>\n",
       "    </tr>\n",
       "  </thead>\n",
       "  <tbody>\n",
       "    <tr>\n",
       "      <th>0</th>\n",
       "      <td>Amasya</td>\n",
       "      <td>3236.657895</td>\n",
       "    </tr>\n",
       "    <tr>\n",
       "      <th>1</th>\n",
       "      <td>Ankara</td>\n",
       "      <td>3815.385417</td>\n",
       "    </tr>\n",
       "    <tr>\n",
       "      <th>2</th>\n",
       "      <td>Antalya</td>\n",
       "      <td>3715.487805</td>\n",
       "    </tr>\n",
       "    <tr>\n",
       "      <th>3</th>\n",
       "      <td>Bursa</td>\n",
       "      <td>3426.214286</td>\n",
       "    </tr>\n",
       "    <tr>\n",
       "      <th>4</th>\n",
       "      <td>Edirne</td>\n",
       "      <td>3576.371429</td>\n",
       "    </tr>\n",
       "    <tr>\n",
       "      <th>5</th>\n",
       "      <td>Kocaeli</td>\n",
       "      <td>3302.647059</td>\n",
       "    </tr>\n",
       "    <tr>\n",
       "      <th>6</th>\n",
       "      <td>İstanbul</td>\n",
       "      <td>3453.893443</td>\n",
       "    </tr>\n",
       "    <tr>\n",
       "      <th>7</th>\n",
       "      <td>İzmir</td>\n",
       "      <td>3628.302326</td>\n",
       "    </tr>\n",
       "  </tbody>\n",
       "</table>\n",
       "</div>"
      ],
      "text/plain": [
       "  user_city  total_amount\n",
       "0    Amasya   3236.657895\n",
       "1    Ankara   3815.385417\n",
       "2   Antalya   3715.487805\n",
       "3     Bursa   3426.214286\n",
       "4    Edirne   3576.371429\n",
       "5   Kocaeli   3302.647059\n",
       "6  İstanbul   3453.893443\n",
       "7     İzmir   3628.302326"
      ]
     },
     "execution_count": 10,
     "metadata": {},
     "output_type": "execute_result"
    }
   ],
   "source": [
    "df.groupby('user_city').agg({'total_amount': 'mean'}).reset_index()"
   ]
  },
  {
   "cell_type": "code",
   "execution_count": 11,
   "id": "f627b5b6",
   "metadata": {},
   "outputs": [
    {
     "data": {
      "image/png": "[encoded data removed]",
      "text/plain": [
       "<Figure size 864x432 with 1 Axes>"
      ]
     },
     "metadata": {
      "needs_background": "light"
     },
     "output_type": "display_data"
    }
   ],
   "source": [
    "plt.figure(figsize = (12, 6))\n",
    "\n",
    "plt.bar(data = df.groupby('user_city').agg({'total_amount': 'mean'}).reset_index(),\n",
    "        x = 'user_city',\n",
    "        height = 'total_amount')\n",
    "\n",
    "plt.show()"
   ]
  },
  {
   "cell_type": "code",
   "execution_count": 12,
   "id": "d5d1b000",
   "metadata": {},
   "outputs": [
    {
     "data": {
      "image/png": "[encoded data removed]",
      "text/plain": [
       "<Figure size 864x432 with 1 Axes>"
      ]
     },
     "metadata": {
      "needs_background": "light"
     },
     "output_type": "display_data"
    }
   ],
   "source": [
    "plt.figure(figsize = (12, 6))\n",
    "\n",
    "sns.barplot(data = df.groupby('user_city').agg({'total_amount': 'mean'}).reset_index(),\n",
    "           y = 'user_city',\n",
    "           x = 'total_amount')\n",
    "\n",
    "plt.show()"
   ]
  },
  {
   "cell_type": "code",
   "execution_count": 13,
   "id": "554a6cb6",
   "metadata": {},
   "outputs": [
    {
     "data": {
      "image/png": "[encoded data removed]",
      "text/plain": [
       "<Figure size 864x432 with 1 Axes>"
      ]
     },
     "metadata": {
      "needs_background": "light"
     },
     "output_type": "display_data"
    }
   ],
   "source": [
    "plt.figure(figsize = (12, 6))\n",
    "sns.barplot(data = df.groupby('user_city').agg({'total_amount': 'sum'}).reset_index(),\n",
    "           y = 'user_city',\n",
    "           x = 'total_amount')\n",
    "\n",
    "plt.show()"
   ]
  },
  {
   "cell_type": "code",
   "execution_count": 14,
   "id": "b10df6be",
   "metadata": {},
   "outputs": [
    {
     "data": {
      "image/png": "[encoded data removed]",
      "text/plain": [
       "<Figure size 864x432 with 1 Axes>"
      ]
     },
     "metadata": {
      "needs_background": "light"
     },
     "output_type": "display_data"
    }
   ],
   "source": [
    "plt.figure(figsize = (12, 6))\n",
    "sns.barplot(data = df.groupby('user_city').agg({'total_amount': 'sum'}).reset_index(),\n",
    "           y = 'user_city',\n",
    "           x = 'total_amount')\n",
    "\n",
    "plt.show()"
   ]
  },
  {
   "cell_type": "code",
   "execution_count": 15,
   "id": "ba063748",
   "metadata": {},
   "outputs": [
    {
     "data": {
      "image/png": "[encoded data removed]",
      "text/plain": [
       "<Figure size 864x432 with 1 Axes>"
      ]
     },
     "metadata": {
      "needs_background": "light"
     },
     "output_type": "display_data"
    }
   ],
   "source": [
    "plt.figure(figsize = (12, 6))\n",
    "\n",
    "sns.barplot(data = df.groupby('user_gender').agg({'total_amount': 'mean'}).reset_index(),\n",
    "           x = 'user_gender',\n",
    "           y = 'total_amount')\n",
    "\n",
    "plt.show()"
   ]
  },
  {
   "cell_type": "code",
   "execution_count": 16,
   "id": "05f99a3e",
   "metadata": {},
   "outputs": [
    {
     "data": {
      "text/html": [
       "<div>\n",
       "<style scoped>\n",
       "    .dataframe tbody tr th:only-of-type {\n",
       "        vertical-align: middle;\n",
       "    }\n",
       "\n",
       "    .dataframe tbody tr th {\n",
       "        vertical-align: top;\n",
       "    }\n",
       "\n",
       "    .dataframe thead th {\n",
       "        text-align: right;\n",
       "    }\n",
       "</style>\n",
       "<table border=\"1\" class=\"dataframe\">\n",
       "  <thead>\n",
       "    <tr style=\"text-align: right;\">\n",
       "      <th></th>\n",
       "      <th>user_city</th>\n",
       "      <th>user_id</th>\n",
       "    </tr>\n",
       "  </thead>\n",
       "  <tbody>\n",
       "    <tr>\n",
       "      <th>0</th>\n",
       "      <td>Amasya</td>\n",
       "      <td>38</td>\n",
       "    </tr>\n",
       "    <tr>\n",
       "      <th>1</th>\n",
       "      <td>Ankara</td>\n",
       "      <td>96</td>\n",
       "    </tr>\n",
       "    <tr>\n",
       "      <th>2</th>\n",
       "      <td>Antalya</td>\n",
       "      <td>41</td>\n",
       "    </tr>\n",
       "    <tr>\n",
       "      <th>3</th>\n",
       "      <td>Bursa</td>\n",
       "      <td>42</td>\n",
       "    </tr>\n",
       "    <tr>\n",
       "      <th>4</th>\n",
       "      <td>Edirne</td>\n",
       "      <td>35</td>\n",
       "    </tr>\n",
       "    <tr>\n",
       "      <th>5</th>\n",
       "      <td>Kocaeli</td>\n",
       "      <td>34</td>\n",
       "    </tr>\n",
       "    <tr>\n",
       "      <th>6</th>\n",
       "      <td>İstanbul</td>\n",
       "      <td>122</td>\n",
       "    </tr>\n",
       "    <tr>\n",
       "      <th>7</th>\n",
       "      <td>İzmir</td>\n",
       "      <td>43</td>\n",
       "    </tr>\n",
       "  </tbody>\n",
       "</table>\n",
       "</div>"
      ],
      "text/plain": [
       "  user_city  user_id\n",
       "0    Amasya       38\n",
       "1    Ankara       96\n",
       "2   Antalya       41\n",
       "3     Bursa       42\n",
       "4    Edirne       35\n",
       "5   Kocaeli       34\n",
       "6  İstanbul      122\n",
       "7     İzmir       43"
      ]
     },
     "execution_count": 16,
     "metadata": {},
     "output_type": "execute_result"
    }
   ],
   "source": [
    "df.groupby('user_city').agg({'user_id': 'count'}).reset_index()"
   ]
  },
  {
   "cell_type": "code",
   "execution_count": 17,
   "id": "a51a8e1b",
   "metadata": {},
   "outputs": [
    {
     "data": {
      "image/png": "[encoded data removed]",
      "text/plain": [
       "<Figure size 864x432 with 1 Axes>"
      ]
     },
     "metadata": {},
     "output_type": "display_data"
    }
   ],
   "source": [
    "plt.figure(figsize = (12, 6))\n",
    "\n",
    "plt.pie(data = df.groupby('user_city').agg({'user_id': 'count'}).reset_index(),\n",
    "        x = 'user_id',\n",
    "       labels = 'user_city')\n",
    "\n",
    "plt.title('Şehirler Bazında Kullanıcı Sayıları', size = 12, color = 'red')\n",
    "\n",
    "plt.show()"
   ]
  },
  {
   "cell_type": "code",
   "execution_count": 18,
   "id": "32c67c0e",
   "metadata": {},
   "outputs": [
    {
     "data": {
      "image/png": "[encoded data removed]",
      "text/plain": [
       "<Figure size 432x288 with 1 Axes>"
      ]
     },
     "metadata": {
      "needs_background": "light"
     },
     "output_type": "display_data"
    }
   ],
   "source": [
    "sns.countplot(data = df,\n",
    "             y = 'user_city',\n",
    "             color = 'red'\n",
    "#               palette = 'Set2'\n",
    "             )\n",
    "\n",
    "plt.show()"
   ]
  },
  {
   "cell_type": "code",
   "execution_count": 19,
   "id": "1b3019cd",
   "metadata": {},
   "outputs": [
    {
     "data": {
      "image/png": "[encoded data removed]",
      "text/plain": [
       "<Figure size 432x288 with 1 Axes>"
      ]
     },
     "metadata": {
      "needs_background": "light"
     },
     "output_type": "display_data"
    }
   ],
   "source": [
    "sns.countplot(data = df,\n",
    "              x = 'user_gender',\n",
    "             color = 'Green')\n",
    "\n",
    "plt.title('Cinsiyetler Bazında Kullanıcı Sayıları', size = 12, color = 'blue')\n",
    "\n",
    "plt.show()"
   ]
  },
  {
   "cell_type": "code",
   "execution_count": 20,
   "id": "b26337e2",
   "metadata": {},
   "outputs": [
    {
     "data": {
      "image/png": "[encoded data removed]",
      "text/plain": [
       "<Figure size 864x432 with 1 Axes>"
      ]
     },
     "metadata": {
      "needs_background": "light"
     },
     "output_type": "display_data"
    }
   ],
   "source": [
    "plt.figure(figsize = (12, 6))\n",
    "\n",
    "plt.scatter(data = df,\n",
    "            x = 'user_age',\n",
    "            y = 'total_amount')\n",
    "\n",
    "plt.xlabel('Kullanıcı Yaşı', size = 12)\n",
    "\n",
    "plt.ylabel('Kredi Kartı Harcaması', size = 12)\n",
    "\n",
    "plt.title('Yaş & Kredi Kartı Harcaması İlişkisi', size = 14, color = 'red')\n",
    "\n",
    "plt.show()"
   ]
  },
  {
   "cell_type": "code",
   "execution_count": 21,
   "id": "26625d50",
   "metadata": {},
   "outputs": [],
   "source": [
    "df['card_delivery_date'] = pd.to_datetime(df['card_delivery_date'])"
   ]
  },
  {
   "cell_type": "code",
   "execution_count": 22,
   "id": "55dc1306",
   "metadata": {},
   "outputs": [],
   "source": [
    "card_df = df.groupby('card_delivery_date').agg({'user_id': 'count'}).reset_index()"
   ]
  },
  {
   "cell_type": "code",
   "execution_count": 23,
   "id": "39210c3b",
   "metadata": {},
   "outputs": [
    {
     "data": {
      "text/html": [
       "<div>\n",
       "<style scoped>\n",
       "    .dataframe tbody tr th:only-of-type {\n",
       "        vertical-align: middle;\n",
       "    }\n",
       "\n",
       "    .dataframe tbody tr th {\n",
       "        vertical-align: top;\n",
       "    }\n",
       "\n",
       "    .dataframe thead th {\n",
       "        text-align: right;\n",
       "    }\n",
       "</style>\n",
       "<table border=\"1\" class=\"dataframe\">\n",
       "  <thead>\n",
       "    <tr style=\"text-align: right;\">\n",
       "      <th></th>\n",
       "      <th>card_delivery_date</th>\n",
       "      <th>user_id</th>\n",
       "    </tr>\n",
       "  </thead>\n",
       "  <tbody>\n",
       "    <tr>\n",
       "      <th>0</th>\n",
       "      <td>2022-01-01</td>\n",
       "      <td>12</td>\n",
       "    </tr>\n",
       "    <tr>\n",
       "      <th>1</th>\n",
       "      <td>2022-01-02</td>\n",
       "      <td>4</td>\n",
       "    </tr>\n",
       "    <tr>\n",
       "      <th>2</th>\n",
       "      <td>2022-01-03</td>\n",
       "      <td>10</td>\n",
       "    </tr>\n",
       "    <tr>\n",
       "      <th>3</th>\n",
       "      <td>2022-01-04</td>\n",
       "      <td>8</td>\n",
       "    </tr>\n",
       "    <tr>\n",
       "      <th>4</th>\n",
       "      <td>2022-01-05</td>\n",
       "      <td>7</td>\n",
       "    </tr>\n",
       "  </tbody>\n",
       "</table>\n",
       "</div>"
      ],
      "text/plain": [
       "  card_delivery_date  user_id\n",
       "0         2022-01-01       12\n",
       "1         2022-01-02        4\n",
       "2         2022-01-03       10\n",
       "3         2022-01-04        8\n",
       "4         2022-01-05        7"
      ]
     },
     "execution_count": 23,
     "metadata": {},
     "output_type": "execute_result"
    }
   ],
   "source": [
    "card_df.head()"
   ]
  },
  {
   "cell_type": "code",
   "execution_count": 24,
   "id": "d3e44823",
   "metadata": {},
   "outputs": [
    {
     "data": {
      "image/png": "[encoded data removed]",
      "text/plain": [
       "<Figure size 864x432 with 1 Axes>"
      ]
     },
     "metadata": {
      "needs_background": "light"
     },
     "output_type": "display_data"
    }
   ],
   "source": [
    "plt.figure(figsize = (12, 6))\n",
    "\n",
    "sns.lineplot(data = card_df,\n",
    "            x = 'card_delivery_date',\n",
    "            y = 'user_id')\n",
    "\n",
    "plt.title('Tarihsel bazda kredi kartı teslim alan kullanıcı sayısı', size = 12)\n",
    "plt.show()"
   ]
  },
  {
   "cell_type": "code",
   "execution_count": 25,
   "id": "cbd769bc",
   "metadata": {},
   "outputs": [
    {
     "data": {
      "image/png": "[encoded data removed]",
      "text/plain": [
       "<Figure size 864x432 with 1 Axes>"
      ]
     },
     "metadata": {
      "needs_background": "light"
     },
     "output_type": "display_data"
    }
   ],
   "source": [
    "plt.figure(figsize = (12, 6))\n",
    "sns.histplot(data = df,\n",
    "            x = 'total_amount')\n",
    "\n",
    "plt.show()"
   ]
  },
  {
   "cell_type": "code",
   "execution_count": 26,
   "id": "aa500923",
   "metadata": {},
   "outputs": [
    {
     "data": {
      "image/png": "[encoded data removed]",
      "text/plain": [
       "<Figure size 432x288 with 1 Axes>"
      ]
     },
     "metadata": {
      "needs_background": "light"
     },
     "output_type": "display_data"
    }
   ],
   "source": [
    "sns.histplot(data = df, x = 'user_age')\n",
    "\n",
    "plt.show()"
   ]
  },
  {
   "cell_type": "code",
   "execution_count": 27,
   "id": "aff55100",
   "metadata": {},
   "outputs": [
    {
     "name": "stdout",
     "output_type": "stream",
     "text": [
      "Collecting plotly\n",
      "  Downloading plotly-5.8.0-py2.py3-none-any.whl (15.2 MB)\n",
      "Collecting tenacity>=6.2.0\n",
      "  Downloading tenacity-8.0.1-py3-none-any.whl (24 kB)\n",
      "Installing collected packages: tenacity, plotly\n",
      "Successfully installed plotly-5.8.0 tenacity-8.0.1\n"
     ]
    }
   ],
   "source": [
    "!pip install plotly"
   ]
  },
  {
   "cell_type": "code",
   "execution_count": 37,
   "id": "5300a655",
   "metadata": {},
   "outputs": [],
   "source": [
    "import plotly.graph_objs as go\n",
    "\n",
    "from plotly.offline import iplot"
   ]
  },
  {
   "cell_type": "code",
   "execution_count": 38,
   "id": "1cc93a63",
   "metadata": {},
   "outputs": [],
   "source": [
    "bar_df = df.groupby('user_city').agg({'total_amount': 'sum'}).reset_index()"
   ]
  },
  {
   "cell_type": "code",
   "execution_count": 39,
   "id": "cfbecbc2",
   "metadata": {},
   "outputs": [
    {
     "data": {
      "application/vnd.plotly.v1+json": {
       "config": {
        "linkText": "Export to plot.ly",
        "plotlyServerURL": "https://plot.ly",
        "showLink": false
       },
       "data": [
        {
         "type": "bar",
         "x": [
          "Amasya",
          "Ankara",
          "Antalya",
          "Bursa",
          "Edirne",
          "Kocaeli",
          "İstanbul",
          "İzmir"
         ],
         "y": [
          122993,
          366277,
          152335,
          143901,
          125173,
          112290,
          421375,
          156017
         ]
        }
       ],
       "layout": {
        "template": {
         "data": {
          "bar": [
           {
            "error_x": {
             "color": "#2a3f5f"
            },
            "error_y": {
             "color": "#2a3f5f"
            },
            "marker": {
             "line": {
              "color": "#E5ECF6",
              "width": 0.5
             },
             "pattern": {
              "fillmode": "overlay",
              "size": 10,
              "solidity": 0.2
             }
            },
            "type": "bar"
           }
          ],
          "barpolar": [
           {
            "marker": {
             "line": {
              "color": "#E5ECF6",
              "width": 0.5
             },
             "pattern": {
              "fillmode": "overlay",
              "size": 10,
              "solidity": 0.2
             }
            },
            "type": "barpolar"
           }
          ],
          "carpet": [
           {
            "aaxis": {
             "endlinecolor": "#2a3f5f",
             "gridcolor": "white",
             "linecolor": "white",
             "minorgridcolor": "white",
             "startlinecolor": "#2a3f5f"
            },
            "baxis": {
             "endlinecolor": "#2a3f5f",
             "gridcolor": "white",
             "linecolor": "white",
             "minorgridcolor": "white",
             "startlinecolor": "#2a3f5f"
            },
            "type": "carpet"
           }
          ],
          "choropleth": [
           {
            "colorbar": {
             "outlinewidth": 0,
             "ticks": ""
            },
            "type": "choropleth"
           }
          ],
          "contour": [
           {
            "colorbar": {
             "outlinewidth": 0,
             "ticks": ""
            },
            "colorscale": [
             [
              0,
              "#0d0887"
             ],
             [
              0.1111111111111111,
              "#46039f"
             ],
             [
              0.2222222222222222,
              "#7201a8"
             ],
             [
              0.3333333333333333,
              "#9c179e"
             ],
             [
              0.4444444444444444,
              "#bd3786"
             ],
             [
              0.5555555555555556,
              "#d8576b"
             ],
             [
              0.6666666666666666,
              "#ed7953"
             ],
             [
              0.7777777777777778,
              "#fb9f3a"
             ],
             [
              0.8888888888888888,
              "#fdca26"
             ],
             [
              1,
              "#f0f921"
             ]
            ],
            "type": "contour"
           }
          ],
          "contourcarpet": [
           {
            "colorbar": {
             "outlinewidth": 0,
             "ticks": ""
            },
            "type": "contourcarpet"
           }
          ],
          "heatmap": [
           {
            "colorbar": {
             "outlinewidth": 0,
             "ticks": ""
            },
            "colorscale": [
             [
              0,
              "#0d0887"
             ],
             [
              0.1111111111111111,
              "#46039f"
             ],
             [
              0.2222222222222222,
              "#7201a8"
             ],
             [
              0.3333333333333333,
              "#9c179e"
             ],
             [
              0.4444444444444444,
              "#bd3786"
             ],
             [
              0.5555555555555556,
              "#d8576b"
             ],
             [
              0.6666666666666666,
              "#ed7953"
             ],
             [
              0.7777777777777778,
              "#fb9f3a"
             ],
             [
              0.8888888888888888,
              "#fdca26"
             ],
             [
              1,
              "#f0f921"
             ]
            ],
            "type": "heatmap"
           }
          ],
          "heatmapgl": [
           {
            "colorbar": {
             "outlinewidth": 0,
             "ticks": ""
            },
            "colorscale": [
             [
              0,
              "#0d0887"
             ],
             [
              0.1111111111111111,
              "#46039f"
             ],
             [
              0.2222222222222222,
              "#7201a8"
             ],
             [
              0.3333333333333333,
              "#9c179e"
             ],
             [
              0.4444444444444444,
              "#bd3786"
             ],
             [
              0.5555555555555556,
              "#d8576b"
             ],
             [
              0.6666666666666666,
              "#ed7953"
             ],
             [
              0.7777777777777778,
              "#fb9f3a"
             ],
             [
              0.8888888888888888,
              "#fdca26"
             ],
             [
              1,
              "#f0f921"
             ]
            ],
            "type": "heatmapgl"
           }
          ],
          "histogram": [
           {
            "marker": {
             "pattern": {
              "fillmode": "overlay",
              "size": 10,
              "solidity": 0.2
             }
            },
            "type": "histogram"
           }
          ],
          "histogram2d": [
           {
            "colorbar": {
             "outlinewidth": 0,
             "ticks": ""
            },
            "colorscale": [
             [
              0,
              "#0d0887"
             ],
             [
              0.1111111111111111,
              "#46039f"
             ],
             [
              0.2222222222222222,
              "#7201a8"
             ],
             [
              0.3333333333333333,
              "#9c179e"
             ],
             [
              0.4444444444444444,
              "#bd3786"
             ],
             [
              0.5555555555555556,
              "#d8576b"
             ],
             [
              0.6666666666666666,
              "#ed7953"
             ],
             [
              0.7777777777777778,
              "#fb9f3a"
             ],
             [
              0.8888888888888888,
              "#fdca26"
             ],
             [
              1,
              "#f0f921"
             ]
            ],
            "type": "histogram2d"
           }
          ],
          "histogram2dcontour": [
           {
            "colorbar": {
             "outlinewidth": 0,
             "ticks": ""
            },
            "colorscale": [
             [
              0,
              "#0d0887"
             ],
             [
              0.1111111111111111,
              "#46039f"
             ],
             [
              0.2222222222222222,
              "#7201a8"
             ],
             [
              0.3333333333333333,
              "#9c179e"
             ],
             [
              0.4444444444444444,
              "#bd3786"
             ],
             [
              0.5555555555555556,
              "#d8576b"
             ],
             [
              0.6666666666666666,
              "#ed7953"
             ],
             [
              0.7777777777777778,
              "#fb9f3a"
             ],
             [
              0.8888888888888888,
              "#fdca26"
             ],
             [
              1,
              "#f0f921"
             ]
            ],
            "type": "histogram2dcontour"
           }
          ],
          "mesh3d": [
           {
            "colorbar": {
             "outlinewidth": 0,
             "ticks": ""
            },
            "type": "mesh3d"
           }
          ],
          "parcoords": [
           {
            "line": {
             "colorbar": {
              "outlinewidth": 0,
              "ticks": ""
             }
            },
            "type": "parcoords"
           }
          ],
          "pie": [
           {
            "automargin": true,
            "type": "pie"
           }
          ],
          "scatter": [
           {
            "fillpattern": {
             "fillmode": "overlay",
             "size": 10,
             "solidity": 0.2
            },
            "type": "scatter"
           }
          ],
          "scatter3d": [
           {
            "line": {
             "colorbar": {
              "outlinewidth": 0,
              "ticks": ""
             }
            },
            "marker": {
             "colorbar": {
              "outlinewidth": 0,
              "ticks": ""
             }
            },
            "type": "scatter3d"
           }
          ],
          "scattercarpet": [
           {
            "marker": {
             "colorbar": {
              "outlinewidth": 0,
              "ticks": ""
             }
            },
            "type": "scattercarpet"
           }
          ],
          "scattergeo": [
           {
            "marker": {
             "colorbar": {
              "outlinewidth": 0,
              "ticks": ""
             }
            },
            "type": "scattergeo"
           }
          ],
          "scattergl": [
           {
            "marker": {
             "colorbar": {
              "outlinewidth": 0,
              "ticks": ""
             }
            },
            "type": "scattergl"
           }
          ],
          "scattermapbox": [
           {
            "marker": {
             "colorbar": {
              "outlinewidth": 0,
              "ticks": ""
             }
            },
            "type": "scattermapbox"
           }
          ],
          "scatterpolar": [
           {
            "marker": {
             "colorbar": {
              "outlinewidth": 0,
              "ticks": ""
             }
            },
            "type": "scatterpolar"
           }
          ],
          "scatterpolargl": [
           {
            "marker": {
             "colorbar": {
              "outlinewidth": 0,
              "ticks": ""
             }
            },
            "type": "scatterpolargl"
           }
          ],
          "scatterternary": [
           {
            "marker": {
             "colorbar": {
              "outlinewidth": 0,
              "ticks": ""
             }
            },
            "type": "scatterternary"
           }
          ],
          "surface": [
           {
            "colorbar": {
             "outlinewidth": 0,
             "ticks": ""
            },
            "colorscale": [
             [
              0,
              "#0d0887"
             ],
             [
              0.1111111111111111,
              "#46039f"
             ],
             [
              0.2222222222222222,
              "#7201a8"
             ],
             [
              0.3333333333333333,
              "#9c179e"
             ],
             [
              0.4444444444444444,
              "#bd3786"
             ],
             [
              0.5555555555555556,
              "#d8576b"
             ],
             [
              0.6666666666666666,
              "#ed7953"
             ],
             [
              0.7777777777777778,
              "#fb9f3a"
             ],
             [
              0.8888888888888888,
              "#fdca26"
             ],
             [
              1,
              "#f0f921"
             ]
            ],
            "type": "surface"
           }
          ],
          "table": [
           {
            "cells": {
             "fill": {
              "color": "#EBF0F8"
             },
             "line": {
              "color": "white"
             }
            },
            "header": {
             "fill": {
              "color": "#C8D4E3"
             },
             "line": {
              "color": "white"
             }
            },
            "type": "table"
           }
          ]
         },
         "layout": {
          "annotationdefaults": {
           "arrowcolor": "#2a3f5f",
           "arrowhead": 0,
           "arrowwidth": 1
          },
          "autotypenumbers": "strict",
          "coloraxis": {
           "colorbar": {
            "outlinewidth": 0,
            "ticks": ""
           }
          },
          "colorscale": {
           "diverging": [
            [
             0,
             "#8e0152"
            ],
            [
             0.1,
             "#c51b7d"
            ],
            [
             0.2,
             "#de77ae"
            ],
            [
             0.3,
             "#f1b6da"
            ],
            [
             0.4,
             "#fde0ef"
            ],
            [
             0.5,
             "#f7f7f7"
            ],
            [
             0.6,
             "#e6f5d0"
            ],
            [
             0.7,
             "#b8e186"
            ],
            [
             0.8,
             "#7fbc41"
            ],
            [
             0.9,
             "#4d9221"
            ],
            [
             1,
             "#276419"
            ]
           ],
           "sequential": [
            [
             0,
             "#0d0887"
            ],
            [
             0.1111111111111111,
             "#46039f"
            ],
            [
             0.2222222222222222,
             "#7201a8"
            ],
            [
             0.3333333333333333,
             "#9c179e"
            ],
            [
             0.4444444444444444,
             "#bd3786"
            ],
            [
             0.5555555555555556,
             "#d8576b"
            ],
            [
             0.6666666666666666,
             "#ed7953"
            ],
            [
             0.7777777777777778,
             "#fb9f3a"
            ],
            [
             0.8888888888888888,
             "#fdca26"
            ],
            [
             1,
             "#f0f921"
            ]
           ],
           "sequentialminus": [
            [
             0,
             "#0d0887"
            ],
            [
             0.1111111111111111,
             "#46039f"
            ],
            [
             0.2222222222222222,
             "#7201a8"
            ],
            [
             0.3333333333333333,
             "#9c179e"
            ],
            [
             0.4444444444444444,
             "#bd3786"
            ],
            [
             0.5555555555555556,
             "#d8576b"
            ],
            [
             0.6666666666666666,
             "#ed7953"
            ],
            [
             0.7777777777777778,
             "#fb9f3a"
            ],
            [
             0.8888888888888888,
             "#fdca26"
            ],
            [
             1,
             "#f0f921"
            ]
           ]
          },
          "colorway": [
           "#636efa",
           "#EF553B",
           "#00cc96",
           "#ab63fa",
           "#FFA15A",
           "#19d3f3",
           "#FF6692",
           "#B6E880",
           "#FF97FF",
           "#FECB52"
          ],
          "font": {
           "color": "#2a3f5f"
          },
          "geo": {
           "bgcolor": "white",
           "lakecolor": "white",
           "landcolor": "#E5ECF6",
           "showlakes": true,
           "showland": true,
           "subunitcolor": "white"
          },
          "hoverlabel": {
           "align": "left"
          },
          "hovermode": "closest",
          "mapbox": {
           "style": "light"
          },
          "paper_bgcolor": "white",
          "plot_bgcolor": "#E5ECF6",
          "polar": {
           "angularaxis": {
            "gridcolor": "white",
            "linecolor": "white",
            "ticks": ""
           },
           "bgcolor": "#E5ECF6",
           "radialaxis": {
            "gridcolor": "white",
            "linecolor": "white",
            "ticks": ""
           }
          },
          "scene": {
           "xaxis": {
            "backgroundcolor": "#E5ECF6",
            "gridcolor": "white",
            "gridwidth": 2,
            "linecolor": "white",
            "showbackground": true,
            "ticks": "",
            "zerolinecolor": "white"
           },
           "yaxis": {
            "backgroundcolor": "#E5ECF6",
            "gridcolor": "white",
            "gridwidth": 2,
            "linecolor": "white",
            "showbackground": true,
            "ticks": "",
            "zerolinecolor": "white"
           },
           "zaxis": {
            "backgroundcolor": "#E5ECF6",
            "gridcolor": "white",
            "gridwidth": 2,
            "linecolor": "white",
            "showbackground": true,
            "ticks": "",
            "zerolinecolor": "white"
           }
          },
          "shapedefaults": {
           "line": {
            "color": "#2a3f5f"
           }
          },
          "ternary": {
           "aaxis": {
            "gridcolor": "white",
            "linecolor": "white",
            "ticks": ""
           },
           "baxis": {
            "gridcolor": "white",
            "linecolor": "white",
            "ticks": ""
           },
           "bgcolor": "#E5ECF6",
           "caxis": {
            "gridcolor": "white",
            "linecolor": "white",
            "ticks": ""
           }
          },
          "title": {
           "x": 0.05
          },
          "xaxis": {
           "automargin": true,
           "gridcolor": "white",
           "linecolor": "white",
           "ticks": "",
           "title": {
            "standoff": 15
           },
           "zerolinecolor": "white",
           "zerolinewidth": 2
          },
          "yaxis": {
           "automargin": true,
           "gridcolor": "white",
           "linecolor": "white",
           "ticks": "",
           "title": {
            "standoff": 15
           },
           "zerolinecolor": "white",
           "zerolinewidth": 2
          }
         }
        }
       }
      },
      "text/html": [
       "<div>                            <div id=\"075945f0-d853-4125-a376-7425a46a84a0\" class=\"plotly-graph-div\" style=\"height:525px; width:100%;\"></div>            <script type=\"text/javascript\">                require([\"plotly\"], function(Plotly) {                    window.PLOTLYENV=window.PLOTLYENV || {};                                    if (document.getElementById(\"075945f0-d853-4125-a376-7425a46a84a0\")) {                    Plotly.newPlot(                        \"075945f0-d853-4125-a376-7425a46a84a0\",                        [{\"x\":[\"Amasya\",\"Ankara\",\"Antalya\",\"Bursa\",\"Edirne\",\"Kocaeli\",\"\\u0130stanbul\",\"\\u0130zmir\"],\"y\":[122993,366277,152335,143901,125173,112290,421375,156017],\"type\":\"bar\"}],                        {\"template\":{\"data\":{\"barpolar\":[{\"marker\":{\"line\":{\"color\":\"#E5ECF6\",\"width\":0.5},\"pattern\":{\"fillmode\":\"overlay\",\"size\":10,\"solidity\":0.2}},\"type\":\"barpolar\"}],\"bar\":[{\"error_x\":{\"color\":\"#2a3f5f\"},\"error_y\":{\"color\":\"#2a3f5f\"},\"marker\":{\"line\":{\"color\":\"#E5ECF6\",\"width\":0.5},\"pattern\":{\"fillmode\":\"overlay\",\"size\":10,\"solidity\":0.2}},\"type\":\"bar\"}],\"carpet\":[{\"aaxis\":{\"endlinecolor\":\"#2a3f5f\",\"gridcolor\":\"white\",\"linecolor\":\"white\",\"minorgridcolor\":\"white\",\"startlinecolor\":\"#2a3f5f\"},\"baxis\":{\"endlinecolor\":\"#2a3f5f\",\"gridcolor\":\"white\",\"linecolor\":\"white\",\"minorgridcolor\":\"white\",\"startlinecolor\":\"#2a3f5f\"},\"type\":\"carpet\"}],\"choropleth\":[{\"colorbar\":{\"outlinewidth\":0,\"ticks\":\"\"},\"type\":\"choropleth\"}],\"contourcarpet\":[{\"colorbar\":{\"outlinewidth\":0,\"ticks\":\"\"},\"type\":\"contourcarpet\"}],\"contour\":[{\"colorbar\":{\"outlinewidth\":0,\"ticks\":\"\"},\"colorscale\":[[0.0,\"#0d0887\"],[0.1111111111111111,\"#46039f\"],[0.2222222222222222,\"#7201a8\"],[0.3333333333333333,\"#9c179e\"],[0.4444444444444444,\"#bd3786\"],[0.5555555555555556,\"#d8576b\"],[0.6666666666666666,\"#ed7953\"],[0.7777777777777778,\"#fb9f3a\"],[0.8888888888888888,\"#fdca26\"],[1.0,\"#f0f921\"]],\"type\":\"contour\"}],\"heatmapgl\":[{\"colorbar\":{\"outlinewidth\":0,\"ticks\":\"\"},\"colorscale\":[[0.0,\"#0d0887\"],[0.1111111111111111,\"#46039f\"],[0.2222222222222222,\"#7201a8\"],[0.3333333333333333,\"#9c179e\"],[0.4444444444444444,\"#bd3786\"],[0.5555555555555556,\"#d8576b\"],[0.6666666666666666,\"#ed7953\"],[0.7777777777777778,\"#fb9f3a\"],[0.8888888888888888,\"#fdca26\"],[1.0,\"#f0f921\"]],\"type\":\"heatmapgl\"}],\"heatmap\":[{\"colorbar\":{\"outlinewidth\":0,\"ticks\":\"\"},\"colorscale\":[[0.0,\"#0d0887\"],[0.1111111111111111,\"#46039f\"],[0.2222222222222222,\"#7201a8\"],[0.3333333333333333,\"#9c179e\"],[0.4444444444444444,\"#bd3786\"],[0.5555555555555556,\"#d8576b\"],[0.6666666666666666,\"#ed7953\"],[0.7777777777777778,\"#fb9f3a\"],[0.8888888888888888,\"#fdca26\"],[1.0,\"#f0f921\"]],\"type\":\"heatmap\"}],\"histogram2dcontour\":[{\"colorbar\":{\"outlinewidth\":0,\"ticks\":\"\"},\"colorscale\":[[0.0,\"#0d0887\"],[0.1111111111111111,\"#46039f\"],[0.2222222222222222,\"#7201a8\"],[0.3333333333333333,\"#9c179e\"],[0.4444444444444444,\"#bd3786\"],[0.5555555555555556,\"#d8576b\"],[0.6666666666666666,\"#ed7953\"],[0.7777777777777778,\"#fb9f3a\"],[0.8888888888888888,\"#fdca26\"],[1.0,\"#f0f921\"]],\"type\":\"histogram2dcontour\"}],\"histogram2d\":[{\"colorbar\":{\"outlinewidth\":0,\"ticks\":\"\"},\"colorscale\":[[0.0,\"#0d0887\"],[0.1111111111111111,\"#46039f\"],[0.2222222222222222,\"#7201a8\"],[0.3333333333333333,\"#9c179e\"],[0.4444444444444444,\"#bd3786\"],[0.5555555555555556,\"#d8576b\"],[0.6666666666666666,\"#ed7953\"],[0.7777777777777778,\"#fb9f3a\"],[0.8888888888888888,\"#fdca26\"],[1.0,\"#f0f921\"]],\"type\":\"histogram2d\"}],\"histogram\":[{\"marker\":{\"pattern\":{\"fillmode\":\"overlay\",\"size\":10,\"solidity\":0.2}},\"type\":\"histogram\"}],\"mesh3d\":[{\"colorbar\":{\"outlinewidth\":0,\"ticks\":\"\"},\"type\":\"mesh3d\"}],\"parcoords\":[{\"line\":{\"colorbar\":{\"outlinewidth\":0,\"ticks\":\"\"}},\"type\":\"parcoords\"}],\"pie\":[{\"automargin\":true,\"type\":\"pie\"}],\"scatter3d\":[{\"line\":{\"colorbar\":{\"outlinewidth\":0,\"ticks\":\"\"}},\"marker\":{\"colorbar\":{\"outlinewidth\":0,\"ticks\":\"\"}},\"type\":\"scatter3d\"}],\"scattercarpet\":[{\"marker\":{\"colorbar\":{\"outlinewidth\":0,\"ticks\":\"\"}},\"type\":\"scattercarpet\"}],\"scattergeo\":[{\"marker\":{\"colorbar\":{\"outlinewidth\":0,\"ticks\":\"\"}},\"type\":\"scattergeo\"}],\"scattergl\":[{\"marker\":{\"colorbar\":{\"outlinewidth\":0,\"ticks\":\"\"}},\"type\":\"scattergl\"}],\"scattermapbox\":[{\"marker\":{\"colorbar\":{\"outlinewidth\":0,\"ticks\":\"\"}},\"type\":\"scattermapbox\"}],\"scatterpolargl\":[{\"marker\":{\"colorbar\":{\"outlinewidth\":0,\"ticks\":\"\"}},\"type\":\"scatterpolargl\"}],\"scatterpolar\":[{\"marker\":{\"colorbar\":{\"outlinewidth\":0,\"ticks\":\"\"}},\"type\":\"scatterpolar\"}],\"scatter\":[{\"fillpattern\":{\"fillmode\":\"overlay\",\"size\":10,\"solidity\":0.2},\"type\":\"scatter\"}],\"scatterternary\":[{\"marker\":{\"colorbar\":{\"outlinewidth\":0,\"ticks\":\"\"}},\"type\":\"scatterternary\"}],\"surface\":[{\"colorbar\":{\"outlinewidth\":0,\"ticks\":\"\"},\"colorscale\":[[0.0,\"#0d0887\"],[0.1111111111111111,\"#46039f\"],[0.2222222222222222,\"#7201a8\"],[0.3333333333333333,\"#9c179e\"],[0.4444444444444444,\"#bd3786\"],[0.5555555555555556,\"#d8576b\"],[0.6666666666666666,\"#ed7953\"],[0.7777777777777778,\"#fb9f3a\"],[0.8888888888888888,\"#fdca26\"],[1.0,\"#f0f921\"]],\"type\":\"surface\"}],\"table\":[{\"cells\":{\"fill\":{\"color\":\"#EBF0F8\"},\"line\":{\"color\":\"white\"}},\"header\":{\"fill\":{\"color\":\"#C8D4E3\"},\"line\":{\"color\":\"white\"}},\"type\":\"table\"}]},\"layout\":{\"annotationdefaults\":{\"arrowcolor\":\"#2a3f5f\",\"arrowhead\":0,\"arrowwidth\":1},\"autotypenumbers\":\"strict\",\"coloraxis\":{\"colorbar\":{\"outlinewidth\":0,\"ticks\":\"\"}},\"colorscale\":{\"diverging\":[[0,\"#8e0152\"],[0.1,\"#c51b7d\"],[0.2,\"#de77ae\"],[0.3,\"#f1b6da\"],[0.4,\"#fde0ef\"],[0.5,\"#f7f7f7\"],[0.6,\"#e6f5d0\"],[0.7,\"#b8e186\"],[0.8,\"#7fbc41\"],[0.9,\"#4d9221\"],[1,\"#276419\"]],\"sequential\":[[0.0,\"#0d0887\"],[0.1111111111111111,\"#46039f\"],[0.2222222222222222,\"#7201a8\"],[0.3333333333333333,\"#9c179e\"],[0.4444444444444444,\"#bd3786\"],[0.5555555555555556,\"#d8576b\"],[0.6666666666666666,\"#ed7953\"],[0.7777777777777778,\"#fb9f3a\"],[0.8888888888888888,\"#fdca26\"],[1.0,\"#f0f921\"]],\"sequentialminus\":[[0.0,\"#0d0887\"],[0.1111111111111111,\"#46039f\"],[0.2222222222222222,\"#7201a8\"],[0.3333333333333333,\"#9c179e\"],[0.4444444444444444,\"#bd3786\"],[0.5555555555555556,\"#d8576b\"],[0.6666666666666666,\"#ed7953\"],[0.7777777777777778,\"#fb9f3a\"],[0.8888888888888888,\"#fdca26\"],[1.0,\"#f0f921\"]]},\"colorway\":[\"#636efa\",\"#EF553B\",\"#00cc96\",\"#ab63fa\",\"#FFA15A\",\"#19d3f3\",\"#FF6692\",\"#B6E880\",\"#FF97FF\",\"#FECB52\"],\"font\":{\"color\":\"#2a3f5f\"},\"geo\":{\"bgcolor\":\"white\",\"lakecolor\":\"white\",\"landcolor\":\"#E5ECF6\",\"showlakes\":true,\"showland\":true,\"subunitcolor\":\"white\"},\"hoverlabel\":{\"align\":\"left\"},\"hovermode\":\"closest\",\"mapbox\":{\"style\":\"light\"},\"paper_bgcolor\":\"white\",\"plot_bgcolor\":\"#E5ECF6\",\"polar\":{\"angularaxis\":{\"gridcolor\":\"white\",\"linecolor\":\"white\",\"ticks\":\"\"},\"bgcolor\":\"#E5ECF6\",\"radialaxis\":{\"gridcolor\":\"white\",\"linecolor\":\"white\",\"ticks\":\"\"}},\"scene\":{\"xaxis\":{\"backgroundcolor\":\"#E5ECF6\",\"gridcolor\":\"white\",\"gridwidth\":2,\"linecolor\":\"white\",\"showbackground\":true,\"ticks\":\"\",\"zerolinecolor\":\"white\"},\"yaxis\":{\"backgroundcolor\":\"#E5ECF6\",\"gridcolor\":\"white\",\"gridwidth\":2,\"linecolor\":\"white\",\"showbackground\":true,\"ticks\":\"\",\"zerolinecolor\":\"white\"},\"zaxis\":{\"backgroundcolor\":\"#E5ECF6\",\"gridcolor\":\"white\",\"gridwidth\":2,\"linecolor\":\"white\",\"showbackground\":true,\"ticks\":\"\",\"zerolinecolor\":\"white\"}},\"shapedefaults\":{\"line\":{\"color\":\"#2a3f5f\"}},\"ternary\":{\"aaxis\":{\"gridcolor\":\"white\",\"linecolor\":\"white\",\"ticks\":\"\"},\"baxis\":{\"gridcolor\":\"white\",\"linecolor\":\"white\",\"ticks\":\"\"},\"bgcolor\":\"#E5ECF6\",\"caxis\":{\"gridcolor\":\"white\",\"linecolor\":\"white\",\"ticks\":\"\"}},\"title\":{\"x\":0.05},\"xaxis\":{\"automargin\":true,\"gridcolor\":\"white\",\"linecolor\":\"white\",\"ticks\":\"\",\"title\":{\"standoff\":15},\"zerolinecolor\":\"white\",\"zerolinewidth\":2},\"yaxis\":{\"automargin\":true,\"gridcolor\":\"white\",\"linecolor\":\"white\",\"ticks\":\"\",\"title\":{\"standoff\":15},\"zerolinecolor\":\"white\",\"zerolinewidth\":2}}}},                        {\"responsive\": true}                    ).then(function(){\n",
       "                            \n",
       "var gd = document.getElementById('075945f0-d853-4125-a376-7425a46a84a0');\n",
       "var x = new MutationObserver(function (mutations, observer) {{\n",
       "        var display = window.getComputedStyle(gd).display;\n",
       "        if (!display || display === 'none') {{\n",
       "            console.log([gd, 'removed!']);\n",
       "            Plotly.purge(gd);\n",
       "            observer.disconnect();\n",
       "        }}\n",
       "}});\n",
       "\n",
       "// Listen for the removal of the full notebook cells\n",
       "var notebookContainer = gd.closest('#notebook-container');\n",
       "if (notebookContainer) {{\n",
       "    x.observe(notebookContainer, {childList: true});\n",
       "}}\n",
       "\n",
       "// Listen for the clearing of the current output cell\n",
       "var outputEl = gd.closest('.output');\n",
       "if (outputEl) {{\n",
       "    x.observe(outputEl, {childList: true});\n",
       "}}\n",
       "\n",
       "                        })                };                });            </script>        </div>"
      ]
     },
     "metadata": {},
     "output_type": "display_data"
    }
   ],
   "source": [
    "bar = go.Bar(\n",
    "             x = bar_df['user_city'],\n",
    "             y = bar_df['total_amount']\n",
    "            )\n",
    "\n",
    "fig = go.Figure(data = bar)\n",
    "\n",
    "iplot(fig)"
   ]
  },
  {
   "cell_type": "code",
   "execution_count": 40,
   "id": "4317ee8d",
   "metadata": {},
   "outputs": [
    {
     "data": {
      "application/vnd.plotly.v1+json": {
       "config": {
        "linkText": "Export to plot.ly",
        "plotlyServerURL": "https://plot.ly",
        "showLink": false
       },
       "data": [
        {
         "mode": "markers",
         "type": "scatter",
         "x": [
          51,
          33,
          45,
          33,
          41,
          55,
          43,
          26,
          43,
          51,
          49,
          32,
          29,
          24,
          53,
          21,
          49,
          57,
          39,
          44,
          49,
          52,
          32,
          51,
          35,
          57,
          32,
          25,
          54,
          46,
          51,
          28,
          18,
          30,
          18,
          57,
          43,
          27,
          26,
          22,
          52,
          41,
          18,
          21,
          50,
          56,
          48,
          50,
          20,
          23,
          46,
          39,
          26,
          30,
          56,
          19,
          29,
          37,
          44,
          24,
          19,
          47,
          54,
          56,
          51,
          49,
          57,
          56,
          36,
          39,
          31,
          48,
          57,
          39,
          27,
          50,
          46,
          28,
          40,
          38,
          54,
          53,
          38,
          36,
          45,
          52,
          55,
          22,
          20,
          50,
          19,
          28,
          47,
          22,
          39,
          24,
          23,
          28,
          46,
          33,
          31,
          50,
          38,
          47,
          23,
          31,
          41,
          36,
          26,
          21,
          50,
          21,
          25,
          33,
          27,
          59,
          46,
          51,
          28,
          24,
          37,
          24,
          39,
          50,
          36,
          20,
          42,
          21,
          46,
          37,
          31,
          51,
          50,
          22,
          22,
          41,
          52,
          31,
          54,
          51,
          39,
          24,
          40,
          40,
          44,
          21,
          50,
          25,
          28,
          31,
          47,
          19,
          31,
          38,
          55,
          45,
          38,
          23,
          29,
          28,
          34,
          39,
          52,
          20,
          25,
          47,
          31,
          22,
          31,
          23,
          47,
          57,
          46,
          41,
          52,
          37,
          55,
          24,
          49,
          47,
          41,
          20,
          29,
          35,
          44,
          57,
          27,
          35,
          59,
          19,
          33,
          45,
          34,
          18,
          43,
          44,
          28,
          54,
          22,
          37,
          31,
          48,
          38,
          23,
          49,
          58,
          18,
          20,
          58,
          49,
          41,
          23,
          51,
          56,
          35,
          25,
          34,
          38,
          27,
          26,
          58,
          28,
          43,
          32,
          53,
          32,
          56,
          47,
          40,
          37,
          42,
          52,
          31,
          47,
          47,
          43,
          57,
          38,
          31,
          57,
          53,
          36,
          47,
          59,
          56,
          34,
          55,
          37,
          48,
          26,
          50,
          20,
          38,
          39,
          35,
          49,
          39,
          33,
          28,
          28,
          25,
          45,
          22,
          33,
          45,
          27,
          47,
          40,
          33,
          39,
          34,
          45,
          31,
          51,
          31,
          28,
          21,
          44,
          28,
          44,
          43,
          18,
          59,
          45,
          26,
          27,
          28,
          49,
          52,
          55,
          38,
          31,
          45,
          36,
          52,
          33,
          27,
          37,
          50,
          48,
          29,
          41,
          38,
          43,
          35,
          20,
          29,
          42,
          18,
          40,
          27,
          29,
          41,
          58,
          54,
          46,
          28,
          32,
          26,
          53,
          42,
          33,
          31,
          48,
          56,
          29,
          18,
          22,
          57,
          54,
          32,
          26,
          31,
          26,
          37,
          34,
          56,
          30,
          25,
          34,
          59,
          27,
          46,
          18,
          19,
          22,
          30,
          21,
          33,
          49,
          58,
          58,
          37,
          37,
          20,
          54,
          57,
          45,
          58,
          50,
          33,
          31,
          30,
          55,
          47,
          27,
          32,
          51,
          44,
          18,
          59,
          22,
          29,
          55,
          21,
          38,
          24,
          22,
          29,
          23,
          19,
          21,
          21,
          24,
          33,
          34,
          47,
          32,
          32,
          56,
          31,
          44,
          51,
          20,
          29,
          43,
          49,
          20,
          46,
          45,
          35,
          29,
          31,
          34,
          34,
          31,
          51,
          53,
          20,
          29,
          27,
          54,
          55,
          52,
          34,
          48,
          30,
          24,
          31,
          23,
          48,
          50,
          46,
          46,
          38,
          39,
          36,
          22,
          21,
          35,
          29,
          49,
          26,
          23,
          59,
          50,
          59,
          36,
          42,
          45,
          55,
          27,
          29,
          25,
          24,
          56,
          43,
          50,
          52,
          45,
          38
         ],
         "y": [
          3466,
          2770,
          3990,
          1876,
          4797,
          5164,
          4296,
          2099,
          5798,
          6595,
          6814,
          2923,
          4369,
          2790,
          2557,
          1619,
          5137,
          4443,
          2163,
          5679,
          6024,
          7140,
          1727,
          2397,
          3234,
          5030,
          1526,
          3584,
          4243,
          6550,
          4741,
          1528,
          2029,
          3061,
          1207,
          4896,
          4673,
          2827,
          1632,
          1543,
          6344,
          4915,
          1651,
          1623,
          2182,
          6455,
          5439,
          3437,
          1393,
          1938,
          4570,
          4320,
          1285,
          2239,
          3501,
          996,
          4166,
          4400,
          4177,
          2827,
          1987,
          6897,
          6031,
          4306,
          7405,
          3041,
          4657,
          4135,
          1909,
          5136,
          1143,
          5991,
          7865,
          1605,
          1697,
          2609,
          5757,
          3617,
          2849,
          5004,
          3672,
          5040,
          2109,
          2112,
          4825,
          6526,
          3397,
          1706,
          2679,
          3483,
          1113,
          1839,
          4021,
          1294,
          5784,
          2491,
          1997,
          2268,
          6033,
          2028,
          3753,
          6427,
          1873,
          4041,
          1625,
          1272,
          4749,
          3732,
          1655,
          1560,
          3295,
          1998,
          1285,
          1923,
          2701,
          3996,
          4606,
          4507,
          4052,
          2864,
          4916,
          2690,
          1874,
          4311,
          1828,
          2146,
          3611,
          2579,
          5034,
          3845,
          2836,
          3382,
          2853,
          868,
          2891,
          5910,
          3770,
          2867,
          6968,
          4328,
          4818,
          1434,
          1953,
          2555,
          6500,
          2960,
          2939,
          1156,
          3913,
          4248,
          3210,
          1510,
          2478,
          3776,
          3378,
          3233,
          2479,
          2463,
          2933,
          1207,
          1340,
          4072,
          5722,
          2729,
          3598,
          4505,
          1786,
          1895,
          3332,
          2813,
          3533,
          6500,
          5102,
          4298,
          3567,
          2125,
          3739,
          2409,
          4181,
          2239,
          3701,
          2276,
          1991,
          3542,
          3548,
          5589,
          3864,
          4835,
          4015,
          2564,
          1290,
          3130,
          2377,
          1110,
          1952,
          4924,
          1962,
          3818,
          2640,
          2021,
          4801,
          3666,
          1858,
          1121,
          5611,
          7186,
          1998,
          2822,
          2954,
          5031,
          5773,
          2791,
          3149,
          6343,
          5205,
          2301,
          3230,
          2245,
          1167,
          1672,
          3299,
          2001,
          4189,
          3908,
          4258,
          3860,
          5539,
          5470,
          1796,
          4964,
          5834,
          2779,
          1455,
          1806,
          4510,
          4607,
          6779,
          5241,
          2869,
          6279,
          3031,
          5347,
          6528,
          8153,
          4683,
          3232,
          4793,
          3080,
          4282,
          1362,
          4792,
          2087,
          3037,
          4940,
          2787,
          2478,
          1996,
          3666,
          3728,
          2232,
          3550,
          5973,
          2146,
          3941,
          6424,
          3483,
          5111,
          5313,
          2998,
          4686,
          2102,
          3986,
          3609,
          3136,
          4287,
          3591,
          1058,
          2247,
          2844,
          2803,
          2055,
          798,
          3585,
          2458,
          3415,
          2596,
          4201,
          5117,
          7548,
          7085,
          2211,
          3754,
          2680,
          4426,
          2975,
          4001,
          2211,
          4912,
          7281,
          6928,
          3259,
          6049,
          5158,
          2016,
          2326,
          2411,
          2687,
          4666,
          725,
          4695,
          3643,
          1717,
          3086,
          3096,
          6888,
          4654,
          3989,
          3686,
          1808,
          6834,
          1819,
          2065,
          4321,
          2012,
          7248,
          2347,
          1162,
          3138,
          5943,
          5918,
          1871,
          3842,
          4745,
          3520,
          2686,
          2428,
          3080,
          3431,
          1688,
          4556,
          5349,
          1827,
          6502,
          1606,
          2967,
          1342,
          2067,
          2209,
          1875,
          6924,
          6787,
          8555,
          4351,
          4988,
          1443,
          3047,
          2223,
          3824,
          2774,
          5954,
          2100,
          1331,
          3697,
          7000,
          4192,
          3476,
          1995,
          4806,
          1891,
          1822,
          2704,
          1882,
          4389,
          6467,
          1072,
          3107,
          864,
          1655,
          1328,
          2085,
          1170,
          2114,
          1885,
          2271,
          4264,
          4206,
          2832,
          2017,
          4120,
          8030,
          3130,
          5288,
          4380,
          2143,
          1274,
          3108,
          2705,
          868,
          4931,
          6142,
          4259,
          2407,
          4161,
          4220,
          4824,
          4503,
          4412,
          5849,
          2884,
          4307,
          2205,
          4859,
          3545,
          7629,
          1673,
          3777,
          3256,
          1318,
          3236,
          2181,
          4847,
          4974,
          4350,
          4623,
          4080,
          3939,
          2445,
          3185,
          1223,
          2281,
          3545,
          2079,
          3117,
          2978,
          3786,
          3533,
          6560,
          2228,
          3175,
          3183,
          7060,
          1707,
          2834,
          2418,
          1872,
          5669,
          5895,
          5930,
          2675,
          2687,
          5233
         ]
        }
       ],
       "layout": {
        "template": {
         "data": {
          "bar": [
           {
            "error_x": {
             "color": "#2a3f5f"
            },
            "error_y": {
             "color": "#2a3f5f"
            },
            "marker": {
             "line": {
              "color": "#E5ECF6",
              "width": 0.5
             },
             "pattern": {
              "fillmode": "overlay",
              "size": 10,
              "solidity": 0.2
             }
            },
            "type": "bar"
           }
          ],
          "barpolar": [
           {
            "marker": {
             "line": {
              "color": "#E5ECF6",
              "width": 0.5
             },
             "pattern": {
              "fillmode": "overlay",
              "size": 10,
              "solidity": 0.2
             }
            },
            "type": "barpolar"
           }
          ],
          "carpet": [
           {
            "aaxis": {
             "endlinecolor": "#2a3f5f",
             "gridcolor": "white",
             "linecolor": "white",
             "minorgridcolor": "white",
             "startlinecolor": "#2a3f5f"
            },
            "baxis": {
             "endlinecolor": "#2a3f5f",
             "gridcolor": "white",
             "linecolor": "white",
             "minorgridcolor": "white",
             "startlinecolor": "#2a3f5f"
            },
            "type": "carpet"
           }
          ],
          "choropleth": [
           {
            "colorbar": {
             "outlinewidth": 0,
             "ticks": ""
            },
            "type": "choropleth"
           }
          ],
          "contour": [
           {
            "colorbar": {
             "outlinewidth": 0,
             "ticks": ""
            },
            "colorscale": [
             [
              0,
              "#0d0887"
             ],
             [
              0.1111111111111111,
              "#46039f"
             ],
             [
              0.2222222222222222,
              "#7201a8"
             ],
             [
              0.3333333333333333,
              "#9c179e"
             ],
             [
              0.4444444444444444,
              "#bd3786"
             ],
             [
              0.5555555555555556,
              "#d8576b"
             ],
             [
              0.6666666666666666,
              "#ed7953"
             ],
             [
              0.7777777777777778,
              "#fb9f3a"
             ],
             [
              0.8888888888888888,
              "#fdca26"
             ],
             [
              1,
              "#f0f921"
             ]
            ],
            "type": "contour"
           }
          ],
          "contourcarpet": [
           {
            "colorbar": {
             "outlinewidth": 0,
             "ticks": ""
            },
            "type": "contourcarpet"
           }
          ],
          "heatmap": [
           {
            "colorbar": {
             "outlinewidth": 0,
             "ticks": ""
            },
            "colorscale": [
             [
              0,
              "#0d0887"
             ],
             [
              0.1111111111111111,
              "#46039f"
             ],
             [
              0.2222222222222222,
              "#7201a8"
             ],
             [
              0.3333333333333333,
              "#9c179e"
             ],
             [
              0.4444444444444444,
              "#bd3786"
             ],
             [
              0.5555555555555556,
              "#d8576b"
             ],
             [
              0.6666666666666666,
              "#ed7953"
             ],
             [
              0.7777777777777778,
              "#fb9f3a"
             ],
             [
              0.8888888888888888,
              "#fdca26"
             ],
             [
              1,
              "#f0f921"
             ]
            ],
            "type": "heatmap"
           }
          ],
          "heatmapgl": [
           {
            "colorbar": {
             "outlinewidth": 0,
             "ticks": ""
            },
            "colorscale": [
             [
              0,
              "#0d0887"
             ],
             [
              0.1111111111111111,
              "#46039f"
             ],
             [
              0.2222222222222222,
              "#7201a8"
             ],
             [
              0.3333333333333333,
              "#9c179e"
             ],
             [
              0.4444444444444444,
              "#bd3786"
             ],
             [
              0.5555555555555556,
              "#d8576b"
             ],
             [
              0.6666666666666666,
              "#ed7953"
             ],
             [
              0.7777777777777778,
              "#fb9f3a"
             ],
             [
              0.8888888888888888,
              "#fdca26"
             ],
             [
              1,
              "#f0f921"
             ]
            ],
            "type": "heatmapgl"
           }
          ],
          "histogram": [
           {
            "marker": {
             "pattern": {
              "fillmode": "overlay",
              "size": 10,
              "solidity": 0.2
             }
            },
            "type": "histogram"
           }
          ],
          "histogram2d": [
           {
            "colorbar": {
             "outlinewidth": 0,
             "ticks": ""
            },
            "colorscale": [
             [
              0,
              "#0d0887"
             ],
             [
              0.1111111111111111,
              "#46039f"
             ],
             [
              0.2222222222222222,
              "#7201a8"
             ],
             [
              0.3333333333333333,
              "#9c179e"
             ],
             [
              0.4444444444444444,
              "#bd3786"
             ],
             [
              0.5555555555555556,
              "#d8576b"
             ],
             [
              0.6666666666666666,
              "#ed7953"
             ],
             [
              0.7777777777777778,
              "#fb9f3a"
             ],
             [
              0.8888888888888888,
              "#fdca26"
             ],
             [
              1,
              "#f0f921"
             ]
            ],
            "type": "histogram2d"
           }
          ],
          "histogram2dcontour": [
           {
            "colorbar": {
             "outlinewidth": 0,
             "ticks": ""
            },
            "colorscale": [
             [
              0,
              "#0d0887"
             ],
             [
              0.1111111111111111,
              "#46039f"
             ],
             [
              0.2222222222222222,
              "#7201a8"
             ],
             [
              0.3333333333333333,
              "#9c179e"
             ],
             [
              0.4444444444444444,
              "#bd3786"
             ],
             [
              0.5555555555555556,
              "#d8576b"
             ],
             [
              0.6666666666666666,
              "#ed7953"
             ],
             [
              0.7777777777777778,
              "#fb9f3a"
             ],
             [
              0.8888888888888888,
              "#fdca26"
             ],
             [
              1,
              "#f0f921"
             ]
            ],
            "type": "histogram2dcontour"
           }
          ],
          "mesh3d": [
           {
            "colorbar": {
             "outlinewidth": 0,
             "ticks": ""
            },
            "type": "mesh3d"
           }
          ],
          "parcoords": [
           {
            "line": {
             "colorbar": {
              "outlinewidth": 0,
              "ticks": ""
             }
            },
            "type": "parcoords"
           }
          ],
          "pie": [
           {
            "automargin": true,
            "type": "pie"
           }
          ],
          "scatter": [
           {
            "fillpattern": {
             "fillmode": "overlay",
             "size": 10,
             "solidity": 0.2
            },
            "type": "scatter"
           }
          ],
          "scatter3d": [
           {
            "line": {
             "colorbar": {
              "outlinewidth": 0,
              "ticks": ""
             }
            },
            "marker": {
             "colorbar": {
              "outlinewidth": 0,
              "ticks": ""
             }
            },
            "type": "scatter3d"
           }
          ],
          "scattercarpet": [
           {
            "marker": {
             "colorbar": {
              "outlinewidth": 0,
              "ticks": ""
             }
            },
            "type": "scattercarpet"
           }
          ],
          "scattergeo": [
           {
            "marker": {
             "colorbar": {
              "outlinewidth": 0,
              "ticks": ""
             }
            },
            "type": "scattergeo"
           }
          ],
          "scattergl": [
           {
            "marker": {
             "colorbar": {
              "outlinewidth": 0,
              "ticks": ""
             }
            },
            "type": "scattergl"
           }
          ],
          "scattermapbox": [
           {
            "marker": {
             "colorbar": {
              "outlinewidth": 0,
              "ticks": ""
             }
            },
            "type": "scattermapbox"
           }
          ],
          "scatterpolar": [
           {
            "marker": {
             "colorbar": {
              "outlinewidth": 0,
              "ticks": ""
             }
            },
            "type": "scatterpolar"
           }
          ],
          "scatterpolargl": [
           {
            "marker": {
             "colorbar": {
              "outlinewidth": 0,
              "ticks": ""
             }
            },
            "type": "scatterpolargl"
           }
          ],
          "scatterternary": [
           {
            "marker": {
             "colorbar": {
              "outlinewidth": 0,
              "ticks": ""
             }
            },
            "type": "scatterternary"
           }
          ],
          "surface": [
           {
            "colorbar": {
             "outlinewidth": 0,
             "ticks": ""
            },
            "colorscale": [
             [
              0,
              "#0d0887"
             ],
             [
              0.1111111111111111,
              "#46039f"
             ],
             [
              0.2222222222222222,
              "#7201a8"
             ],
             [
              0.3333333333333333,
              "#9c179e"
             ],
             [
              0.4444444444444444,
              "#bd3786"
             ],
             [
              0.5555555555555556,
              "#d8576b"
             ],
             [
              0.6666666666666666,
              "#ed7953"
             ],
             [
              0.7777777777777778,
              "#fb9f3a"
             ],
             [
              0.8888888888888888,
              "#fdca26"
             ],
             [
              1,
              "#f0f921"
             ]
            ],
            "type": "surface"
           }
          ],
          "table": [
           {
            "cells": {
             "fill": {
              "color": "#EBF0F8"
             },
             "line": {
              "color": "white"
             }
            },
            "header": {
             "fill": {
              "color": "#C8D4E3"
             },
             "line": {
              "color": "white"
             }
            },
            "type": "table"
           }
          ]
         },
         "layout": {
          "annotationdefaults": {
           "arrowcolor": "#2a3f5f",
           "arrowhead": 0,
           "arrowwidth": 1
          },
          "autotypenumbers": "strict",
          "coloraxis": {
           "colorbar": {
            "outlinewidth": 0,
            "ticks": ""
           }
          },
          "colorscale": {
           "diverging": [
            [
             0,
             "#8e0152"
            ],
            [
             0.1,
             "#c51b7d"
            ],
            [
             0.2,
             "#de77ae"
            ],
            [
             0.3,
             "#f1b6da"
            ],
            [
             0.4,
             "#fde0ef"
            ],
            [
             0.5,
             "#f7f7f7"
            ],
            [
             0.6,
             "#e6f5d0"
            ],
            [
             0.7,
             "#b8e186"
            ],
            [
             0.8,
             "#7fbc41"
            ],
            [
             0.9,
             "#4d9221"
            ],
            [
             1,
             "#276419"
            ]
           ],
           "sequential": [
            [
             0,
             "#0d0887"
            ],
            [
             0.1111111111111111,
             "#46039f"
            ],
            [
             0.2222222222222222,
             "#7201a8"
            ],
            [
             0.3333333333333333,
             "#9c179e"
            ],
            [
             0.4444444444444444,
             "#bd3786"
            ],
            [
             0.5555555555555556,
             "#d8576b"
            ],
            [
             0.6666666666666666,
             "#ed7953"
            ],
            [
             0.7777777777777778,
             "#fb9f3a"
            ],
            [
             0.8888888888888888,
             "#fdca26"
            ],
            [
             1,
             "#f0f921"
            ]
           ],
           "sequentialminus": [
            [
             0,
             "#0d0887"
            ],
            [
             0.1111111111111111,
             "#46039f"
            ],
            [
             0.2222222222222222,
             "#7201a8"
            ],
            [
             0.3333333333333333,
             "#9c179e"
            ],
            [
             0.4444444444444444,
             "#bd3786"
            ],
            [
             0.5555555555555556,
             "#d8576b"
            ],
            [
             0.6666666666666666,
             "#ed7953"
            ],
            [
             0.7777777777777778,
             "#fb9f3a"
            ],
            [
             0.8888888888888888,
             "#fdca26"
            ],
            [
             1,
             "#f0f921"
            ]
           ]
          },
          "colorway": [
           "#636efa",
           "#EF553B",
           "#00cc96",
           "#ab63fa",
           "#FFA15A",
           "#19d3f3",
           "#FF6692",
           "#B6E880",
           "#FF97FF",
           "#FECB52"
          ],
          "font": {
           "color": "#2a3f5f"
          },
          "geo": {
           "bgcolor": "white",
           "lakecolor": "white",
           "landcolor": "#E5ECF6",
           "showlakes": true,
           "showland": true,
           "subunitcolor": "white"
          },
          "hoverlabel": {
           "align": "left"
          },
          "hovermode": "closest",
          "mapbox": {
           "style": "light"
          },
          "paper_bgcolor": "white",
          "plot_bgcolor": "#E5ECF6",
          "polar": {
           "angularaxis": {
            "gridcolor": "white",
            "linecolor": "white",
            "ticks": ""
           },
           "bgcolor": "#E5ECF6",
           "radialaxis": {
            "gridcolor": "white",
            "linecolor": "white",
            "ticks": ""
           }
          },
          "scene": {
           "xaxis": {
            "backgroundcolor": "#E5ECF6",
            "gridcolor": "white",
            "gridwidth": 2,
            "linecolor": "white",
            "showbackground": true,
            "ticks": "",
            "zerolinecolor": "white"
           },
           "yaxis": {
            "backgroundcolor": "#E5ECF6",
            "gridcolor": "white",
            "gridwidth": 2,
            "linecolor": "white",
            "showbackground": true,
            "ticks": "",
            "zerolinecolor": "white"
           },
           "zaxis": {
            "backgroundcolor": "#E5ECF6",
            "gridcolor": "white",
            "gridwidth": 2,
            "linecolor": "white",
            "showbackground": true,
            "ticks": "",
            "zerolinecolor": "white"
           }
          },
          "shapedefaults": {
           "line": {
            "color": "#2a3f5f"
           }
          },
          "ternary": {
           "aaxis": {
            "gridcolor": "white",
            "linecolor": "white",
            "ticks": ""
           },
           "baxis": {
            "gridcolor": "white",
            "linecolor": "white",
            "ticks": ""
           },
           "bgcolor": "#E5ECF6",
           "caxis": {
            "gridcolor": "white",
            "linecolor": "white",
            "ticks": ""
           }
          },
          "title": {
           "x": 0.05
          },
          "xaxis": {
           "automargin": true,
           "gridcolor": "white",
           "linecolor": "white",
           "ticks": "",
           "title": {
            "standoff": 15
           },
           "zerolinecolor": "white",
           "zerolinewidth": 2
          },
          "yaxis": {
           "automargin": true,
           "gridcolor": "white",
           "linecolor": "white",
           "ticks": "",
           "title": {
            "standoff": 15
           },
           "zerolinecolor": "white",
           "zerolinewidth": 2
          }
         }
        }
       }
      },
      "text/html": [
       "<div>                            <div id=\"22feebd1-aba9-4f9a-bdb1-b28c559d8989\" class=\"plotly-graph-div\" style=\"height:525px; width:100%;\"></div>            <script type=\"text/javascript\">                require([\"plotly\"], function(Plotly) {                    window.PLOTLYENV=window.PLOTLYENV || {};                                    if (document.getElementById(\"22feebd1-aba9-4f9a-bdb1-b28c559d8989\")) {                    Plotly.newPlot(                        \"22feebd1-aba9-4f9a-bdb1-b28c559d8989\",                        [{\"mode\":\"markers\",\"x\":[51,33,45,33,41,55,43,26,43,51,49,32,29,24,53,21,49,57,39,44,49,52,32,51,35,57,32,25,54,46,51,28,18,30,18,57,43,27,26,22,52,41,18,21,50,56,48,50,20,23,46,39,26,30,56,19,29,37,44,24,19,47,54,56,51,49,57,56,36,39,31,48,57,39,27,50,46,28,40,38,54,53,38,36,45,52,55,22,20,50,19,28,47,22,39,24,23,28,46,33,31,50,38,47,23,31,41,36,26,21,50,21,25,33,27,59,46,51,28,24,37,24,39,50,36,20,42,21,46,37,31,51,50,22,22,41,52,31,54,51,39,24,40,40,44,21,50,25,28,31,47,19,31,38,55,45,38,23,29,28,34,39,52,20,25,47,31,22,31,23,47,57,46,41,52,37,55,24,49,47,41,20,29,35,44,57,27,35,59,19,33,45,34,18,43,44,28,54,22,37,31,48,38,23,49,58,18,20,58,49,41,23,51,56,35,25,34,38,27,26,58,28,43,32,53,32,56,47,40,37,42,52,31,47,47,43,57,38,31,57,53,36,47,59,56,34,55,37,48,26,50,20,38,39,35,49,39,33,28,28,25,45,22,33,45,27,47,40,33,39,34,45,31,51,31,28,21,44,28,44,43,18,59,45,26,27,28,49,52,55,38,31,45,36,52,33,27,37,50,48,29,41,38,43,35,20,29,42,18,40,27,29,41,58,54,46,28,32,26,53,42,33,31,48,56,29,18,22,57,54,32,26,31,26,37,34,56,30,25,34,59,27,46,18,19,22,30,21,33,49,58,58,37,37,20,54,57,45,58,50,33,31,30,55,47,27,32,51,44,18,59,22,29,55,21,38,24,22,29,23,19,21,21,24,33,34,47,32,32,56,31,44,51,20,29,43,49,20,46,45,35,29,31,34,34,31,51,53,20,29,27,54,55,52,34,48,30,24,31,23,48,50,46,46,38,39,36,22,21,35,29,49,26,23,59,50,59,36,42,45,55,27,29,25,24,56,43,50,52,45,38],\"y\":[3466,2770,3990,1876,4797,5164,4296,2099,5798,6595,6814,2923,4369,2790,2557,1619,5137,4443,2163,5679,6024,7140,1727,2397,3234,5030,1526,3584,4243,6550,4741,1528,2029,3061,1207,4896,4673,2827,1632,1543,6344,4915,1651,1623,2182,6455,5439,3437,1393,1938,4570,4320,1285,2239,3501,996,4166,4400,4177,2827,1987,6897,6031,4306,7405,3041,4657,4135,1909,5136,1143,5991,7865,1605,1697,2609,5757,3617,2849,5004,3672,5040,2109,2112,4825,6526,3397,1706,2679,3483,1113,1839,4021,1294,5784,2491,1997,2268,6033,2028,3753,6427,1873,4041,1625,1272,4749,3732,1655,1560,3295,1998,1285,1923,2701,3996,4606,4507,4052,2864,4916,2690,1874,4311,1828,2146,3611,2579,5034,3845,2836,3382,2853,868,2891,5910,3770,2867,6968,4328,4818,1434,1953,2555,6500,2960,2939,1156,3913,4248,3210,1510,2478,3776,3378,3233,2479,2463,2933,1207,1340,4072,5722,2729,3598,4505,1786,1895,3332,2813,3533,6500,5102,4298,3567,2125,3739,2409,4181,2239,3701,2276,1991,3542,3548,5589,3864,4835,4015,2564,1290,3130,2377,1110,1952,4924,1962,3818,2640,2021,4801,3666,1858,1121,5611,7186,1998,2822,2954,5031,5773,2791,3149,6343,5205,2301,3230,2245,1167,1672,3299,2001,4189,3908,4258,3860,5539,5470,1796,4964,5834,2779,1455,1806,4510,4607,6779,5241,2869,6279,3031,5347,6528,8153,4683,3232,4793,3080,4282,1362,4792,2087,3037,4940,2787,2478,1996,3666,3728,2232,3550,5973,2146,3941,6424,3483,5111,5313,2998,4686,2102,3986,3609,3136,4287,3591,1058,2247,2844,2803,2055,798,3585,2458,3415,2596,4201,5117,7548,7085,2211,3754,2680,4426,2975,4001,2211,4912,7281,6928,3259,6049,5158,2016,2326,2411,2687,4666,725,4695,3643,1717,3086,3096,6888,4654,3989,3686,1808,6834,1819,2065,4321,2012,7248,2347,1162,3138,5943,5918,1871,3842,4745,3520,2686,2428,3080,3431,1688,4556,5349,1827,6502,1606,2967,1342,2067,2209,1875,6924,6787,8555,4351,4988,1443,3047,2223,3824,2774,5954,2100,1331,3697,7000,4192,3476,1995,4806,1891,1822,2704,1882,4389,6467,1072,3107,864,1655,1328,2085,1170,2114,1885,2271,4264,4206,2832,2017,4120,8030,3130,5288,4380,2143,1274,3108,2705,868,4931,6142,4259,2407,4161,4220,4824,4503,4412,5849,2884,4307,2205,4859,3545,7629,1673,3777,3256,1318,3236,2181,4847,4974,4350,4623,4080,3939,2445,3185,1223,2281,3545,2079,3117,2978,3786,3533,6560,2228,3175,3183,7060,1707,2834,2418,1872,5669,5895,5930,2675,2687,5233],\"type\":\"scatter\"}],                        {\"template\":{\"data\":{\"barpolar\":[{\"marker\":{\"line\":{\"color\":\"#E5ECF6\",\"width\":0.5},\"pattern\":{\"fillmode\":\"overlay\",\"size\":10,\"solidity\":0.2}},\"type\":\"barpolar\"}],\"bar\":[{\"error_x\":{\"color\":\"#2a3f5f\"},\"error_y\":{\"color\":\"#2a3f5f\"},\"marker\":{\"line\":{\"color\":\"#E5ECF6\",\"width\":0.5},\"pattern\":{\"fillmode\":\"overlay\",\"size\":10,\"solidity\":0.2}},\"type\":\"bar\"}],\"carpet\":[{\"aaxis\":{\"endlinecolor\":\"#2a3f5f\",\"gridcolor\":\"white\",\"linecolor\":\"white\",\"minorgridcolor\":\"white\",\"startlinecolor\":\"#2a3f5f\"},\"baxis\":{\"endlinecolor\":\"#2a3f5f\",\"gridcolor\":\"white\",\"linecolor\":\"white\",\"minorgridcolor\":\"white\",\"startlinecolor\":\"#2a3f5f\"},\"type\":\"carpet\"}],\"choropleth\":[{\"colorbar\":{\"outlinewidth\":0,\"ticks\":\"\"},\"type\":\"choropleth\"}],\"contourcarpet\":[{\"colorbar\":{\"outlinewidth\":0,\"ticks\":\"\"},\"type\":\"contourcarpet\"}],\"contour\":[{\"colorbar\":{\"outlinewidth\":0,\"ticks\":\"\"},\"colorscale\":[[0.0,\"#0d0887\"],[0.1111111111111111,\"#46039f\"],[0.2222222222222222,\"#7201a8\"],[0.3333333333333333,\"#9c179e\"],[0.4444444444444444,\"#bd3786\"],[0.5555555555555556,\"#d8576b\"],[0.6666666666666666,\"#ed7953\"],[0.7777777777777778,\"#fb9f3a\"],[0.8888888888888888,\"#fdca26\"],[1.0,\"#f0f921\"]],\"type\":\"contour\"}],\"heatmapgl\":[{\"colorbar\":{\"outlinewidth\":0,\"ticks\":\"\"},\"colorscale\":[[0.0,\"#0d0887\"],[0.1111111111111111,\"#46039f\"],[0.2222222222222222,\"#7201a8\"],[0.3333333333333333,\"#9c179e\"],[0.4444444444444444,\"#bd3786\"],[0.5555555555555556,\"#d8576b\"],[0.6666666666666666,\"#ed7953\"],[0.7777777777777778,\"#fb9f3a\"],[0.8888888888888888,\"#fdca26\"],[1.0,\"#f0f921\"]],\"type\":\"heatmapgl\"}],\"heatmap\":[{\"colorbar\":{\"outlinewidth\":0,\"ticks\":\"\"},\"colorscale\":[[0.0,\"#0d0887\"],[0.1111111111111111,\"#46039f\"],[0.2222222222222222,\"#7201a8\"],[0.3333333333333333,\"#9c179e\"],[0.4444444444444444,\"#bd3786\"],[0.5555555555555556,\"#d8576b\"],[0.6666666666666666,\"#ed7953\"],[0.7777777777777778,\"#fb9f3a\"],[0.8888888888888888,\"#fdca26\"],[1.0,\"#f0f921\"]],\"type\":\"heatmap\"}],\"histogram2dcontour\":[{\"colorbar\":{\"outlinewidth\":0,\"ticks\":\"\"},\"colorscale\":[[0.0,\"#0d0887\"],[0.1111111111111111,\"#46039f\"],[0.2222222222222222,\"#7201a8\"],[0.3333333333333333,\"#9c179e\"],[0.4444444444444444,\"#bd3786\"],[0.5555555555555556,\"#d8576b\"],[0.6666666666666666,\"#ed7953\"],[0.7777777777777778,\"#fb9f3a\"],[0.8888888888888888,\"#fdca26\"],[1.0,\"#f0f921\"]],\"type\":\"histogram2dcontour\"}],\"histogram2d\":[{\"colorbar\":{\"outlinewidth\":0,\"ticks\":\"\"},\"colorscale\":[[0.0,\"#0d0887\"],[0.1111111111111111,\"#46039f\"],[0.2222222222222222,\"#7201a8\"],[0.3333333333333333,\"#9c179e\"],[0.4444444444444444,\"#bd3786\"],[0.5555555555555556,\"#d8576b\"],[0.6666666666666666,\"#ed7953\"],[0.7777777777777778,\"#fb9f3a\"],[0.8888888888888888,\"#fdca26\"],[1.0,\"#f0f921\"]],\"type\":\"histogram2d\"}],\"histogram\":[{\"marker\":{\"pattern\":{\"fillmode\":\"overlay\",\"size\":10,\"solidity\":0.2}},\"type\":\"histogram\"}],\"mesh3d\":[{\"colorbar\":{\"outlinewidth\":0,\"ticks\":\"\"},\"type\":\"mesh3d\"}],\"parcoords\":[{\"line\":{\"colorbar\":{\"outlinewidth\":0,\"ticks\":\"\"}},\"type\":\"parcoords\"}],\"pie\":[{\"automargin\":true,\"type\":\"pie\"}],\"scatter3d\":[{\"line\":{\"colorbar\":{\"outlinewidth\":0,\"ticks\":\"\"}},\"marker\":{\"colorbar\":{\"outlinewidth\":0,\"ticks\":\"\"}},\"type\":\"scatter3d\"}],\"scattercarpet\":[{\"marker\":{\"colorbar\":{\"outlinewidth\":0,\"ticks\":\"\"}},\"type\":\"scattercarpet\"}],\"scattergeo\":[{\"marker\":{\"colorbar\":{\"outlinewidth\":0,\"ticks\":\"\"}},\"type\":\"scattergeo\"}],\"scattergl\":[{\"marker\":{\"colorbar\":{\"outlinewidth\":0,\"ticks\":\"\"}},\"type\":\"scattergl\"}],\"scattermapbox\":[{\"marker\":{\"colorbar\":{\"outlinewidth\":0,\"ticks\":\"\"}},\"type\":\"scattermapbox\"}],\"scatterpolargl\":[{\"marker\":{\"colorbar\":{\"outlinewidth\":0,\"ticks\":\"\"}},\"type\":\"scatterpolargl\"}],\"scatterpolar\":[{\"marker\":{\"colorbar\":{\"outlinewidth\":0,\"ticks\":\"\"}},\"type\":\"scatterpolar\"}],\"scatter\":[{\"fillpattern\":{\"fillmode\":\"overlay\",\"size\":10,\"solidity\":0.2},\"type\":\"scatter\"}],\"scatterternary\":[{\"marker\":{\"colorbar\":{\"outlinewidth\":0,\"ticks\":\"\"}},\"type\":\"scatterternary\"}],\"surface\":[{\"colorbar\":{\"outlinewidth\":0,\"ticks\":\"\"},\"colorscale\":[[0.0,\"#0d0887\"],[0.1111111111111111,\"#46039f\"],[0.2222222222222222,\"#7201a8\"],[0.3333333333333333,\"#9c179e\"],[0.4444444444444444,\"#bd3786\"],[0.5555555555555556,\"#d8576b\"],[0.6666666666666666,\"#ed7953\"],[0.7777777777777778,\"#fb9f3a\"],[0.8888888888888888,\"#fdca26\"],[1.0,\"#f0f921\"]],\"type\":\"surface\"}],\"table\":[{\"cells\":{\"fill\":{\"color\":\"#EBF0F8\"},\"line\":{\"color\":\"white\"}},\"header\":{\"fill\":{\"color\":\"#C8D4E3\"},\"line\":{\"color\":\"white\"}},\"type\":\"table\"}]},\"layout\":{\"annotationdefaults\":{\"arrowcolor\":\"#2a3f5f\",\"arrowhead\":0,\"arrowwidth\":1},\"autotypenumbers\":\"strict\",\"coloraxis\":{\"colorbar\":{\"outlinewidth\":0,\"ticks\":\"\"}},\"colorscale\":{\"diverging\":[[0,\"#8e0152\"],[0.1,\"#c51b7d\"],[0.2,\"#de77ae\"],[0.3,\"#f1b6da\"],[0.4,\"#fde0ef\"],[0.5,\"#f7f7f7\"],[0.6,\"#e6f5d0\"],[0.7,\"#b8e186\"],[0.8,\"#7fbc41\"],[0.9,\"#4d9221\"],[1,\"#276419\"]],\"sequential\":[[0.0,\"#0d0887\"],[0.1111111111111111,\"#46039f\"],[0.2222222222222222,\"#7201a8\"],[0.3333333333333333,\"#9c179e\"],[0.4444444444444444,\"#bd3786\"],[0.5555555555555556,\"#d8576b\"],[0.6666666666666666,\"#ed7953\"],[0.7777777777777778,\"#fb9f3a\"],[0.8888888888888888,\"#fdca26\"],[1.0,\"#f0f921\"]],\"sequentialminus\":[[0.0,\"#0d0887\"],[0.1111111111111111,\"#46039f\"],[0.2222222222222222,\"#7201a8\"],[0.3333333333333333,\"#9c179e\"],[0.4444444444444444,\"#bd3786\"],[0.5555555555555556,\"#d8576b\"],[0.6666666666666666,\"#ed7953\"],[0.7777777777777778,\"#fb9f3a\"],[0.8888888888888888,\"#fdca26\"],[1.0,\"#f0f921\"]]},\"colorway\":[\"#636efa\",\"#EF553B\",\"#00cc96\",\"#ab63fa\",\"#FFA15A\",\"#19d3f3\",\"#FF6692\",\"#B6E880\",\"#FF97FF\",\"#FECB52\"],\"font\":{\"color\":\"#2a3f5f\"},\"geo\":{\"bgcolor\":\"white\",\"lakecolor\":\"white\",\"landcolor\":\"#E5ECF6\",\"showlakes\":true,\"showland\":true,\"subunitcolor\":\"white\"},\"hoverlabel\":{\"align\":\"left\"},\"hovermode\":\"closest\",\"mapbox\":{\"style\":\"light\"},\"paper_bgcolor\":\"white\",\"plot_bgcolor\":\"#E5ECF6\",\"polar\":{\"angularaxis\":{\"gridcolor\":\"white\",\"linecolor\":\"white\",\"ticks\":\"\"},\"bgcolor\":\"#E5ECF6\",\"radialaxis\":{\"gridcolor\":\"white\",\"linecolor\":\"white\",\"ticks\":\"\"}},\"scene\":{\"xaxis\":{\"backgroundcolor\":\"#E5ECF6\",\"gridcolor\":\"white\",\"gridwidth\":2,\"linecolor\":\"white\",\"showbackground\":true,\"ticks\":\"\",\"zerolinecolor\":\"white\"},\"yaxis\":{\"backgroundcolor\":\"#E5ECF6\",\"gridcolor\":\"white\",\"gridwidth\":2,\"linecolor\":\"white\",\"showbackground\":true,\"ticks\":\"\",\"zerolinecolor\":\"white\"},\"zaxis\":{\"backgroundcolor\":\"#E5ECF6\",\"gridcolor\":\"white\",\"gridwidth\":2,\"linecolor\":\"white\",\"showbackground\":true,\"ticks\":\"\",\"zerolinecolor\":\"white\"}},\"shapedefaults\":{\"line\":{\"color\":\"#2a3f5f\"}},\"ternary\":{\"aaxis\":{\"gridcolor\":\"white\",\"linecolor\":\"white\",\"ticks\":\"\"},\"baxis\":{\"gridcolor\":\"white\",\"linecolor\":\"white\",\"ticks\":\"\"},\"bgcolor\":\"#E5ECF6\",\"caxis\":{\"gridcolor\":\"white\",\"linecolor\":\"white\",\"ticks\":\"\"}},\"title\":{\"x\":0.05},\"xaxis\":{\"automargin\":true,\"gridcolor\":\"white\",\"linecolor\":\"white\",\"ticks\":\"\",\"title\":{\"standoff\":15},\"zerolinecolor\":\"white\",\"zerolinewidth\":2},\"yaxis\":{\"automargin\":true,\"gridcolor\":\"white\",\"linecolor\":\"white\",\"ticks\":\"\",\"title\":{\"standoff\":15},\"zerolinecolor\":\"white\",\"zerolinewidth\":2}}}},                        {\"responsive\": true}                    ).then(function(){\n",
       "                            \n",
       "var gd = document.getElementById('22feebd1-aba9-4f9a-bdb1-b28c559d8989');\n",
       "var x = new MutationObserver(function (mutations, observer) {{\n",
       "        var display = window.getComputedStyle(gd).display;\n",
       "        if (!display || display === 'none') {{\n",
       "            console.log([gd, 'removed!']);\n",
       "            Plotly.purge(gd);\n",
       "            observer.disconnect();\n",
       "        }}\n",
       "}});\n",
       "\n",
       "// Listen for the removal of the full notebook cells\n",
       "var notebookContainer = gd.closest('#notebook-container');\n",
       "if (notebookContainer) {{\n",
       "    x.observe(notebookContainer, {childList: true});\n",
       "}}\n",
       "\n",
       "// Listen for the clearing of the current output cell\n",
       "var outputEl = gd.closest('.output');\n",
       "if (outputEl) {{\n",
       "    x.observe(outputEl, {childList: true});\n",
       "}}\n",
       "\n",
       "                        })                };                });            </script>        </div>"
      ]
     },
     "metadata": {},
     "output_type": "display_data"
    }
   ],
   "source": [
    "scatter = go.Scatter(x = df['user_age'],\n",
    "                     y = df['total_amount'],\n",
    "                     mode = 'markers'\n",
    "          )\n",
    "\n",
    "fig = go.Figure(data = scatter)\n",
    "\n",
    "iplot(fig)"
   ]
  },
  {
   "cell_type": "code",
   "execution_count": 41,
   "id": "7ca27e83",
   "metadata": {},
   "outputs": [
    {
     "data": {
      "application/vnd.plotly.v1+json": {
       "config": {
        "linkText": "Export to plot.ly",
        "plotlyServerURL": "https://plot.ly",
        "showLink": false
       },
       "data": [
        {
         "marker": {
          "color": "blue",
          "opacity": 0.65,
          "size": 8
         },
         "mode": "markers",
         "type": "scatter",
         "x": [
          51,
          33,
          45,
          33,
          41,
          55,
          43,
          26,
          43,
          51,
          49,
          32,
          29,
          24,
          53,
          21,
          49,
          57,
          39,
          44,
          49,
          52,
          32,
          51,
          35,
          57,
          32,
          25,
          54,
          46,
          51,
          28,
          18,
          30,
          18,
          57,
          43,
          27,
          26,
          22,
          52,
          41,
          18,
          21,
          50,
          56,
          48,
          50,
          20,
          23,
          46,
          39,
          26,
          30,
          56,
          19,
          29,
          37,
          44,
          24,
          19,
          47,
          54,
          56,
          51,
          49,
          57,
          56,
          36,
          39,
          31,
          48,
          57,
          39,
          27,
          50,
          46,
          28,
          40,
          38,
          54,
          53,
          38,
          36,
          45,
          52,
          55,
          22,
          20,
          50,
          19,
          28,
          47,
          22,
          39,
          24,
          23,
          28,
          46,
          33,
          31,
          50,
          38,
          47,
          23,
          31,
          41,
          36,
          26,
          21,
          50,
          21,
          25,
          33,
          27,
          59,
          46,
          51,
          28,
          24,
          37,
          24,
          39,
          50,
          36,
          20,
          42,
          21,
          46,
          37,
          31,
          51,
          50,
          22,
          22,
          41,
          52,
          31,
          54,
          51,
          39,
          24,
          40,
          40,
          44,
          21,
          50,
          25,
          28,
          31,
          47,
          19,
          31,
          38,
          55,
          45,
          38,
          23,
          29,
          28,
          34,
          39,
          52,
          20,
          25,
          47,
          31,
          22,
          31,
          23,
          47,
          57,
          46,
          41,
          52,
          37,
          55,
          24,
          49,
          47,
          41,
          20,
          29,
          35,
          44,
          57,
          27,
          35,
          59,
          19,
          33,
          45,
          34,
          18,
          43,
          44,
          28,
          54,
          22,
          37,
          31,
          48,
          38,
          23,
          49,
          58,
          18,
          20,
          58,
          49,
          41,
          23,
          51,
          56,
          35,
          25,
          34,
          38,
          27,
          26,
          58,
          28,
          43,
          32,
          53,
          32,
          56,
          47,
          40,
          37,
          42,
          52,
          31,
          47,
          47,
          43,
          57,
          38,
          31,
          57,
          53,
          36,
          47,
          59,
          56,
          34,
          55,
          37,
          48,
          26,
          50,
          20,
          38,
          39,
          35,
          49,
          39,
          33,
          28,
          28,
          25,
          45,
          22,
          33,
          45,
          27,
          47,
          40,
          33,
          39,
          34,
          45,
          31,
          51,
          31,
          28,
          21,
          44,
          28,
          44,
          43,
          18,
          59,
          45,
          26,
          27,
          28,
          49,
          52,
          55,
          38,
          31,
          45,
          36,
          52,
          33,
          27,
          37,
          50,
          48,
          29,
          41,
          38,
          43,
          35,
          20,
          29,
          42,
          18,
          40,
          27,
          29,
          41,
          58,
          54,
          46,
          28,
          32,
          26,
          53,
          42,
          33,
          31,
          48,
          56,
          29,
          18,
          22,
          57,
          54,
          32,
          26,
          31,
          26,
          37,
          34,
          56,
          30,
          25,
          34,
          59,
          27,
          46,
          18,
          19,
          22,
          30,
          21,
          33,
          49,
          58,
          58,
          37,
          37,
          20,
          54,
          57,
          45,
          58,
          50,
          33,
          31,
          30,
          55,
          47,
          27,
          32,
          51,
          44,
          18,
          59,
          22,
          29,
          55,
          21,
          38,
          24,
          22,
          29,
          23,
          19,
          21,
          21,
          24,
          33,
          34,
          47,
          32,
          32,
          56,
          31,
          44,
          51,
          20,
          29,
          43,
          49,
          20,
          46,
          45,
          35,
          29,
          31,
          34,
          34,
          31,
          51,
          53,
          20,
          29,
          27,
          54,
          55,
          52,
          34,
          48,
          30,
          24,
          31,
          23,
          48,
          50,
          46,
          46,
          38,
          39,
          36,
          22,
          21,
          35,
          29,
          49,
          26,
          23,
          59,
          50,
          59,
          36,
          42,
          45,
          55,
          27,
          29,
          25,
          24,
          56,
          43,
          50,
          52,
          45,
          38
         ],
         "y": [
          3466,
          2770,
          3990,
          1876,
          4797,
          5164,
          4296,
          2099,
          5798,
          6595,
          6814,
          2923,
          4369,
          2790,
          2557,
          1619,
          5137,
          4443,
          2163,
          5679,
          6024,
          7140,
          1727,
          2397,
          3234,
          5030,
          1526,
          3584,
          4243,
          6550,
          4741,
          1528,
          2029,
          3061,
          1207,
          4896,
          4673,
          2827,
          1632,
          1543,
          6344,
          4915,
          1651,
          1623,
          2182,
          6455,
          5439,
          3437,
          1393,
          1938,
          4570,
          4320,
          1285,
          2239,
          3501,
          996,
          4166,
          4400,
          4177,
          2827,
          1987,
          6897,
          6031,
          4306,
          7405,
          3041,
          4657,
          4135,
          1909,
          5136,
          1143,
          5991,
          7865,
          1605,
          1697,
          2609,
          5757,
          3617,
          2849,
          5004,
          3672,
          5040,
          2109,
          2112,
          4825,
          6526,
          3397,
          1706,
          2679,
          3483,
          1113,
          1839,
          4021,
          1294,
          5784,
          2491,
          1997,
          2268,
          6033,
          2028,
          3753,
          6427,
          1873,
          4041,
          1625,
          1272,
          4749,
          3732,
          1655,
          1560,
          3295,
          1998,
          1285,
          1923,
          2701,
          3996,
          4606,
          4507,
          4052,
          2864,
          4916,
          2690,
          1874,
          4311,
          1828,
          2146,
          3611,
          2579,
          5034,
          3845,
          2836,
          3382,
          2853,
          868,
          2891,
          5910,
          3770,
          2867,
          6968,
          4328,
          4818,
          1434,
          1953,
          2555,
          6500,
          2960,
          2939,
          1156,
          3913,
          4248,
          3210,
          1510,
          2478,
          3776,
          3378,
          3233,
          2479,
          2463,
          2933,
          1207,
          1340,
          4072,
          5722,
          2729,
          3598,
          4505,
          1786,
          1895,
          3332,
          2813,
          3533,
          6500,
          5102,
          4298,
          3567,
          2125,
          3739,
          2409,
          4181,
          2239,
          3701,
          2276,
          1991,
          3542,
          3548,
          5589,
          3864,
          4835,
          4015,
          2564,
          1290,
          3130,
          2377,
          1110,
          1952,
          4924,
          1962,
          3818,
          2640,
          2021,
          4801,
          3666,
          1858,
          1121,
          5611,
          7186,
          1998,
          2822,
          2954,
          5031,
          5773,
          2791,
          3149,
          6343,
          5205,
          2301,
          3230,
          2245,
          1167,
          1672,
          3299,
          2001,
          4189,
          3908,
          4258,
          3860,
          5539,
          5470,
          1796,
          4964,
          5834,
          2779,
          1455,
          1806,
          4510,
          4607,
          6779,
          5241,
          2869,
          6279,
          3031,
          5347,
          6528,
          8153,
          4683,
          3232,
          4793,
          3080,
          4282,
          1362,
          4792,
          2087,
          3037,
          4940,
          2787,
          2478,
          1996,
          3666,
          3728,
          2232,
          3550,
          5973,
          2146,
          3941,
          6424,
          3483,
          5111,
          5313,
          2998,
          4686,
          2102,
          3986,
          3609,
          3136,
          4287,
          3591,
          1058,
          2247,
          2844,
          2803,
          2055,
          798,
          3585,
          2458,
          3415,
          2596,
          4201,
          5117,
          7548,
          7085,
          2211,
          3754,
          2680,
          4426,
          2975,
          4001,
          2211,
          4912,
          7281,
          6928,
          3259,
          6049,
          5158,
          2016,
          2326,
          2411,
          2687,
          4666,
          725,
          4695,
          3643,
          1717,
          3086,
          3096,
          6888,
          4654,
          3989,
          3686,
          1808,
          6834,
          1819,
          2065,
          4321,
          2012,
          7248,
          2347,
          1162,
          3138,
          5943,
          5918,
          1871,
          3842,
          4745,
          3520,
          2686,
          2428,
          3080,
          3431,
          1688,
          4556,
          5349,
          1827,
          6502,
          1606,
          2967,
          1342,
          2067,
          2209,
          1875,
          6924,
          6787,
          8555,
          4351,
          4988,
          1443,
          3047,
          2223,
          3824,
          2774,
          5954,
          2100,
          1331,
          3697,
          7000,
          4192,
          3476,
          1995,
          4806,
          1891,
          1822,
          2704,
          1882,
          4389,
          6467,
          1072,
          3107,
          864,
          1655,
          1328,
          2085,
          1170,
          2114,
          1885,
          2271,
          4264,
          4206,
          2832,
          2017,
          4120,
          8030,
          3130,
          5288,
          4380,
          2143,
          1274,
          3108,
          2705,
          868,
          4931,
          6142,
          4259,
          2407,
          4161,
          4220,
          4824,
          4503,
          4412,
          5849,
          2884,
          4307,
          2205,
          4859,
          3545,
          7629,
          1673,
          3777,
          3256,
          1318,
          3236,
          2181,
          4847,
          4974,
          4350,
          4623,
          4080,
          3939,
          2445,
          3185,
          1223,
          2281,
          3545,
          2079,
          3117,
          2978,
          3786,
          3533,
          6560,
          2228,
          3175,
          3183,
          7060,
          1707,
          2834,
          2418,
          1872,
          5669,
          5895,
          5930,
          2675,
          2687,
          5233
         ]
        }
       ],
       "layout": {
        "template": {
         "data": {
          "bar": [
           {
            "error_x": {
             "color": "#2a3f5f"
            },
            "error_y": {
             "color": "#2a3f5f"
            },
            "marker": {
             "line": {
              "color": "#E5ECF6",
              "width": 0.5
             },
             "pattern": {
              "fillmode": "overlay",
              "size": 10,
              "solidity": 0.2
             }
            },
            "type": "bar"
           }
          ],
          "barpolar": [
           {
            "marker": {
             "line": {
              "color": "#E5ECF6",
              "width": 0.5
             },
             "pattern": {
              "fillmode": "overlay",
              "size": 10,
              "solidity": 0.2
             }
            },
            "type": "barpolar"
           }
          ],
          "carpet": [
           {
            "aaxis": {
             "endlinecolor": "#2a3f5f",
             "gridcolor": "white",
             "linecolor": "white",
             "minorgridcolor": "white",
             "startlinecolor": "#2a3f5f"
            },
            "baxis": {
             "endlinecolor": "#2a3f5f",
             "gridcolor": "white",
             "linecolor": "white",
             "minorgridcolor": "white",
             "startlinecolor": "#2a3f5f"
            },
            "type": "carpet"
           }
          ],
          "choropleth": [
           {
            "colorbar": {
             "outlinewidth": 0,
             "ticks": ""
            },
            "type": "choropleth"
           }
          ],
          "contour": [
           {
            "colorbar": {
             "outlinewidth": 0,
             "ticks": ""
            },
            "colorscale": [
             [
              0,
              "#0d0887"
             ],
             [
              0.1111111111111111,
              "#46039f"
             ],
             [
              0.2222222222222222,
              "#7201a8"
             ],
             [
              0.3333333333333333,
              "#9c179e"
             ],
             [
              0.4444444444444444,
              "#bd3786"
             ],
             [
              0.5555555555555556,
              "#d8576b"
             ],
             [
              0.6666666666666666,
              "#ed7953"
             ],
             [
              0.7777777777777778,
              "#fb9f3a"
             ],
             [
              0.8888888888888888,
              "#fdca26"
             ],
             [
              1,
              "#f0f921"
             ]
            ],
            "type": "contour"
           }
          ],
          "contourcarpet": [
           {
            "colorbar": {
             "outlinewidth": 0,
             "ticks": ""
            },
            "type": "contourcarpet"
           }
          ],
          "heatmap": [
           {
            "colorbar": {
             "outlinewidth": 0,
             "ticks": ""
            },
            "colorscale": [
             [
              0,
              "#0d0887"
             ],
             [
              0.1111111111111111,
              "#46039f"
             ],
             [
              0.2222222222222222,
              "#7201a8"
             ],
             [
              0.3333333333333333,
              "#9c179e"
             ],
             [
              0.4444444444444444,
              "#bd3786"
             ],
             [
              0.5555555555555556,
              "#d8576b"
             ],
             [
              0.6666666666666666,
              "#ed7953"
             ],
             [
              0.7777777777777778,
              "#fb9f3a"
             ],
             [
              0.8888888888888888,
              "#fdca26"
             ],
             [
              1,
              "#f0f921"
             ]
            ],
            "type": "heatmap"
           }
          ],
          "heatmapgl": [
           {
            "colorbar": {
             "outlinewidth": 0,
             "ticks": ""
            },
            "colorscale": [
             [
              0,
              "#0d0887"
             ],
             [
              0.1111111111111111,
              "#46039f"
             ],
             [
              0.2222222222222222,
              "#7201a8"
             ],
             [
              0.3333333333333333,
              "#9c179e"
             ],
             [
              0.4444444444444444,
              "#bd3786"
             ],
             [
              0.5555555555555556,
              "#d8576b"
             ],
             [
              0.6666666666666666,
              "#ed7953"
             ],
             [
              0.7777777777777778,
              "#fb9f3a"
             ],
             [
              0.8888888888888888,
              "#fdca26"
             ],
             [
              1,
              "#f0f921"
             ]
            ],
            "type": "heatmapgl"
           }
          ],
          "histogram": [
           {
            "marker": {
             "pattern": {
              "fillmode": "overlay",
              "size": 10,
              "solidity": 0.2
             }
            },
            "type": "histogram"
           }
          ],
          "histogram2d": [
           {
            "colorbar": {
             "outlinewidth": 0,
             "ticks": ""
            },
            "colorscale": [
             [
              0,
              "#0d0887"
             ],
             [
              0.1111111111111111,
              "#46039f"
             ],
             [
              0.2222222222222222,
              "#7201a8"
             ],
             [
              0.3333333333333333,
              "#9c179e"
             ],
             [
              0.4444444444444444,
              "#bd3786"
             ],
             [
              0.5555555555555556,
              "#d8576b"
             ],
             [
              0.6666666666666666,
              "#ed7953"
             ],
             [
              0.7777777777777778,
              "#fb9f3a"
             ],
             [
              0.8888888888888888,
              "#fdca26"
             ],
             [
              1,
              "#f0f921"
             ]
            ],
            "type": "histogram2d"
           }
          ],
          "histogram2dcontour": [
           {
            "colorbar": {
             "outlinewidth": 0,
             "ticks": ""
            },
            "colorscale": [
             [
              0,
              "#0d0887"
             ],
             [
              0.1111111111111111,
              "#46039f"
             ],
             [
              0.2222222222222222,
              "#7201a8"
             ],
             [
              0.3333333333333333,
              "#9c179e"
             ],
             [
              0.4444444444444444,
              "#bd3786"
             ],
             [
              0.5555555555555556,
              "#d8576b"
             ],
             [
              0.6666666666666666,
              "#ed7953"
             ],
             [
              0.7777777777777778,
              "#fb9f3a"
             ],
             [
              0.8888888888888888,
              "#fdca26"
             ],
             [
              1,
              "#f0f921"
             ]
            ],
            "type": "histogram2dcontour"
           }
          ],
          "mesh3d": [
           {
            "colorbar": {
             "outlinewidth": 0,
             "ticks": ""
            },
            "type": "mesh3d"
           }
          ],
          "parcoords": [
           {
            "line": {
             "colorbar": {
              "outlinewidth": 0,
              "ticks": ""
             }
            },
            "type": "parcoords"
           }
          ],
          "pie": [
           {
            "automargin": true,
            "type": "pie"
           }
          ],
          "scatter": [
           {
            "fillpattern": {
             "fillmode": "overlay",
             "size": 10,
             "solidity": 0.2
            },
            "type": "scatter"
           }
          ],
          "scatter3d": [
           {
            "line": {
             "colorbar": {
              "outlinewidth": 0,
              "ticks": ""
             }
            },
            "marker": {
             "colorbar": {
              "outlinewidth": 0,
              "ticks": ""
             }
            },
            "type": "scatter3d"
           }
          ],
          "scattercarpet": [
           {
            "marker": {
             "colorbar": {
              "outlinewidth": 0,
              "ticks": ""
             }
            },
            "type": "scattercarpet"
           }
          ],
          "scattergeo": [
           {
            "marker": {
             "colorbar": {
              "outlinewidth": 0,
              "ticks": ""
             }
            },
            "type": "scattergeo"
           }
          ],
          "scattergl": [
           {
            "marker": {
             "colorbar": {
              "outlinewidth": 0,
              "ticks": ""
             }
            },
            "type": "scattergl"
           }
          ],
          "scattermapbox": [
           {
            "marker": {
             "colorbar": {
              "outlinewidth": 0,
              "ticks": ""
             }
            },
            "type": "scattermapbox"
           }
          ],
          "scatterpolar": [
           {
            "marker": {
             "colorbar": {
              "outlinewidth": 0,
              "ticks": ""
             }
            },
            "type": "scatterpolar"
           }
          ],
          "scatterpolargl": [
           {
            "marker": {
             "colorbar": {
              "outlinewidth": 0,
              "ticks": ""
             }
            },
            "type": "scatterpolargl"
           }
          ],
          "scatterternary": [
           {
            "marker": {
             "colorbar": {
              "outlinewidth": 0,
              "ticks": ""
             }
            },
            "type": "scatterternary"
           }
          ],
          "surface": [
           {
            "colorbar": {
             "outlinewidth": 0,
             "ticks": ""
            },
            "colorscale": [
             [
              0,
              "#0d0887"
             ],
             [
              0.1111111111111111,
              "#46039f"
             ],
             [
              0.2222222222222222,
              "#7201a8"
             ],
             [
              0.3333333333333333,
              "#9c179e"
             ],
             [
              0.4444444444444444,
              "#bd3786"
             ],
             [
              0.5555555555555556,
              "#d8576b"
             ],
             [
              0.6666666666666666,
              "#ed7953"
             ],
             [
              0.7777777777777778,
              "#fb9f3a"
             ],
             [
              0.8888888888888888,
              "#fdca26"
             ],
             [
              1,
              "#f0f921"
             ]
            ],
            "type": "surface"
           }
          ],
          "table": [
           {
            "cells": {
             "fill": {
              "color": "#EBF0F8"
             },
             "line": {
              "color": "white"
             }
            },
            "header": {
             "fill": {
              "color": "#C8D4E3"
             },
             "line": {
              "color": "white"
             }
            },
            "type": "table"
           }
          ]
         },
         "layout": {
          "annotationdefaults": {
           "arrowcolor": "#2a3f5f",
           "arrowhead": 0,
           "arrowwidth": 1
          },
          "autotypenumbers": "strict",
          "coloraxis": {
           "colorbar": {
            "outlinewidth": 0,
            "ticks": ""
           }
          },
          "colorscale": {
           "diverging": [
            [
             0,
             "#8e0152"
            ],
            [
             0.1,
             "#c51b7d"
            ],
            [
             0.2,
             "#de77ae"
            ],
            [
             0.3,
             "#f1b6da"
            ],
            [
             0.4,
             "#fde0ef"
            ],
            [
             0.5,
             "#f7f7f7"
            ],
            [
             0.6,
             "#e6f5d0"
            ],
            [
             0.7,
             "#b8e186"
            ],
            [
             0.8,
             "#7fbc41"
            ],
            [
             0.9,
             "#4d9221"
            ],
            [
             1,
             "#276419"
            ]
           ],
           "sequential": [
            [
             0,
             "#0d0887"
            ],
            [
             0.1111111111111111,
             "#46039f"
            ],
            [
             0.2222222222222222,
             "#7201a8"
            ],
            [
             0.3333333333333333,
             "#9c179e"
            ],
            [
             0.4444444444444444,
             "#bd3786"
            ],
            [
             0.5555555555555556,
             "#d8576b"
            ],
            [
             0.6666666666666666,
             "#ed7953"
            ],
            [
             0.7777777777777778,
             "#fb9f3a"
            ],
            [
             0.8888888888888888,
             "#fdca26"
            ],
            [
             1,
             "#f0f921"
            ]
           ],
           "sequentialminus": [
            [
             0,
             "#0d0887"
            ],
            [
             0.1111111111111111,
             "#46039f"
            ],
            [
             0.2222222222222222,
             "#7201a8"
            ],
            [
             0.3333333333333333,
             "#9c179e"
            ],
            [
             0.4444444444444444,
             "#bd3786"
            ],
            [
             0.5555555555555556,
             "#d8576b"
            ],
            [
             0.6666666666666666,
             "#ed7953"
            ],
            [
             0.7777777777777778,
             "#fb9f3a"
            ],
            [
             0.8888888888888888,
             "#fdca26"
            ],
            [
             1,
             "#f0f921"
            ]
           ]
          },
          "colorway": [
           "#636efa",
           "#EF553B",
           "#00cc96",
           "#ab63fa",
           "#FFA15A",
           "#19d3f3",
           "#FF6692",
           "#B6E880",
           "#FF97FF",
           "#FECB52"
          ],
          "font": {
           "color": "#2a3f5f"
          },
          "geo": {
           "bgcolor": "white",
           "lakecolor": "white",
           "landcolor": "#E5ECF6",
           "showlakes": true,
           "showland": true,
           "subunitcolor": "white"
          },
          "hoverlabel": {
           "align": "left"
          },
          "hovermode": "closest",
          "mapbox": {
           "style": "light"
          },
          "paper_bgcolor": "white",
          "plot_bgcolor": "#E5ECF6",
          "polar": {
           "angularaxis": {
            "gridcolor": "white",
            "linecolor": "white",
            "ticks": ""
           },
           "bgcolor": "#E5ECF6",
           "radialaxis": {
            "gridcolor": "white",
            "linecolor": "white",
            "ticks": ""
           }
          },
          "scene": {
           "xaxis": {
            "backgroundcolor": "#E5ECF6",
            "gridcolor": "white",
            "gridwidth": 2,
            "linecolor": "white",
            "showbackground": true,
            "ticks": "",
            "zerolinecolor": "white"
           },
           "yaxis": {
            "backgroundcolor": "#E5ECF6",
            "gridcolor": "white",
            "gridwidth": 2,
            "linecolor": "white",
            "showbackground": true,
            "ticks": "",
            "zerolinecolor": "white"
           },
           "zaxis": {
            "backgroundcolor": "#E5ECF6",
            "gridcolor": "white",
            "gridwidth": 2,
            "linecolor": "white",
            "showbackground": true,
            "ticks": "",
            "zerolinecolor": "white"
           }
          },
          "shapedefaults": {
           "line": {
            "color": "#2a3f5f"
           }
          },
          "ternary": {
           "aaxis": {
            "gridcolor": "white",
            "linecolor": "white",
            "ticks": ""
           },
           "baxis": {
            "gridcolor": "white",
            "linecolor": "white",
            "ticks": ""
           },
           "bgcolor": "#E5ECF6",
           "caxis": {
            "gridcolor": "white",
            "linecolor": "white",
            "ticks": ""
           }
          },
          "title": {
           "x": 0.05
          },
          "xaxis": {
           "automargin": true,
           "gridcolor": "white",
           "linecolor": "white",
           "ticks": "",
           "title": {
            "standoff": 15
           },
           "zerolinecolor": "white",
           "zerolinewidth": 2
          },
          "yaxis": {
           "automargin": true,
           "gridcolor": "white",
           "linecolor": "white",
           "ticks": "",
           "title": {
            "standoff": 15
           },
           "zerolinecolor": "white",
           "zerolinewidth": 2
          }
         }
        },
        "title": {
         "text": "Kullanıcı Yaşı & Toplam Harcama İlişkisi"
        },
        "xaxis": {
         "title": {
          "text": "Yaş"
         }
        },
        "yaxis": {
         "title": {
          "text": "Toplam Harcama"
         }
        }
       }
      },
      "text/html": [
       "<div>                            <div id=\"c96b805a-28ae-45af-b95a-53b514037eaa\" class=\"plotly-graph-div\" style=\"height:525px; width:100%;\"></div>            <script type=\"text/javascript\">                require([\"plotly\"], function(Plotly) {                    window.PLOTLYENV=window.PLOTLYENV || {};                                    if (document.getElementById(\"c96b805a-28ae-45af-b95a-53b514037eaa\")) {                    Plotly.newPlot(                        \"c96b805a-28ae-45af-b95a-53b514037eaa\",                        [{\"marker\":{\"color\":\"blue\",\"opacity\":0.65,\"size\":8},\"mode\":\"markers\",\"x\":[51,33,45,33,41,55,43,26,43,51,49,32,29,24,53,21,49,57,39,44,49,52,32,51,35,57,32,25,54,46,51,28,18,30,18,57,43,27,26,22,52,41,18,21,50,56,48,50,20,23,46,39,26,30,56,19,29,37,44,24,19,47,54,56,51,49,57,56,36,39,31,48,57,39,27,50,46,28,40,38,54,53,38,36,45,52,55,22,20,50,19,28,47,22,39,24,23,28,46,33,31,50,38,47,23,31,41,36,26,21,50,21,25,33,27,59,46,51,28,24,37,24,39,50,36,20,42,21,46,37,31,51,50,22,22,41,52,31,54,51,39,24,40,40,44,21,50,25,28,31,47,19,31,38,55,45,38,23,29,28,34,39,52,20,25,47,31,22,31,23,47,57,46,41,52,37,55,24,49,47,41,20,29,35,44,57,27,35,59,19,33,45,34,18,43,44,28,54,22,37,31,48,38,23,49,58,18,20,58,49,41,23,51,56,35,25,34,38,27,26,58,28,43,32,53,32,56,47,40,37,42,52,31,47,47,43,57,38,31,57,53,36,47,59,56,34,55,37,48,26,50,20,38,39,35,49,39,33,28,28,25,45,22,33,45,27,47,40,33,39,34,45,31,51,31,28,21,44,28,44,43,18,59,45,26,27,28,49,52,55,38,31,45,36,52,33,27,37,50,48,29,41,38,43,35,20,29,42,18,40,27,29,41,58,54,46,28,32,26,53,42,33,31,48,56,29,18,22,57,54,32,26,31,26,37,34,56,30,25,34,59,27,46,18,19,22,30,21,33,49,58,58,37,37,20,54,57,45,58,50,33,31,30,55,47,27,32,51,44,18,59,22,29,55,21,38,24,22,29,23,19,21,21,24,33,34,47,32,32,56,31,44,51,20,29,43,49,20,46,45,35,29,31,34,34,31,51,53,20,29,27,54,55,52,34,48,30,24,31,23,48,50,46,46,38,39,36,22,21,35,29,49,26,23,59,50,59,36,42,45,55,27,29,25,24,56,43,50,52,45,38],\"y\":[3466,2770,3990,1876,4797,5164,4296,2099,5798,6595,6814,2923,4369,2790,2557,1619,5137,4443,2163,5679,6024,7140,1727,2397,3234,5030,1526,3584,4243,6550,4741,1528,2029,3061,1207,4896,4673,2827,1632,1543,6344,4915,1651,1623,2182,6455,5439,3437,1393,1938,4570,4320,1285,2239,3501,996,4166,4400,4177,2827,1987,6897,6031,4306,7405,3041,4657,4135,1909,5136,1143,5991,7865,1605,1697,2609,5757,3617,2849,5004,3672,5040,2109,2112,4825,6526,3397,1706,2679,3483,1113,1839,4021,1294,5784,2491,1997,2268,6033,2028,3753,6427,1873,4041,1625,1272,4749,3732,1655,1560,3295,1998,1285,1923,2701,3996,4606,4507,4052,2864,4916,2690,1874,4311,1828,2146,3611,2579,5034,3845,2836,3382,2853,868,2891,5910,3770,2867,6968,4328,4818,1434,1953,2555,6500,2960,2939,1156,3913,4248,3210,1510,2478,3776,3378,3233,2479,2463,2933,1207,1340,4072,5722,2729,3598,4505,1786,1895,3332,2813,3533,6500,5102,4298,3567,2125,3739,2409,4181,2239,3701,2276,1991,3542,3548,5589,3864,4835,4015,2564,1290,3130,2377,1110,1952,4924,1962,3818,2640,2021,4801,3666,1858,1121,5611,7186,1998,2822,2954,5031,5773,2791,3149,6343,5205,2301,3230,2245,1167,1672,3299,2001,4189,3908,4258,3860,5539,5470,1796,4964,5834,2779,1455,1806,4510,4607,6779,5241,2869,6279,3031,5347,6528,8153,4683,3232,4793,3080,4282,1362,4792,2087,3037,4940,2787,2478,1996,3666,3728,2232,3550,5973,2146,3941,6424,3483,5111,5313,2998,4686,2102,3986,3609,3136,4287,3591,1058,2247,2844,2803,2055,798,3585,2458,3415,2596,4201,5117,7548,7085,2211,3754,2680,4426,2975,4001,2211,4912,7281,6928,3259,6049,5158,2016,2326,2411,2687,4666,725,4695,3643,1717,3086,3096,6888,4654,3989,3686,1808,6834,1819,2065,4321,2012,7248,2347,1162,3138,5943,5918,1871,3842,4745,3520,2686,2428,3080,3431,1688,4556,5349,1827,6502,1606,2967,1342,2067,2209,1875,6924,6787,8555,4351,4988,1443,3047,2223,3824,2774,5954,2100,1331,3697,7000,4192,3476,1995,4806,1891,1822,2704,1882,4389,6467,1072,3107,864,1655,1328,2085,1170,2114,1885,2271,4264,4206,2832,2017,4120,8030,3130,5288,4380,2143,1274,3108,2705,868,4931,6142,4259,2407,4161,4220,4824,4503,4412,5849,2884,4307,2205,4859,3545,7629,1673,3777,3256,1318,3236,2181,4847,4974,4350,4623,4080,3939,2445,3185,1223,2281,3545,2079,3117,2978,3786,3533,6560,2228,3175,3183,7060,1707,2834,2418,1872,5669,5895,5930,2675,2687,5233],\"type\":\"scatter\"}],                        {\"template\":{\"data\":{\"barpolar\":[{\"marker\":{\"line\":{\"color\":\"#E5ECF6\",\"width\":0.5},\"pattern\":{\"fillmode\":\"overlay\",\"size\":10,\"solidity\":0.2}},\"type\":\"barpolar\"}],\"bar\":[{\"error_x\":{\"color\":\"#2a3f5f\"},\"error_y\":{\"color\":\"#2a3f5f\"},\"marker\":{\"line\":{\"color\":\"#E5ECF6\",\"width\":0.5},\"pattern\":{\"fillmode\":\"overlay\",\"size\":10,\"solidity\":0.2}},\"type\":\"bar\"}],\"carpet\":[{\"aaxis\":{\"endlinecolor\":\"#2a3f5f\",\"gridcolor\":\"white\",\"linecolor\":\"white\",\"minorgridcolor\":\"white\",\"startlinecolor\":\"#2a3f5f\"},\"baxis\":{\"endlinecolor\":\"#2a3f5f\",\"gridcolor\":\"white\",\"linecolor\":\"white\",\"minorgridcolor\":\"white\",\"startlinecolor\":\"#2a3f5f\"},\"type\":\"carpet\"}],\"choropleth\":[{\"colorbar\":{\"outlinewidth\":0,\"ticks\":\"\"},\"type\":\"choropleth\"}],\"contourcarpet\":[{\"colorbar\":{\"outlinewidth\":0,\"ticks\":\"\"},\"type\":\"contourcarpet\"}],\"contour\":[{\"colorbar\":{\"outlinewidth\":0,\"ticks\":\"\"},\"colorscale\":[[0.0,\"#0d0887\"],[0.1111111111111111,\"#46039f\"],[0.2222222222222222,\"#7201a8\"],[0.3333333333333333,\"#9c179e\"],[0.4444444444444444,\"#bd3786\"],[0.5555555555555556,\"#d8576b\"],[0.6666666666666666,\"#ed7953\"],[0.7777777777777778,\"#fb9f3a\"],[0.8888888888888888,\"#fdca26\"],[1.0,\"#f0f921\"]],\"type\":\"contour\"}],\"heatmapgl\":[{\"colorbar\":{\"outlinewidth\":0,\"ticks\":\"\"},\"colorscale\":[[0.0,\"#0d0887\"],[0.1111111111111111,\"#46039f\"],[0.2222222222222222,\"#7201a8\"],[0.3333333333333333,\"#9c179e\"],[0.4444444444444444,\"#bd3786\"],[0.5555555555555556,\"#d8576b\"],[0.6666666666666666,\"#ed7953\"],[0.7777777777777778,\"#fb9f3a\"],[0.8888888888888888,\"#fdca26\"],[1.0,\"#f0f921\"]],\"type\":\"heatmapgl\"}],\"heatmap\":[{\"colorbar\":{\"outlinewidth\":0,\"ticks\":\"\"},\"colorscale\":[[0.0,\"#0d0887\"],[0.1111111111111111,\"#46039f\"],[0.2222222222222222,\"#7201a8\"],[0.3333333333333333,\"#9c179e\"],[0.4444444444444444,\"#bd3786\"],[0.5555555555555556,\"#d8576b\"],[0.6666666666666666,\"#ed7953\"],[0.7777777777777778,\"#fb9f3a\"],[0.8888888888888888,\"#fdca26\"],[1.0,\"#f0f921\"]],\"type\":\"heatmap\"}],\"histogram2dcontour\":[{\"colorbar\":{\"outlinewidth\":0,\"ticks\":\"\"},\"colorscale\":[[0.0,\"#0d0887\"],[0.1111111111111111,\"#46039f\"],[0.2222222222222222,\"#7201a8\"],[0.3333333333333333,\"#9c179e\"],[0.4444444444444444,\"#bd3786\"],[0.5555555555555556,\"#d8576b\"],[0.6666666666666666,\"#ed7953\"],[0.7777777777777778,\"#fb9f3a\"],[0.8888888888888888,\"#fdca26\"],[1.0,\"#f0f921\"]],\"type\":\"histogram2dcontour\"}],\"histogram2d\":[{\"colorbar\":{\"outlinewidth\":0,\"ticks\":\"\"},\"colorscale\":[[0.0,\"#0d0887\"],[0.1111111111111111,\"#46039f\"],[0.2222222222222222,\"#7201a8\"],[0.3333333333333333,\"#9c179e\"],[0.4444444444444444,\"#bd3786\"],[0.5555555555555556,\"#d8576b\"],[0.6666666666666666,\"#ed7953\"],[0.7777777777777778,\"#fb9f3a\"],[0.8888888888888888,\"#fdca26\"],[1.0,\"#f0f921\"]],\"type\":\"histogram2d\"}],\"histogram\":[{\"marker\":{\"pattern\":{\"fillmode\":\"overlay\",\"size\":10,\"solidity\":0.2}},\"type\":\"histogram\"}],\"mesh3d\":[{\"colorbar\":{\"outlinewidth\":0,\"ticks\":\"\"},\"type\":\"mesh3d\"}],\"parcoords\":[{\"line\":{\"colorbar\":{\"outlinewidth\":0,\"ticks\":\"\"}},\"type\":\"parcoords\"}],\"pie\":[{\"automargin\":true,\"type\":\"pie\"}],\"scatter3d\":[{\"line\":{\"colorbar\":{\"outlinewidth\":0,\"ticks\":\"\"}},\"marker\":{\"colorbar\":{\"outlinewidth\":0,\"ticks\":\"\"}},\"type\":\"scatter3d\"}],\"scattercarpet\":[{\"marker\":{\"colorbar\":{\"outlinewidth\":0,\"ticks\":\"\"}},\"type\":\"scattercarpet\"}],\"scattergeo\":[{\"marker\":{\"colorbar\":{\"outlinewidth\":0,\"ticks\":\"\"}},\"type\":\"scattergeo\"}],\"scattergl\":[{\"marker\":{\"colorbar\":{\"outlinewidth\":0,\"ticks\":\"\"}},\"type\":\"scattergl\"}],\"scattermapbox\":[{\"marker\":{\"colorbar\":{\"outlinewidth\":0,\"ticks\":\"\"}},\"type\":\"scattermapbox\"}],\"scatterpolargl\":[{\"marker\":{\"colorbar\":{\"outlinewidth\":0,\"ticks\":\"\"}},\"type\":\"scatterpolargl\"}],\"scatterpolar\":[{\"marker\":{\"colorbar\":{\"outlinewidth\":0,\"ticks\":\"\"}},\"type\":\"scatterpolar\"}],\"scatter\":[{\"fillpattern\":{\"fillmode\":\"overlay\",\"size\":10,\"solidity\":0.2},\"type\":\"scatter\"}],\"scatterternary\":[{\"marker\":{\"colorbar\":{\"outlinewidth\":0,\"ticks\":\"\"}},\"type\":\"scatterternary\"}],\"surface\":[{\"colorbar\":{\"outlinewidth\":0,\"ticks\":\"\"},\"colorscale\":[[0.0,\"#0d0887\"],[0.1111111111111111,\"#46039f\"],[0.2222222222222222,\"#7201a8\"],[0.3333333333333333,\"#9c179e\"],[0.4444444444444444,\"#bd3786\"],[0.5555555555555556,\"#d8576b\"],[0.6666666666666666,\"#ed7953\"],[0.7777777777777778,\"#fb9f3a\"],[0.8888888888888888,\"#fdca26\"],[1.0,\"#f0f921\"]],\"type\":\"surface\"}],\"table\":[{\"cells\":{\"fill\":{\"color\":\"#EBF0F8\"},\"line\":{\"color\":\"white\"}},\"header\":{\"fill\":{\"color\":\"#C8D4E3\"},\"line\":{\"color\":\"white\"}},\"type\":\"table\"}]},\"layout\":{\"annotationdefaults\":{\"arrowcolor\":\"#2a3f5f\",\"arrowhead\":0,\"arrowwidth\":1},\"autotypenumbers\":\"strict\",\"coloraxis\":{\"colorbar\":{\"outlinewidth\":0,\"ticks\":\"\"}},\"colorscale\":{\"diverging\":[[0,\"#8e0152\"],[0.1,\"#c51b7d\"],[0.2,\"#de77ae\"],[0.3,\"#f1b6da\"],[0.4,\"#fde0ef\"],[0.5,\"#f7f7f7\"],[0.6,\"#e6f5d0\"],[0.7,\"#b8e186\"],[0.8,\"#7fbc41\"],[0.9,\"#4d9221\"],[1,\"#276419\"]],\"sequential\":[[0.0,\"#0d0887\"],[0.1111111111111111,\"#46039f\"],[0.2222222222222222,\"#7201a8\"],[0.3333333333333333,\"#9c179e\"],[0.4444444444444444,\"#bd3786\"],[0.5555555555555556,\"#d8576b\"],[0.6666666666666666,\"#ed7953\"],[0.7777777777777778,\"#fb9f3a\"],[0.8888888888888888,\"#fdca26\"],[1.0,\"#f0f921\"]],\"sequentialminus\":[[0.0,\"#0d0887\"],[0.1111111111111111,\"#46039f\"],[0.2222222222222222,\"#7201a8\"],[0.3333333333333333,\"#9c179e\"],[0.4444444444444444,\"#bd3786\"],[0.5555555555555556,\"#d8576b\"],[0.6666666666666666,\"#ed7953\"],[0.7777777777777778,\"#fb9f3a\"],[0.8888888888888888,\"#fdca26\"],[1.0,\"#f0f921\"]]},\"colorway\":[\"#636efa\",\"#EF553B\",\"#00cc96\",\"#ab63fa\",\"#FFA15A\",\"#19d3f3\",\"#FF6692\",\"#B6E880\",\"#FF97FF\",\"#FECB52\"],\"font\":{\"color\":\"#2a3f5f\"},\"geo\":{\"bgcolor\":\"white\",\"lakecolor\":\"white\",\"landcolor\":\"#E5ECF6\",\"showlakes\":true,\"showland\":true,\"subunitcolor\":\"white\"},\"hoverlabel\":{\"align\":\"left\"},\"hovermode\":\"closest\",\"mapbox\":{\"style\":\"light\"},\"paper_bgcolor\":\"white\",\"plot_bgcolor\":\"#E5ECF6\",\"polar\":{\"angularaxis\":{\"gridcolor\":\"white\",\"linecolor\":\"white\",\"ticks\":\"\"},\"bgcolor\":\"#E5ECF6\",\"radialaxis\":{\"gridcolor\":\"white\",\"linecolor\":\"white\",\"ticks\":\"\"}},\"scene\":{\"xaxis\":{\"backgroundcolor\":\"#E5ECF6\",\"gridcolor\":\"white\",\"gridwidth\":2,\"linecolor\":\"white\",\"showbackground\":true,\"ticks\":\"\",\"zerolinecolor\":\"white\"},\"yaxis\":{\"backgroundcolor\":\"#E5ECF6\",\"gridcolor\":\"white\",\"gridwidth\":2,\"linecolor\":\"white\",\"showbackground\":true,\"ticks\":\"\",\"zerolinecolor\":\"white\"},\"zaxis\":{\"backgroundcolor\":\"#E5ECF6\",\"gridcolor\":\"white\",\"gridwidth\":2,\"linecolor\":\"white\",\"showbackground\":true,\"ticks\":\"\",\"zerolinecolor\":\"white\"}},\"shapedefaults\":{\"line\":{\"color\":\"#2a3f5f\"}},\"ternary\":{\"aaxis\":{\"gridcolor\":\"white\",\"linecolor\":\"white\",\"ticks\":\"\"},\"baxis\":{\"gridcolor\":\"white\",\"linecolor\":\"white\",\"ticks\":\"\"},\"bgcolor\":\"#E5ECF6\",\"caxis\":{\"gridcolor\":\"white\",\"linecolor\":\"white\",\"ticks\":\"\"}},\"title\":{\"x\":0.05},\"xaxis\":{\"automargin\":true,\"gridcolor\":\"white\",\"linecolor\":\"white\",\"ticks\":\"\",\"title\":{\"standoff\":15},\"zerolinecolor\":\"white\",\"zerolinewidth\":2},\"yaxis\":{\"automargin\":true,\"gridcolor\":\"white\",\"linecolor\":\"white\",\"ticks\":\"\",\"title\":{\"standoff\":15},\"zerolinecolor\":\"white\",\"zerolinewidth\":2}}},\"title\":{\"text\":\"Kullan\\u0131c\\u0131 Ya\\u015f\\u0131 & Toplam Harcama \\u0130li\\u015fkisi\"},\"xaxis\":{\"title\":{\"text\":\"Ya\\u015f\"}},\"yaxis\":{\"title\":{\"text\":\"Toplam Harcama\"}}},                        {\"responsive\": true}                    ).then(function(){\n",
       "                            \n",
       "var gd = document.getElementById('c96b805a-28ae-45af-b95a-53b514037eaa');\n",
       "var x = new MutationObserver(function (mutations, observer) {{\n",
       "        var display = window.getComputedStyle(gd).display;\n",
       "        if (!display || display === 'none') {{\n",
       "            console.log([gd, 'removed!']);\n",
       "            Plotly.purge(gd);\n",
       "            observer.disconnect();\n",
       "        }}\n",
       "}});\n",
       "\n",
       "// Listen for the removal of the full notebook cells\n",
       "var notebookContainer = gd.closest('#notebook-container');\n",
       "if (notebookContainer) {{\n",
       "    x.observe(notebookContainer, {childList: true});\n",
       "}}\n",
       "\n",
       "// Listen for the clearing of the current output cell\n",
       "var outputEl = gd.closest('.output');\n",
       "if (outputEl) {{\n",
       "    x.observe(outputEl, {childList: true});\n",
       "}}\n",
       "\n",
       "                        })                };                });            </script>        </div>"
      ]
     },
     "metadata": {},
     "output_type": "display_data"
    }
   ],
   "source": [
    "scatter = go.Scatter(x = df['user_age'],\n",
    "                     y = df['total_amount'],\n",
    "                     mode = 'markers',\n",
    "                     marker = dict(size = 8,\n",
    "                                   color = 'blue',\n",
    "                                   opacity = 0.65)\n",
    "          )\n",
    "\n",
    "layout = go.Layout(title = dict(text = 'Kullanıcı Yaşı & Toplam Harcama İlişkisi'),\n",
    "                   xaxis = dict(title = 'Yaş'),\n",
    "                   yaxis = dict(title = 'Toplam Harcama'))\n",
    "\n",
    "\n",
    "\n",
    "fig = go.Figure(data = scatter, layout = layout)\n",
    "\n",
    "iplot(fig)"
   ]
  },
  {
   "cell_type": "code",
   "execution_count": 42,
   "id": "4e4ac8d3",
   "metadata": {},
   "outputs": [
    {
     "data": {
      "application/vnd.plotly.v1+json": {
       "config": {
        "linkText": "Export to plot.ly",
        "plotlyServerURL": "https://plot.ly",
        "showLink": false
       },
       "data": [
        {
         "mode": "markers",
         "name": "Male",
         "type": "scatter",
         "x": [
          33,
          41,
          55,
          26,
          51,
          49,
          32,
          29,
          53,
          21,
          49,
          39,
          44,
          49,
          35,
          57,
          32,
          25,
          54,
          28,
          18,
          57,
          43,
          22,
          52,
          18,
          21,
          48,
          19,
          44,
          19,
          47,
          54,
          56,
          39,
          31,
          48,
          27,
          54,
          55,
          22,
          47,
          22,
          24,
          28,
          46,
          33,
          23,
          31,
          36,
          21,
          25,
          51,
          37,
          39,
          21,
          31,
          51,
          50,
          22,
          22,
          41,
          31,
          40,
          50,
          19,
          31,
          45,
          38,
          34,
          20,
          47,
          31,
          31,
          47,
          46,
          37,
          55,
          49,
          20,
          29,
          44,
          57,
          27,
          59,
          45,
          18,
          43,
          44,
          28,
          37,
          31,
          38,
          23,
          20,
          58,
          23,
          51,
          56,
          35,
          34,
          38,
          58,
          28,
          43,
          32,
          53,
          56,
          47,
          37,
          42,
          31,
          47,
          43,
          31,
          47,
          56,
          55,
          37,
          38,
          39,
          35,
          49,
          39,
          28,
          22,
          47,
          40,
          33,
          39,
          34,
          45,
          31,
          51,
          28,
          44,
          44,
          43,
          18,
          45,
          27,
          52,
          38,
          31,
          45,
          36,
          33,
          37,
          48,
          43,
          35,
          20,
          18,
          40,
          58,
          46,
          28,
          32,
          26,
          31,
          56,
          18,
          57,
          54,
          26,
          31,
          26,
          37,
          30,
          27,
          18,
          19,
          22,
          21,
          37,
          20,
          54,
          57,
          45,
          58,
          50,
          33,
          31,
          27,
          32,
          51,
          44,
          59,
          55,
          19,
          33,
          32,
          56,
          31,
          44,
          20,
          29,
          20,
          35,
          31,
          34,
          31,
          53,
          20,
          54,
          52,
          24,
          31,
          48,
          46,
          46,
          39,
          21,
          35,
          23,
          29,
          24,
          56,
          52,
          45,
          38
         ],
         "y": [
          2770,
          4797,
          5164,
          2099,
          6595,
          6814,
          2923,
          4369,
          2557,
          1619,
          5137,
          2163,
          5679,
          6024,
          3234,
          5030,
          1526,
          3584,
          4243,
          1528,
          1207,
          4896,
          4673,
          1543,
          6344,
          1651,
          1623,
          5439,
          996,
          4177,
          1987,
          6897,
          6031,
          4306,
          5136,
          1143,
          5991,
          1697,
          3672,
          3397,
          1706,
          4021,
          1294,
          2491,
          2268,
          6033,
          2028,
          1625,
          1272,
          3732,
          1998,
          1285,
          4507,
          4916,
          1874,
          2579,
          2836,
          3382,
          2853,
          868,
          2891,
          5910,
          2867,
          1953,
          2939,
          1510,
          2478,
          3233,
          2479,
          1340,
          2729,
          4505,
          1786,
          3332,
          3533,
          5102,
          2125,
          3739,
          4181,
          2276,
          1991,
          3548,
          5589,
          3864,
          4015,
          3130,
          1110,
          1952,
          4924,
          1962,
          2021,
          4801,
          1858,
          1121,
          2822,
          2954,
          2791,
          3149,
          6343,
          5205,
          3230,
          2245,
          3299,
          2001,
          4189,
          3908,
          4258,
          5539,
          5470,
          4964,
          5834,
          1455,
          4510,
          4607,
          2869,
          6528,
          4683,
          4793,
          3080,
          3037,
          4940,
          2787,
          2478,
          1996,
          2232,
          2146,
          5111,
          5313,
          2998,
          4686,
          2102,
          3986,
          3609,
          3136,
          3591,
          2247,
          2803,
          2055,
          798,
          2458,
          2596,
          7548,
          2211,
          3754,
          2680,
          4426,
          4001,
          4912,
          6928,
          2016,
          2326,
          2411,
          725,
          4695,
          3096,
          4654,
          3989,
          3686,
          1808,
          4321,
          7248,
          1162,
          5943,
          5918,
          3842,
          4745,
          3520,
          2686,
          3431,
          1827,
          1606,
          2967,
          1342,
          2209,
          4351,
          1443,
          3047,
          2223,
          3824,
          2774,
          5954,
          2100,
          1331,
          3476,
          1995,
          4806,
          1891,
          2704,
          6467,
          1170,
          4264,
          4120,
          8030,
          3130,
          5288,
          2143,
          1274,
          868,
          4259,
          4161,
          4220,
          4503,
          5849,
          2884,
          4859,
          7629,
          1318,
          3236,
          4847,
          4350,
          4623,
          3939,
          1223,
          2281,
          2978,
          2834,
          1872,
          5669,
          2675,
          2687,
          5233
         ]
        },
        {
         "mode": "markers",
         "name": "Female",
         "type": "scatter",
         "x": [
          51,
          45,
          33,
          43,
          43,
          24,
          57,
          52,
          32,
          51,
          46,
          51,
          18,
          30,
          27,
          26,
          41,
          50,
          56,
          50,
          20,
          23,
          46,
          39,
          26,
          30,
          56,
          29,
          37,
          24,
          51,
          49,
          57,
          56,
          36,
          57,
          39,
          50,
          46,
          28,
          40,
          38,
          53,
          38,
          36,
          45,
          52,
          20,
          50,
          19,
          28,
          39,
          23,
          31,
          50,
          38,
          47,
          41,
          26,
          21,
          50,
          33,
          27,
          59,
          46,
          28,
          24,
          24,
          50,
          36,
          20,
          42,
          46,
          37,
          52,
          54,
          51,
          39,
          24,
          40,
          44,
          21,
          25,
          28,
          31,
          47,
          38,
          55,
          23,
          29,
          28,
          39,
          52,
          25,
          22,
          23,
          57,
          41,
          52,
          24,
          47,
          41,
          35,
          35,
          19,
          33,
          34,
          54,
          22,
          48,
          49,
          58,
          18,
          49,
          41,
          25,
          27,
          26,
          32,
          40,
          52,
          47,
          57,
          38,
          57,
          53,
          36,
          59,
          34,
          48,
          26,
          50,
          20,
          33,
          28,
          25,
          45,
          33,
          45,
          27,
          31,
          21,
          28,
          59,
          26,
          28,
          49,
          55,
          52,
          27,
          50,
          29,
          41,
          38,
          29,
          42,
          27,
          29,
          41,
          54,
          53,
          42,
          33,
          48,
          29,
          22,
          32,
          34,
          56,
          25,
          34,
          59,
          46,
          30,
          33,
          49,
          58,
          58,
          37,
          30,
          55,
          47,
          18,
          22,
          29,
          21,
          38,
          24,
          22,
          29,
          23,
          21,
          21,
          24,
          34,
          47,
          32,
          51,
          43,
          49,
          46,
          45,
          29,
          34,
          51,
          29,
          27,
          55,
          34,
          48,
          30,
          23,
          50,
          38,
          36,
          22,
          29,
          49,
          26,
          59,
          50,
          59,
          36,
          42,
          45,
          55,
          27,
          25,
          43,
          50
         ],
         "y": [
          3466,
          3990,
          1876,
          4296,
          5798,
          2790,
          4443,
          7140,
          1727,
          2397,
          6550,
          4741,
          2029,
          3061,
          2827,
          1632,
          4915,
          2182,
          6455,
          3437,
          1393,
          1938,
          4570,
          4320,
          1285,
          2239,
          3501,
          4166,
          4400,
          2827,
          7405,
          3041,
          4657,
          4135,
          1909,
          7865,
          1605,
          2609,
          5757,
          3617,
          2849,
          5004,
          5040,
          2109,
          2112,
          4825,
          6526,
          2679,
          3483,
          1113,
          1839,
          5784,
          1997,
          3753,
          6427,
          1873,
          4041,
          4749,
          1655,
          1560,
          3295,
          1923,
          2701,
          3996,
          4606,
          4052,
          2864,
          2690,
          4311,
          1828,
          2146,
          3611,
          5034,
          3845,
          3770,
          6968,
          4328,
          4818,
          1434,
          2555,
          6500,
          2960,
          1156,
          3913,
          4248,
          3210,
          3776,
          3378,
          2463,
          2933,
          1207,
          4072,
          5722,
          3598,
          1895,
          2813,
          6500,
          4298,
          3567,
          2409,
          2239,
          3701,
          3542,
          4835,
          2564,
          1290,
          2377,
          3818,
          2640,
          3666,
          5611,
          7186,
          1998,
          5031,
          5773,
          2301,
          1167,
          1672,
          3860,
          1796,
          2779,
          1806,
          6779,
          5241,
          6279,
          3031,
          5347,
          8153,
          3232,
          4282,
          1362,
          4792,
          2087,
          3666,
          3728,
          3550,
          5973,
          3941,
          6424,
          3483,
          4287,
          1058,
          2844,
          3585,
          3415,
          4201,
          5117,
          7085,
          2975,
          2211,
          7281,
          3259,
          6049,
          5158,
          2687,
          4666,
          3643,
          1717,
          3086,
          6888,
          6834,
          1819,
          2065,
          2012,
          2347,
          3138,
          1871,
          2428,
          3080,
          1688,
          4556,
          5349,
          6502,
          2067,
          1875,
          6924,
          6787,
          8555,
          4988,
          3697,
          7000,
          4192,
          1822,
          1882,
          4389,
          1072,
          3107,
          864,
          1655,
          1328,
          2085,
          2114,
          1885,
          2271,
          4206,
          2832,
          2017,
          4380,
          3108,
          2705,
          4931,
          6142,
          2407,
          4824,
          4412,
          4307,
          2205,
          3545,
          1673,
          3777,
          3256,
          2181,
          4974,
          4080,
          2445,
          3185,
          3545,
          2079,
          3117,
          3786,
          3533,
          6560,
          2228,
          3175,
          3183,
          7060,
          1707,
          2418,
          5895,
          5930
         ]
        }
       ],
       "layout": {
        "template": {
         "data": {
          "bar": [
           {
            "error_x": {
             "color": "#f2f5fa"
            },
            "error_y": {
             "color": "#f2f5fa"
            },
            "marker": {
             "line": {
              "color": "rgb(17,17,17)",
              "width": 0.5
             },
             "pattern": {
              "fillmode": "overlay",
              "size": 10,
              "solidity": 0.2
             }
            },
            "type": "bar"
           }
          ],
          "barpolar": [
           {
            "marker": {
             "line": {
              "color": "rgb(17,17,17)",
              "width": 0.5
             },
             "pattern": {
              "fillmode": "overlay",
              "size": 10,
              "solidity": 0.2
             }
            },
            "type": "barpolar"
           }
          ],
          "carpet": [
           {
            "aaxis": {
             "endlinecolor": "#A2B1C6",
             "gridcolor": "#506784",
             "linecolor": "#506784",
             "minorgridcolor": "#506784",
             "startlinecolor": "#A2B1C6"
            },
            "baxis": {
             "endlinecolor": "#A2B1C6",
             "gridcolor": "#506784",
             "linecolor": "#506784",
             "minorgridcolor": "#506784",
             "startlinecolor": "#A2B1C6"
            },
            "type": "carpet"
           }
          ],
          "choropleth": [
           {
            "colorbar": {
             "outlinewidth": 0,
             "ticks": ""
            },
            "type": "choropleth"
           }
          ],
          "contour": [
           {
            "colorbar": {
             "outlinewidth": 0,
             "ticks": ""
            },
            "colorscale": [
             [
              0,
              "#0d0887"
             ],
             [
              0.1111111111111111,
              "#46039f"
             ],
             [
              0.2222222222222222,
              "#7201a8"
             ],
             [
              0.3333333333333333,
              "#9c179e"
             ],
             [
              0.4444444444444444,
              "#bd3786"
             ],
             [
              0.5555555555555556,
              "#d8576b"
             ],
             [
              0.6666666666666666,
              "#ed7953"
             ],
             [
              0.7777777777777778,
              "#fb9f3a"
             ],
             [
              0.8888888888888888,
              "#fdca26"
             ],
             [
              1,
              "#f0f921"
             ]
            ],
            "type": "contour"
           }
          ],
          "contourcarpet": [
           {
            "colorbar": {
             "outlinewidth": 0,
             "ticks": ""
            },
            "type": "contourcarpet"
           }
          ],
          "heatmap": [
           {
            "colorbar": {
             "outlinewidth": 0,
             "ticks": ""
            },
            "colorscale": [
             [
              0,
              "#0d0887"
             ],
             [
              0.1111111111111111,
              "#46039f"
             ],
             [
              0.2222222222222222,
              "#7201a8"
             ],
             [
              0.3333333333333333,
              "#9c179e"
             ],
             [
              0.4444444444444444,
              "#bd3786"
             ],
             [
              0.5555555555555556,
              "#d8576b"
             ],
             [
              0.6666666666666666,
              "#ed7953"
             ],
             [
              0.7777777777777778,
              "#fb9f3a"
             ],
             [
              0.8888888888888888,
              "#fdca26"
             ],
             [
              1,
              "#f0f921"
             ]
            ],
            "type": "heatmap"
           }
          ],
          "heatmapgl": [
           {
            "colorbar": {
             "outlinewidth": 0,
             "ticks": ""
            },
            "colorscale": [
             [
              0,
              "#0d0887"
             ],
             [
              0.1111111111111111,
              "#46039f"
             ],
             [
              0.2222222222222222,
              "#7201a8"
             ],
             [
              0.3333333333333333,
              "#9c179e"
             ],
             [
              0.4444444444444444,
              "#bd3786"
             ],
             [
              0.5555555555555556,
              "#d8576b"
             ],
             [
              0.6666666666666666,
              "#ed7953"
             ],
             [
              0.7777777777777778,
              "#fb9f3a"
             ],
             [
              0.8888888888888888,
              "#fdca26"
             ],
             [
              1,
              "#f0f921"
             ]
            ],
            "type": "heatmapgl"
           }
          ],
          "histogram": [
           {
            "marker": {
             "pattern": {
              "fillmode": "overlay",
              "size": 10,
              "solidity": 0.2
             }
            },
            "type": "histogram"
           }
          ],
          "histogram2d": [
           {
            "colorbar": {
             "outlinewidth": 0,
             "ticks": ""
            },
            "colorscale": [
             [
              0,
              "#0d0887"
             ],
             [
              0.1111111111111111,
              "#46039f"
             ],
             [
              0.2222222222222222,
              "#7201a8"
             ],
             [
              0.3333333333333333,
              "#9c179e"
             ],
             [
              0.4444444444444444,
              "#bd3786"
             ],
             [
              0.5555555555555556,
              "#d8576b"
             ],
             [
              0.6666666666666666,
              "#ed7953"
             ],
             [
              0.7777777777777778,
              "#fb9f3a"
             ],
             [
              0.8888888888888888,
              "#fdca26"
             ],
             [
              1,
              "#f0f921"
             ]
            ],
            "type": "histogram2d"
           }
          ],
          "histogram2dcontour": [
           {
            "colorbar": {
             "outlinewidth": 0,
             "ticks": ""
            },
            "colorscale": [
             [
              0,
              "#0d0887"
             ],
             [
              0.1111111111111111,
              "#46039f"
             ],
             [
              0.2222222222222222,
              "#7201a8"
             ],
             [
              0.3333333333333333,
              "#9c179e"
             ],
             [
              0.4444444444444444,
              "#bd3786"
             ],
             [
              0.5555555555555556,
              "#d8576b"
             ],
             [
              0.6666666666666666,
              "#ed7953"
             ],
             [
              0.7777777777777778,
              "#fb9f3a"
             ],
             [
              0.8888888888888888,
              "#fdca26"
             ],
             [
              1,
              "#f0f921"
             ]
            ],
            "type": "histogram2dcontour"
           }
          ],
          "mesh3d": [
           {
            "colorbar": {
             "outlinewidth": 0,
             "ticks": ""
            },
            "type": "mesh3d"
           }
          ],
          "parcoords": [
           {
            "line": {
             "colorbar": {
              "outlinewidth": 0,
              "ticks": ""
             }
            },
            "type": "parcoords"
           }
          ],
          "pie": [
           {
            "automargin": true,
            "type": "pie"
           }
          ],
          "scatter": [
           {
            "marker": {
             "line": {
              "color": "#283442"
             }
            },
            "type": "scatter"
           }
          ],
          "scatter3d": [
           {
            "line": {
             "colorbar": {
              "outlinewidth": 0,
              "ticks": ""
             }
            },
            "marker": {
             "colorbar": {
              "outlinewidth": 0,
              "ticks": ""
             }
            },
            "type": "scatter3d"
           }
          ],
          "scattercarpet": [
           {
            "marker": {
             "colorbar": {
              "outlinewidth": 0,
              "ticks": ""
             }
            },
            "type": "scattercarpet"
           }
          ],
          "scattergeo": [
           {
            "marker": {
             "colorbar": {
              "outlinewidth": 0,
              "ticks": ""
             }
            },
            "type": "scattergeo"
           }
          ],
          "scattergl": [
           {
            "marker": {
             "line": {
              "color": "#283442"
             }
            },
            "type": "scattergl"
           }
          ],
          "scattermapbox": [
           {
            "marker": {
             "colorbar": {
              "outlinewidth": 0,
              "ticks": ""
             }
            },
            "type": "scattermapbox"
           }
          ],
          "scatterpolar": [
           {
            "marker": {
             "colorbar": {
              "outlinewidth": 0,
              "ticks": ""
             }
            },
            "type": "scatterpolar"
           }
          ],
          "scatterpolargl": [
           {
            "marker": {
             "colorbar": {
              "outlinewidth": 0,
              "ticks": ""
             }
            },
            "type": "scatterpolargl"
           }
          ],
          "scatterternary": [
           {
            "marker": {
             "colorbar": {
              "outlinewidth": 0,
              "ticks": ""
             }
            },
            "type": "scatterternary"
           }
          ],
          "surface": [
           {
            "colorbar": {
             "outlinewidth": 0,
             "ticks": ""
            },
            "colorscale": [
             [
              0,
              "#0d0887"
             ],
             [
              0.1111111111111111,
              "#46039f"
             ],
             [
              0.2222222222222222,
              "#7201a8"
             ],
             [
              0.3333333333333333,
              "#9c179e"
             ],
             [
              0.4444444444444444,
              "#bd3786"
             ],
             [
              0.5555555555555556,
              "#d8576b"
             ],
             [
              0.6666666666666666,
              "#ed7953"
             ],
             [
              0.7777777777777778,
              "#fb9f3a"
             ],
             [
              0.8888888888888888,
              "#fdca26"
             ],
             [
              1,
              "#f0f921"
             ]
            ],
            "type": "surface"
           }
          ],
          "table": [
           {
            "cells": {
             "fill": {
              "color": "#506784"
             },
             "line": {
              "color": "rgb(17,17,17)"
             }
            },
            "header": {
             "fill": {
              "color": "#2a3f5f"
             },
             "line": {
              "color": "rgb(17,17,17)"
             }
            },
            "type": "table"
           }
          ]
         },
         "layout": {
          "annotationdefaults": {
           "arrowcolor": "#f2f5fa",
           "arrowhead": 0,
           "arrowwidth": 1
          },
          "autotypenumbers": "strict",
          "coloraxis": {
           "colorbar": {
            "outlinewidth": 0,
            "ticks": ""
           }
          },
          "colorscale": {
           "diverging": [
            [
             0,
             "#8e0152"
            ],
            [
             0.1,
             "#c51b7d"
            ],
            [
             0.2,
             "#de77ae"
            ],
            [
             0.3,
             "#f1b6da"
            ],
            [
             0.4,
             "#fde0ef"
            ],
            [
             0.5,
             "#f7f7f7"
            ],
            [
             0.6,
             "#e6f5d0"
            ],
            [
             0.7,
             "#b8e186"
            ],
            [
             0.8,
             "#7fbc41"
            ],
            [
             0.9,
             "#4d9221"
            ],
            [
             1,
             "#276419"
            ]
           ],
           "sequential": [
            [
             0,
             "#0d0887"
            ],
            [
             0.1111111111111111,
             "#46039f"
            ],
            [
             0.2222222222222222,
             "#7201a8"
            ],
            [
             0.3333333333333333,
             "#9c179e"
            ],
            [
             0.4444444444444444,
             "#bd3786"
            ],
            [
             0.5555555555555556,
             "#d8576b"
            ],
            [
             0.6666666666666666,
             "#ed7953"
            ],
            [
             0.7777777777777778,
             "#fb9f3a"
            ],
            [
             0.8888888888888888,
             "#fdca26"
            ],
            [
             1,
             "#f0f921"
            ]
           ],
           "sequentialminus": [
            [
             0,
             "#0d0887"
            ],
            [
             0.1111111111111111,
             "#46039f"
            ],
            [
             0.2222222222222222,
             "#7201a8"
            ],
            [
             0.3333333333333333,
             "#9c179e"
            ],
            [
             0.4444444444444444,
             "#bd3786"
            ],
            [
             0.5555555555555556,
             "#d8576b"
            ],
            [
             0.6666666666666666,
             "#ed7953"
            ],
            [
             0.7777777777777778,
             "#fb9f3a"
            ],
            [
             0.8888888888888888,
             "#fdca26"
            ],
            [
             1,
             "#f0f921"
            ]
           ]
          },
          "colorway": [
           "#636efa",
           "#EF553B",
           "#00cc96",
           "#ab63fa",
           "#FFA15A",
           "#19d3f3",
           "#FF6692",
           "#B6E880",
           "#FF97FF",
           "#FECB52"
          ],
          "font": {
           "color": "#f2f5fa"
          },
          "geo": {
           "bgcolor": "rgb(17,17,17)",
           "lakecolor": "rgb(17,17,17)",
           "landcolor": "rgb(17,17,17)",
           "showlakes": true,
           "showland": true,
           "subunitcolor": "#506784"
          },
          "hoverlabel": {
           "align": "left"
          },
          "hovermode": "closest",
          "mapbox": {
           "style": "dark"
          },
          "paper_bgcolor": "rgb(17,17,17)",
          "plot_bgcolor": "rgb(17,17,17)",
          "polar": {
           "angularaxis": {
            "gridcolor": "#506784",
            "linecolor": "#506784",
            "ticks": ""
           },
           "bgcolor": "rgb(17,17,17)",
           "radialaxis": {
            "gridcolor": "#506784",
            "linecolor": "#506784",
            "ticks": ""
           }
          },
          "scene": {
           "xaxis": {
            "backgroundcolor": "rgb(17,17,17)",
            "gridcolor": "#506784",
            "gridwidth": 2,
            "linecolor": "#506784",
            "showbackground": true,
            "ticks": "",
            "zerolinecolor": "#C8D4E3"
           },
           "yaxis": {
            "backgroundcolor": "rgb(17,17,17)",
            "gridcolor": "#506784",
            "gridwidth": 2,
            "linecolor": "#506784",
            "showbackground": true,
            "ticks": "",
            "zerolinecolor": "#C8D4E3"
           },
           "zaxis": {
            "backgroundcolor": "rgb(17,17,17)",
            "gridcolor": "#506784",
            "gridwidth": 2,
            "linecolor": "#506784",
            "showbackground": true,
            "ticks": "",
            "zerolinecolor": "#C8D4E3"
           }
          },
          "shapedefaults": {
           "line": {
            "color": "#f2f5fa"
           }
          },
          "sliderdefaults": {
           "bgcolor": "#C8D4E3",
           "bordercolor": "rgb(17,17,17)",
           "borderwidth": 1,
           "tickwidth": 0
          },
          "ternary": {
           "aaxis": {
            "gridcolor": "#506784",
            "linecolor": "#506784",
            "ticks": ""
           },
           "baxis": {
            "gridcolor": "#506784",
            "linecolor": "#506784",
            "ticks": ""
           },
           "bgcolor": "rgb(17,17,17)",
           "caxis": {
            "gridcolor": "#506784",
            "linecolor": "#506784",
            "ticks": ""
           }
          },
          "title": {
           "x": 0.05
          },
          "updatemenudefaults": {
           "bgcolor": "#506784",
           "borderwidth": 0
          },
          "xaxis": {
           "automargin": true,
           "gridcolor": "#283442",
           "linecolor": "#506784",
           "ticks": "",
           "title": {
            "standoff": 15
           },
           "zerolinecolor": "#283442",
           "zerolinewidth": 2
          },
          "yaxis": {
           "automargin": true,
           "gridcolor": "#283442",
           "linecolor": "#506784",
           "ticks": "",
           "title": {
            "standoff": 15
           },
           "zerolinecolor": "#283442",
           "zerolinewidth": 2
          }
         }
        },
        "title": {
         "text": "Cinsiyetler Bazında Yaş & Toplam Harcama Tutarı"
        },
        "xaxis": {
         "title": {
          "text": "Yaş"
         }
        },
        "yaxis": {
         "title": {
          "text": "Toplam Harcama"
         }
        }
       }
      },
      "text/html": [
       "<div>                            <div id=\"f936a9e6-d1a9-4b74-ba12-8a5dc3e1ee13\" class=\"plotly-graph-div\" style=\"height:525px; width:100%;\"></div>            <script type=\"text/javascript\">                require([\"plotly\"], function(Plotly) {                    window.PLOTLYENV=window.PLOTLYENV || {};                                    if (document.getElementById(\"f936a9e6-d1a9-4b74-ba12-8a5dc3e1ee13\")) {                    Plotly.newPlot(                        \"f936a9e6-d1a9-4b74-ba12-8a5dc3e1ee13\",                        [{\"mode\":\"markers\",\"name\":\"Male\",\"x\":[33,41,55,26,51,49,32,29,53,21,49,39,44,49,35,57,32,25,54,28,18,57,43,22,52,18,21,48,19,44,19,47,54,56,39,31,48,27,54,55,22,47,22,24,28,46,33,23,31,36,21,25,51,37,39,21,31,51,50,22,22,41,31,40,50,19,31,45,38,34,20,47,31,31,47,46,37,55,49,20,29,44,57,27,59,45,18,43,44,28,37,31,38,23,20,58,23,51,56,35,34,38,58,28,43,32,53,56,47,37,42,31,47,43,31,47,56,55,37,38,39,35,49,39,28,22,47,40,33,39,34,45,31,51,28,44,44,43,18,45,27,52,38,31,45,36,33,37,48,43,35,20,18,40,58,46,28,32,26,31,56,18,57,54,26,31,26,37,30,27,18,19,22,21,37,20,54,57,45,58,50,33,31,27,32,51,44,59,55,19,33,32,56,31,44,20,29,20,35,31,34,31,53,20,54,52,24,31,48,46,46,39,21,35,23,29,24,56,52,45,38],\"y\":[2770,4797,5164,2099,6595,6814,2923,4369,2557,1619,5137,2163,5679,6024,3234,5030,1526,3584,4243,1528,1207,4896,4673,1543,6344,1651,1623,5439,996,4177,1987,6897,6031,4306,5136,1143,5991,1697,3672,3397,1706,4021,1294,2491,2268,6033,2028,1625,1272,3732,1998,1285,4507,4916,1874,2579,2836,3382,2853,868,2891,5910,2867,1953,2939,1510,2478,3233,2479,1340,2729,4505,1786,3332,3533,5102,2125,3739,4181,2276,1991,3548,5589,3864,4015,3130,1110,1952,4924,1962,2021,4801,1858,1121,2822,2954,2791,3149,6343,5205,3230,2245,3299,2001,4189,3908,4258,5539,5470,4964,5834,1455,4510,4607,2869,6528,4683,4793,3080,3037,4940,2787,2478,1996,2232,2146,5111,5313,2998,4686,2102,3986,3609,3136,3591,2247,2803,2055,798,2458,2596,7548,2211,3754,2680,4426,4001,4912,6928,2016,2326,2411,725,4695,3096,4654,3989,3686,1808,4321,7248,1162,5943,5918,3842,4745,3520,2686,3431,1827,1606,2967,1342,2209,4351,1443,3047,2223,3824,2774,5954,2100,1331,3476,1995,4806,1891,2704,6467,1170,4264,4120,8030,3130,5288,2143,1274,868,4259,4161,4220,4503,5849,2884,4859,7629,1318,3236,4847,4350,4623,3939,1223,2281,2978,2834,1872,5669,2675,2687,5233],\"type\":\"scatter\"},{\"mode\":\"markers\",\"name\":\"Female\",\"x\":[51,45,33,43,43,24,57,52,32,51,46,51,18,30,27,26,41,50,56,50,20,23,46,39,26,30,56,29,37,24,51,49,57,56,36,57,39,50,46,28,40,38,53,38,36,45,52,20,50,19,28,39,23,31,50,38,47,41,26,21,50,33,27,59,46,28,24,24,50,36,20,42,46,37,52,54,51,39,24,40,44,21,25,28,31,47,38,55,23,29,28,39,52,25,22,23,57,41,52,24,47,41,35,35,19,33,34,54,22,48,49,58,18,49,41,25,27,26,32,40,52,47,57,38,57,53,36,59,34,48,26,50,20,33,28,25,45,33,45,27,31,21,28,59,26,28,49,55,52,27,50,29,41,38,29,42,27,29,41,54,53,42,33,48,29,22,32,34,56,25,34,59,46,30,33,49,58,58,37,30,55,47,18,22,29,21,38,24,22,29,23,21,21,24,34,47,32,51,43,49,46,45,29,34,51,29,27,55,34,48,30,23,50,38,36,22,29,49,26,59,50,59,36,42,45,55,27,25,43,50],\"y\":[3466,3990,1876,4296,5798,2790,4443,7140,1727,2397,6550,4741,2029,3061,2827,1632,4915,2182,6455,3437,1393,1938,4570,4320,1285,2239,3501,4166,4400,2827,7405,3041,4657,4135,1909,7865,1605,2609,5757,3617,2849,5004,5040,2109,2112,4825,6526,2679,3483,1113,1839,5784,1997,3753,6427,1873,4041,4749,1655,1560,3295,1923,2701,3996,4606,4052,2864,2690,4311,1828,2146,3611,5034,3845,3770,6968,4328,4818,1434,2555,6500,2960,1156,3913,4248,3210,3776,3378,2463,2933,1207,4072,5722,3598,1895,2813,6500,4298,3567,2409,2239,3701,3542,4835,2564,1290,2377,3818,2640,3666,5611,7186,1998,5031,5773,2301,1167,1672,3860,1796,2779,1806,6779,5241,6279,3031,5347,8153,3232,4282,1362,4792,2087,3666,3728,3550,5973,3941,6424,3483,4287,1058,2844,3585,3415,4201,5117,7085,2975,2211,7281,3259,6049,5158,2687,4666,3643,1717,3086,6888,6834,1819,2065,2012,2347,3138,1871,2428,3080,1688,4556,5349,6502,2067,1875,6924,6787,8555,4988,3697,7000,4192,1822,1882,4389,1072,3107,864,1655,1328,2085,2114,1885,2271,4206,2832,2017,4380,3108,2705,4931,6142,2407,4824,4412,4307,2205,3545,1673,3777,3256,2181,4974,4080,2445,3185,3545,2079,3117,3786,3533,6560,2228,3175,3183,7060,1707,2418,5895,5930],\"type\":\"scatter\"}],                        {\"template\":{\"data\":{\"barpolar\":[{\"marker\":{\"line\":{\"color\":\"rgb(17,17,17)\",\"width\":0.5},\"pattern\":{\"fillmode\":\"overlay\",\"size\":10,\"solidity\":0.2}},\"type\":\"barpolar\"}],\"bar\":[{\"error_x\":{\"color\":\"#f2f5fa\"},\"error_y\":{\"color\":\"#f2f5fa\"},\"marker\":{\"line\":{\"color\":\"rgb(17,17,17)\",\"width\":0.5},\"pattern\":{\"fillmode\":\"overlay\",\"size\":10,\"solidity\":0.2}},\"type\":\"bar\"}],\"carpet\":[{\"aaxis\":{\"endlinecolor\":\"#A2B1C6\",\"gridcolor\":\"#506784\",\"linecolor\":\"#506784\",\"minorgridcolor\":\"#506784\",\"startlinecolor\":\"#A2B1C6\"},\"baxis\":{\"endlinecolor\":\"#A2B1C6\",\"gridcolor\":\"#506784\",\"linecolor\":\"#506784\",\"minorgridcolor\":\"#506784\",\"startlinecolor\":\"#A2B1C6\"},\"type\":\"carpet\"}],\"choropleth\":[{\"colorbar\":{\"outlinewidth\":0,\"ticks\":\"\"},\"type\":\"choropleth\"}],\"contourcarpet\":[{\"colorbar\":{\"outlinewidth\":0,\"ticks\":\"\"},\"type\":\"contourcarpet\"}],\"contour\":[{\"colorbar\":{\"outlinewidth\":0,\"ticks\":\"\"},\"colorscale\":[[0.0,\"#0d0887\"],[0.1111111111111111,\"#46039f\"],[0.2222222222222222,\"#7201a8\"],[0.3333333333333333,\"#9c179e\"],[0.4444444444444444,\"#bd3786\"],[0.5555555555555556,\"#d8576b\"],[0.6666666666666666,\"#ed7953\"],[0.7777777777777778,\"#fb9f3a\"],[0.8888888888888888,\"#fdca26\"],[1.0,\"#f0f921\"]],\"type\":\"contour\"}],\"heatmapgl\":[{\"colorbar\":{\"outlinewidth\":0,\"ticks\":\"\"},\"colorscale\":[[0.0,\"#0d0887\"],[0.1111111111111111,\"#46039f\"],[0.2222222222222222,\"#7201a8\"],[0.3333333333333333,\"#9c179e\"],[0.4444444444444444,\"#bd3786\"],[0.5555555555555556,\"#d8576b\"],[0.6666666666666666,\"#ed7953\"],[0.7777777777777778,\"#fb9f3a\"],[0.8888888888888888,\"#fdca26\"],[1.0,\"#f0f921\"]],\"type\":\"heatmapgl\"}],\"heatmap\":[{\"colorbar\":{\"outlinewidth\":0,\"ticks\":\"\"},\"colorscale\":[[0.0,\"#0d0887\"],[0.1111111111111111,\"#46039f\"],[0.2222222222222222,\"#7201a8\"],[0.3333333333333333,\"#9c179e\"],[0.4444444444444444,\"#bd3786\"],[0.5555555555555556,\"#d8576b\"],[0.6666666666666666,\"#ed7953\"],[0.7777777777777778,\"#fb9f3a\"],[0.8888888888888888,\"#fdca26\"],[1.0,\"#f0f921\"]],\"type\":\"heatmap\"}],\"histogram2dcontour\":[{\"colorbar\":{\"outlinewidth\":0,\"ticks\":\"\"},\"colorscale\":[[0.0,\"#0d0887\"],[0.1111111111111111,\"#46039f\"],[0.2222222222222222,\"#7201a8\"],[0.3333333333333333,\"#9c179e\"],[0.4444444444444444,\"#bd3786\"],[0.5555555555555556,\"#d8576b\"],[0.6666666666666666,\"#ed7953\"],[0.7777777777777778,\"#fb9f3a\"],[0.8888888888888888,\"#fdca26\"],[1.0,\"#f0f921\"]],\"type\":\"histogram2dcontour\"}],\"histogram2d\":[{\"colorbar\":{\"outlinewidth\":0,\"ticks\":\"\"},\"colorscale\":[[0.0,\"#0d0887\"],[0.1111111111111111,\"#46039f\"],[0.2222222222222222,\"#7201a8\"],[0.3333333333333333,\"#9c179e\"],[0.4444444444444444,\"#bd3786\"],[0.5555555555555556,\"#d8576b\"],[0.6666666666666666,\"#ed7953\"],[0.7777777777777778,\"#fb9f3a\"],[0.8888888888888888,\"#fdca26\"],[1.0,\"#f0f921\"]],\"type\":\"histogram2d\"}],\"histogram\":[{\"marker\":{\"pattern\":{\"fillmode\":\"overlay\",\"size\":10,\"solidity\":0.2}},\"type\":\"histogram\"}],\"mesh3d\":[{\"colorbar\":{\"outlinewidth\":0,\"ticks\":\"\"},\"type\":\"mesh3d\"}],\"parcoords\":[{\"line\":{\"colorbar\":{\"outlinewidth\":0,\"ticks\":\"\"}},\"type\":\"parcoords\"}],\"pie\":[{\"automargin\":true,\"type\":\"pie\"}],\"scatter3d\":[{\"line\":{\"colorbar\":{\"outlinewidth\":0,\"ticks\":\"\"}},\"marker\":{\"colorbar\":{\"outlinewidth\":0,\"ticks\":\"\"}},\"type\":\"scatter3d\"}],\"scattercarpet\":[{\"marker\":{\"colorbar\":{\"outlinewidth\":0,\"ticks\":\"\"}},\"type\":\"scattercarpet\"}],\"scattergeo\":[{\"marker\":{\"colorbar\":{\"outlinewidth\":0,\"ticks\":\"\"}},\"type\":\"scattergeo\"}],\"scattergl\":[{\"marker\":{\"line\":{\"color\":\"#283442\"}},\"type\":\"scattergl\"}],\"scattermapbox\":[{\"marker\":{\"colorbar\":{\"outlinewidth\":0,\"ticks\":\"\"}},\"type\":\"scattermapbox\"}],\"scatterpolargl\":[{\"marker\":{\"colorbar\":{\"outlinewidth\":0,\"ticks\":\"\"}},\"type\":\"scatterpolargl\"}],\"scatterpolar\":[{\"marker\":{\"colorbar\":{\"outlinewidth\":0,\"ticks\":\"\"}},\"type\":\"scatterpolar\"}],\"scatter\":[{\"marker\":{\"line\":{\"color\":\"#283442\"}},\"type\":\"scatter\"}],\"scatterternary\":[{\"marker\":{\"colorbar\":{\"outlinewidth\":0,\"ticks\":\"\"}},\"type\":\"scatterternary\"}],\"surface\":[{\"colorbar\":{\"outlinewidth\":0,\"ticks\":\"\"},\"colorscale\":[[0.0,\"#0d0887\"],[0.1111111111111111,\"#46039f\"],[0.2222222222222222,\"#7201a8\"],[0.3333333333333333,\"#9c179e\"],[0.4444444444444444,\"#bd3786\"],[0.5555555555555556,\"#d8576b\"],[0.6666666666666666,\"#ed7953\"],[0.7777777777777778,\"#fb9f3a\"],[0.8888888888888888,\"#fdca26\"],[1.0,\"#f0f921\"]],\"type\":\"surface\"}],\"table\":[{\"cells\":{\"fill\":{\"color\":\"#506784\"},\"line\":{\"color\":\"rgb(17,17,17)\"}},\"header\":{\"fill\":{\"color\":\"#2a3f5f\"},\"line\":{\"color\":\"rgb(17,17,17)\"}},\"type\":\"table\"}]},\"layout\":{\"annotationdefaults\":{\"arrowcolor\":\"#f2f5fa\",\"arrowhead\":0,\"arrowwidth\":1},\"autotypenumbers\":\"strict\",\"coloraxis\":{\"colorbar\":{\"outlinewidth\":0,\"ticks\":\"\"}},\"colorscale\":{\"diverging\":[[0,\"#8e0152\"],[0.1,\"#c51b7d\"],[0.2,\"#de77ae\"],[0.3,\"#f1b6da\"],[0.4,\"#fde0ef\"],[0.5,\"#f7f7f7\"],[0.6,\"#e6f5d0\"],[0.7,\"#b8e186\"],[0.8,\"#7fbc41\"],[0.9,\"#4d9221\"],[1,\"#276419\"]],\"sequential\":[[0.0,\"#0d0887\"],[0.1111111111111111,\"#46039f\"],[0.2222222222222222,\"#7201a8\"],[0.3333333333333333,\"#9c179e\"],[0.4444444444444444,\"#bd3786\"],[0.5555555555555556,\"#d8576b\"],[0.6666666666666666,\"#ed7953\"],[0.7777777777777778,\"#fb9f3a\"],[0.8888888888888888,\"#fdca26\"],[1.0,\"#f0f921\"]],\"sequentialminus\":[[0.0,\"#0d0887\"],[0.1111111111111111,\"#46039f\"],[0.2222222222222222,\"#7201a8\"],[0.3333333333333333,\"#9c179e\"],[0.4444444444444444,\"#bd3786\"],[0.5555555555555556,\"#d8576b\"],[0.6666666666666666,\"#ed7953\"],[0.7777777777777778,\"#fb9f3a\"],[0.8888888888888888,\"#fdca26\"],[1.0,\"#f0f921\"]]},\"colorway\":[\"#636efa\",\"#EF553B\",\"#00cc96\",\"#ab63fa\",\"#FFA15A\",\"#19d3f3\",\"#FF6692\",\"#B6E880\",\"#FF97FF\",\"#FECB52\"],\"font\":{\"color\":\"#f2f5fa\"},\"geo\":{\"bgcolor\":\"rgb(17,17,17)\",\"lakecolor\":\"rgb(17,17,17)\",\"landcolor\":\"rgb(17,17,17)\",\"showlakes\":true,\"showland\":true,\"subunitcolor\":\"#506784\"},\"hoverlabel\":{\"align\":\"left\"},\"hovermode\":\"closest\",\"mapbox\":{\"style\":\"dark\"},\"paper_bgcolor\":\"rgb(17,17,17)\",\"plot_bgcolor\":\"rgb(17,17,17)\",\"polar\":{\"angularaxis\":{\"gridcolor\":\"#506784\",\"linecolor\":\"#506784\",\"ticks\":\"\"},\"bgcolor\":\"rgb(17,17,17)\",\"radialaxis\":{\"gridcolor\":\"#506784\",\"linecolor\":\"#506784\",\"ticks\":\"\"}},\"scene\":{\"xaxis\":{\"backgroundcolor\":\"rgb(17,17,17)\",\"gridcolor\":\"#506784\",\"gridwidth\":2,\"linecolor\":\"#506784\",\"showbackground\":true,\"ticks\":\"\",\"zerolinecolor\":\"#C8D4E3\"},\"yaxis\":{\"backgroundcolor\":\"rgb(17,17,17)\",\"gridcolor\":\"#506784\",\"gridwidth\":2,\"linecolor\":\"#506784\",\"showbackground\":true,\"ticks\":\"\",\"zerolinecolor\":\"#C8D4E3\"},\"zaxis\":{\"backgroundcolor\":\"rgb(17,17,17)\",\"gridcolor\":\"#506784\",\"gridwidth\":2,\"linecolor\":\"#506784\",\"showbackground\":true,\"ticks\":\"\",\"zerolinecolor\":\"#C8D4E3\"}},\"shapedefaults\":{\"line\":{\"color\":\"#f2f5fa\"}},\"sliderdefaults\":{\"bgcolor\":\"#C8D4E3\",\"bordercolor\":\"rgb(17,17,17)\",\"borderwidth\":1,\"tickwidth\":0},\"ternary\":{\"aaxis\":{\"gridcolor\":\"#506784\",\"linecolor\":\"#506784\",\"ticks\":\"\"},\"baxis\":{\"gridcolor\":\"#506784\",\"linecolor\":\"#506784\",\"ticks\":\"\"},\"bgcolor\":\"rgb(17,17,17)\",\"caxis\":{\"gridcolor\":\"#506784\",\"linecolor\":\"#506784\",\"ticks\":\"\"}},\"title\":{\"x\":0.05},\"updatemenudefaults\":{\"bgcolor\":\"#506784\",\"borderwidth\":0},\"xaxis\":{\"automargin\":true,\"gridcolor\":\"#283442\",\"linecolor\":\"#506784\",\"ticks\":\"\",\"title\":{\"standoff\":15},\"zerolinecolor\":\"#283442\",\"zerolinewidth\":2},\"yaxis\":{\"automargin\":true,\"gridcolor\":\"#283442\",\"linecolor\":\"#506784\",\"ticks\":\"\",\"title\":{\"standoff\":15},\"zerolinecolor\":\"#283442\",\"zerolinewidth\":2}}},\"title\":{\"text\":\"Cinsiyetler Baz\\u0131nda Ya\\u015f & Toplam Harcama Tutar\\u0131\"},\"xaxis\":{\"title\":{\"text\":\"Ya\\u015f\"}},\"yaxis\":{\"title\":{\"text\":\"Toplam Harcama\"}}},                        {\"responsive\": true}                    ).then(function(){\n",
       "                            \n",
       "var gd = document.getElementById('f936a9e6-d1a9-4b74-ba12-8a5dc3e1ee13');\n",
       "var x = new MutationObserver(function (mutations, observer) {{\n",
       "        var display = window.getComputedStyle(gd).display;\n",
       "        if (!display || display === 'none') {{\n",
       "            console.log([gd, 'removed!']);\n",
       "            Plotly.purge(gd);\n",
       "            observer.disconnect();\n",
       "        }}\n",
       "}});\n",
       "\n",
       "// Listen for the removal of the full notebook cells\n",
       "var notebookContainer = gd.closest('#notebook-container');\n",
       "if (notebookContainer) {{\n",
       "    x.observe(notebookContainer, {childList: true});\n",
       "}}\n",
       "\n",
       "// Listen for the clearing of the current output cell\n",
       "var outputEl = gd.closest('.output');\n",
       "if (outputEl) {{\n",
       "    x.observe(outputEl, {childList: true});\n",
       "}}\n",
       "\n",
       "                        })                };                });            </script>        </div>"
      ]
     },
     "metadata": {},
     "output_type": "display_data"
    }
   ],
   "source": [
    "male = df.loc[df['user_gender'] == 'Male']\n",
    "female = df.loc[df['user_gender'] == 'Female']\n",
    "\n",
    "male_scatter = go.Scatter(x = male['user_age'],\n",
    "                          y = male['total_amount'],\n",
    "                          mode = 'markers',\n",
    "                          name = 'Male'\n",
    "                         )\n",
    "\n",
    "female_scatter = go.Scatter(x = female['user_age'],\n",
    "                            y = female['total_amount'],\n",
    "                            mode = 'markers',\n",
    "                            name = 'Female'\n",
    "                         )\n",
    "\n",
    "gender_layout = go.Layout(title = dict(text = 'Cinsiyetler Bazında Yaş & Toplam Harcama Tutarı'),\n",
    "                          xaxis = dict(title = 'Yaş'),\n",
    "                          yaxis = dict(title = 'Toplam Harcama'),\n",
    "                         \n",
    "                         template = 'plotly_dark') \n",
    "\n",
    "fig = go.Figure(data = [male_scatter, female_scatter], layout = gender_layout)\n",
    "\n",
    "iplot(fig)"
   ]
  },
  {
   "cell_type": "code",
   "execution_count": 43,
   "id": "ef49c819",
   "metadata": {},
   "outputs": [],
   "source": [
    "from plotly.subplots import make_subplots"
   ]
  },
  {
   "cell_type": "code",
   "execution_count": null,
   "id": "547bbce5",
   "metadata": {},
   "outputs": [],
   "source": [
    "a = int(input('SAYI GİRİNİZ: '))"
   ]
  },
  {
   "cell_type": "code",
   "execution_count": null,
   "id": "9e4e102d",
   "metadata": {},
   "outputs": [],
   "source": [
    "city = str(input('ŞEHİR GİRİNİZ: '))\n",
    "\n",
    "print(city)"
   ]
  },
  {
   "cell_type": "code",
   "execution_count": null,
   "id": "58753906",
   "metadata": {},
   "outputs": [],
   "source": [
    "def şehir_analizi():\n",
    "    \n",
    "    city = str(input('Şehir giriniz: '))\n",
    "    \n",
    "    if city not in df['user_city'].unique():\n",
    "        \n",
    "        print('Girdiğiniz şehir veri setinde mevcut değil :(')\n",
    "        \n",
    "    else:\n",
    "    \n",
    "        city_data = df.loc[df['user_city'] == city]\n",
    "        \n",
    "        bar_df = city_data.groupby('user_gender').agg({'total_amount': 'mean'}).reset_index()\n",
    "        \n",
    "        fig = make_subplots(rows = 1,\n",
    "                            cols = 2,\n",
    "                            subplot_titles = ['Cinsiyetler bazında ortalama tüketim',\n",
    "                                              'Yaş & Tüketim İlişkisi'])\n",
    "        \n",
    "        fig.add_trace(go.Bar(x = bar_df['user_gender'],\n",
    "                             y = bar_df['total_amount'],\n",
    "                             showlegend = False),\n",
    "                      \n",
    "                      row = 1, col = 1)\n",
    "        \n",
    "        fig.add_trace(go.Scatter(x = city_data['total_amount'],\n",
    "                                y = city_data['user_age'],\n",
    "                                showlegend = False,\n",
    "                                mode = 'markers'),\n",
    "                     \n",
    "                     row = 1, col = 2)\n",
    "        \n",
    "        fig.update_layout(title = dict(text = city + ' Kredi Kartı Tüketim Analizi',\n",
    "                                      x = 0.5),\n",
    "                         xaxis = dict(title = 'Cinsiyet'),\n",
    "                         yaxis = dict(title = 'Toplam Harcama'),\n",
    "                         xaxis2 = dict(title = 'Toplam Harcama'),\n",
    "                         yaxis2 = dict(title = 'Yaş'),\n",
    "                         template = 'plotly_dark')\n",
    "        \n",
    "        iplot(fig)"
   ]
  }
 ],
 "metadata": {
  "kernelspec": {
   "display_name": "Python 3 (ipykernel)",
   "language": "python",
   "name": "python3"
  },
  "language_info": {
   "codemirror_mode": {
    "name": "ipython",
    "version": 3
   },
   "file_extension": ".py",
   "mimetype": "text/x-python",
   "name": "python",
   "nbconvert_exporter": "python",
   "pygments_lexer": "ipython3",
   "version": "3.9.7"
  }
 },
 "nbformat": 4,
 "nbformat_minor": 5
}
